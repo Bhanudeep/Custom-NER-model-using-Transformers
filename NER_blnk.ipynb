{
  "nbformat": 4,
  "nbformat_minor": 0,
  "metadata": {
    "colab": {
      "provenance": [],
      "gpuType": "T4"
    },
    "kernelspec": {
      "name": "python3",
      "display_name": "Python 3"
    },
    "language_info": {
      "name": "python"
    },
    "accelerator": "GPU"
  },
  "cells": [
    {
      "cell_type": "code",
      "source": [
        "!pip install spacy-transformers #this package is used to utilise the NER transformer from hugging face transfrmers to fine tune the model we are creating for best accuracy"
      ],
      "metadata": {
        "id": "Ihn2O5gbsqtl",
        "colab": {
          "base_uri": "https://localhost:8080/"
        },
        "outputId": "32fe0846-92ef-40d4-9a74-fe50bdf83534"
      },
      "execution_count": null,
      "outputs": [
        {
          "output_type": "stream",
          "name": "stdout",
          "text": [
            "Collecting spacy-transformers\n",
            "  Downloading spacy_transformers-1.2.5-cp310-cp310-manylinux_2_17_x86_64.manylinux2014_x86_64.whl (190 kB)\n",
            "\u001b[?25l     \u001b[90m━━━━━━━━━━━━━━━━━━━━━━━━━━━━━━━━━━━━━━━━\u001b[0m \u001b[32m0.0/190.8 kB\u001b[0m \u001b[31m?\u001b[0m eta \u001b[36m-:--:--\u001b[0m\r\u001b[2K     \u001b[90m━━━━━━━━━━━━━━━━━━━━━━━━━━━━━━━━━━━━━━\u001b[0m \u001b[32m190.8/190.8 kB\u001b[0m \u001b[31m10.6 MB/s\u001b[0m eta \u001b[36m0:00:00\u001b[0m\n",
            "\u001b[?25hRequirement already satisfied: spacy<4.0.0,>=3.5.0 in /usr/local/lib/python3.10/dist-packages (from spacy-transformers) (3.5.3)\n",
            "Requirement already satisfied: numpy>=1.15.0 in /usr/local/lib/python3.10/dist-packages (from spacy-transformers) (1.22.4)\n",
            "Collecting transformers<4.31.0,>=3.4.0 (from spacy-transformers)\n",
            "  Downloading transformers-4.30.2-py3-none-any.whl (7.2 MB)\n",
            "\u001b[2K     \u001b[90m━━━━━━━━━━━━━━━━━━━━━━━━━━━━━━━━━━━━━━━━\u001b[0m \u001b[32m7.2/7.2 MB\u001b[0m \u001b[31m83.7 MB/s\u001b[0m eta \u001b[36m0:00:00\u001b[0m\n",
            "\u001b[?25hRequirement already satisfied: torch>=1.8.0 in /usr/local/lib/python3.10/dist-packages (from spacy-transformers) (2.0.1+cu118)\n",
            "Requirement already satisfied: srsly<3.0.0,>=2.4.0 in /usr/local/lib/python3.10/dist-packages (from spacy-transformers) (2.4.6)\n",
            "Collecting spacy-alignments<1.0.0,>=0.7.2 (from spacy-transformers)\n",
            "  Downloading spacy_alignments-0.9.0-cp310-cp310-manylinux_2_17_x86_64.manylinux2014_x86_64.whl (1.2 MB)\n",
            "\u001b[2K     \u001b[90m━━━━━━━━━━━━━━━━━━━━━━━━━━━━━━━━━━━━━━━━\u001b[0m \u001b[32m1.2/1.2 MB\u001b[0m \u001b[31m62.0 MB/s\u001b[0m eta \u001b[36m0:00:00\u001b[0m\n",
            "\u001b[?25hRequirement already satisfied: spacy-legacy<3.1.0,>=3.0.11 in /usr/local/lib/python3.10/dist-packages (from spacy<4.0.0,>=3.5.0->spacy-transformers) (3.0.12)\n",
            "Requirement already satisfied: spacy-loggers<2.0.0,>=1.0.0 in /usr/local/lib/python3.10/dist-packages (from spacy<4.0.0,>=3.5.0->spacy-transformers) (1.0.4)\n",
            "Requirement already satisfied: murmurhash<1.1.0,>=0.28.0 in /usr/local/lib/python3.10/dist-packages (from spacy<4.0.0,>=3.5.0->spacy-transformers) (1.0.9)\n",
            "Requirement already satisfied: cymem<2.1.0,>=2.0.2 in /usr/local/lib/python3.10/dist-packages (from spacy<4.0.0,>=3.5.0->spacy-transformers) (2.0.7)\n",
            "Requirement already satisfied: preshed<3.1.0,>=3.0.2 in /usr/local/lib/python3.10/dist-packages (from spacy<4.0.0,>=3.5.0->spacy-transformers) (3.0.8)\n",
            "Requirement already satisfied: thinc<8.2.0,>=8.1.8 in /usr/local/lib/python3.10/dist-packages (from spacy<4.0.0,>=3.5.0->spacy-transformers) (8.1.10)\n",
            "Requirement already satisfied: wasabi<1.2.0,>=0.9.1 in /usr/local/lib/python3.10/dist-packages (from spacy<4.0.0,>=3.5.0->spacy-transformers) (1.1.2)\n",
            "Requirement already satisfied: catalogue<2.1.0,>=2.0.6 in /usr/local/lib/python3.10/dist-packages (from spacy<4.0.0,>=3.5.0->spacy-transformers) (2.0.8)\n",
            "Requirement already satisfied: typer<0.8.0,>=0.3.0 in /usr/local/lib/python3.10/dist-packages (from spacy<4.0.0,>=3.5.0->spacy-transformers) (0.7.0)\n",
            "Requirement already satisfied: pathy>=0.10.0 in /usr/local/lib/python3.10/dist-packages (from spacy<4.0.0,>=3.5.0->spacy-transformers) (0.10.2)\n",
            "Requirement already satisfied: smart-open<7.0.0,>=5.2.1 in /usr/local/lib/python3.10/dist-packages (from spacy<4.0.0,>=3.5.0->spacy-transformers) (6.3.0)\n",
            "Requirement already satisfied: tqdm<5.0.0,>=4.38.0 in /usr/local/lib/python3.10/dist-packages (from spacy<4.0.0,>=3.5.0->spacy-transformers) (4.65.0)\n",
            "Requirement already satisfied: requests<3.0.0,>=2.13.0 in /usr/local/lib/python3.10/dist-packages (from spacy<4.0.0,>=3.5.0->spacy-transformers) (2.27.1)\n",
            "Requirement already satisfied: pydantic!=1.8,!=1.8.1,<1.11.0,>=1.7.4 in /usr/local/lib/python3.10/dist-packages (from spacy<4.0.0,>=3.5.0->spacy-transformers) (1.10.9)\n",
            "Requirement already satisfied: jinja2 in /usr/local/lib/python3.10/dist-packages (from spacy<4.0.0,>=3.5.0->spacy-transformers) (3.1.2)\n",
            "Requirement already satisfied: setuptools in /usr/local/lib/python3.10/dist-packages (from spacy<4.0.0,>=3.5.0->spacy-transformers) (67.7.2)\n",
            "Requirement already satisfied: packaging>=20.0 in /usr/local/lib/python3.10/dist-packages (from spacy<4.0.0,>=3.5.0->spacy-transformers) (23.1)\n",
            "Requirement already satisfied: langcodes<4.0.0,>=3.2.0 in /usr/local/lib/python3.10/dist-packages (from spacy<4.0.0,>=3.5.0->spacy-transformers) (3.3.0)\n",
            "Requirement already satisfied: filelock in /usr/local/lib/python3.10/dist-packages (from torch>=1.8.0->spacy-transformers) (3.12.2)\n",
            "Requirement already satisfied: typing-extensions in /usr/local/lib/python3.10/dist-packages (from torch>=1.8.0->spacy-transformers) (4.6.3)\n",
            "Requirement already satisfied: sympy in /usr/local/lib/python3.10/dist-packages (from torch>=1.8.0->spacy-transformers) (1.11.1)\n",
            "Requirement already satisfied: networkx in /usr/local/lib/python3.10/dist-packages (from torch>=1.8.0->spacy-transformers) (3.1)\n",
            "Requirement already satisfied: triton==2.0.0 in /usr/local/lib/python3.10/dist-packages (from torch>=1.8.0->spacy-transformers) (2.0.0)\n",
            "Requirement already satisfied: cmake in /usr/local/lib/python3.10/dist-packages (from triton==2.0.0->torch>=1.8.0->spacy-transformers) (3.25.2)\n",
            "Requirement already satisfied: lit in /usr/local/lib/python3.10/dist-packages (from triton==2.0.0->torch>=1.8.0->spacy-transformers) (16.0.6)\n",
            "Collecting huggingface-hub<1.0,>=0.14.1 (from transformers<4.31.0,>=3.4.0->spacy-transformers)\n",
            "  Downloading huggingface_hub-0.15.1-py3-none-any.whl (236 kB)\n",
            "\u001b[2K     \u001b[90m━━━━━━━━━━━━━━━━━━━━━━━━━━━━━━━━━━━━━━\u001b[0m \u001b[32m236.8/236.8 kB\u001b[0m \u001b[31m29.6 MB/s\u001b[0m eta \u001b[36m0:00:00\u001b[0m\n",
            "\u001b[?25hRequirement already satisfied: pyyaml>=5.1 in /usr/local/lib/python3.10/dist-packages (from transformers<4.31.0,>=3.4.0->spacy-transformers) (6.0)\n",
            "Requirement already satisfied: regex!=2019.12.17 in /usr/local/lib/python3.10/dist-packages (from transformers<4.31.0,>=3.4.0->spacy-transformers) (2022.10.31)\n",
            "Collecting tokenizers!=0.11.3,<0.14,>=0.11.1 (from transformers<4.31.0,>=3.4.0->spacy-transformers)\n",
            "  Downloading tokenizers-0.13.3-cp310-cp310-manylinux_2_17_x86_64.manylinux2014_x86_64.whl (7.8 MB)\n",
            "\u001b[2K     \u001b[90m━━━━━━━━━━━━━━━━━━━━━━━━━━━━━━━━━━━━━━━━\u001b[0m \u001b[32m7.8/7.8 MB\u001b[0m \u001b[31m101.6 MB/s\u001b[0m eta \u001b[36m0:00:00\u001b[0m\n",
            "\u001b[?25hCollecting safetensors>=0.3.1 (from transformers<4.31.0,>=3.4.0->spacy-transformers)\n",
            "  Downloading safetensors-0.3.1-cp310-cp310-manylinux_2_17_x86_64.manylinux2014_x86_64.whl (1.3 MB)\n",
            "\u001b[2K     \u001b[90m━━━━━━━━━━━━━━━━━━━━━━━━━━━━━━━━━━━━━━━━\u001b[0m \u001b[32m1.3/1.3 MB\u001b[0m \u001b[31m80.7 MB/s\u001b[0m eta \u001b[36m0:00:00\u001b[0m\n",
            "\u001b[?25hRequirement already satisfied: fsspec in /usr/local/lib/python3.10/dist-packages (from huggingface-hub<1.0,>=0.14.1->transformers<4.31.0,>=3.4.0->spacy-transformers) (2023.6.0)\n",
            "Requirement already satisfied: urllib3<1.27,>=1.21.1 in /usr/local/lib/python3.10/dist-packages (from requests<3.0.0,>=2.13.0->spacy<4.0.0,>=3.5.0->spacy-transformers) (1.26.16)\n",
            "Requirement already satisfied: certifi>=2017.4.17 in /usr/local/lib/python3.10/dist-packages (from requests<3.0.0,>=2.13.0->spacy<4.0.0,>=3.5.0->spacy-transformers) (2023.5.7)\n",
            "Requirement already satisfied: charset-normalizer~=2.0.0 in /usr/local/lib/python3.10/dist-packages (from requests<3.0.0,>=2.13.0->spacy<4.0.0,>=3.5.0->spacy-transformers) (2.0.12)\n",
            "Requirement already satisfied: idna<4,>=2.5 in /usr/local/lib/python3.10/dist-packages (from requests<3.0.0,>=2.13.0->spacy<4.0.0,>=3.5.0->spacy-transformers) (3.4)\n",
            "Requirement already satisfied: blis<0.8.0,>=0.7.8 in /usr/local/lib/python3.10/dist-packages (from thinc<8.2.0,>=8.1.8->spacy<4.0.0,>=3.5.0->spacy-transformers) (0.7.9)\n",
            "Requirement already satisfied: confection<1.0.0,>=0.0.1 in /usr/local/lib/python3.10/dist-packages (from thinc<8.2.0,>=8.1.8->spacy<4.0.0,>=3.5.0->spacy-transformers) (0.0.4)\n",
            "Requirement already satisfied: click<9.0.0,>=7.1.1 in /usr/local/lib/python3.10/dist-packages (from typer<0.8.0,>=0.3.0->spacy<4.0.0,>=3.5.0->spacy-transformers) (8.1.3)\n",
            "Requirement already satisfied: MarkupSafe>=2.0 in /usr/local/lib/python3.10/dist-packages (from jinja2->spacy<4.0.0,>=3.5.0->spacy-transformers) (2.1.3)\n",
            "Requirement already satisfied: mpmath>=0.19 in /usr/local/lib/python3.10/dist-packages (from sympy->torch>=1.8.0->spacy-transformers) (1.3.0)\n",
            "Installing collected packages: tokenizers, safetensors, spacy-alignments, huggingface-hub, transformers, spacy-transformers\n",
            "Successfully installed huggingface-hub-0.15.1 safetensors-0.3.1 spacy-alignments-0.9.0 spacy-transformers-1.2.5 tokenizers-0.13.3 transformers-4.30.2\n"
          ]
        }
      ]
    },
    {
      "cell_type": "code",
      "execution_count": null,
      "metadata": {
        "id": "SufIZmW7W6Lf"
      },
      "outputs": [],
      "source": [
        "TRAIN_DATA = [(\"HONDA\\n\\nHonda Motor India\\n\\n(A Unit of Honda Cars India Limited)\\nPAN:AAACH1765Q\\nCIN:U15114UP1995PLC099377\\nEMAIL:corporate@hondacarindia.com\\nWEBSITE:www.hondacarindia.com\\n\\nGST TAX INVOICE Page No.\\nINVOICE TYPE: B2B\\n\\nINVOICE SUB TYPE: INVOICE\\nSupply Type: Supply\\nORDER TYPE: Stock (MUM)\\n\\nPlot No. A-1, Sector 40/41, Surajpur-Kasna Road, Greater Noida Industrial\\n\\nDevelopment Area, Distt. Gautam Buddha Nagar, Uttar Pradesh-201306\\n\\nSeller Address:Survey Nos. 77, 78/1B, 78/3-5-6, 79/1-2 & 80,\\n\\nRaigad, Maharashtra, India-410206\\nSeller State Code 27\\nSeller GSTIN 27AAACH1765Q2Z3\\nService: NO\\n\\nBUYER NAME & ADDRESS :-\\n\\nMH690001\\n\\nSANTOSH AUTO AND PARTS PRIVATE LIMITED\\nSANTOSH AUTO AND PARTS PVT LTD\\nSURVEY NO.15, PLOT NO 83/2, 84\\n\\nJALGAON ROAD, SILLOD\\n\\nSILLOD Maharashtra INDIA 431112\\n\\nState Code/POS: 27 27\\n\\nGSTIN: 27AAYCS8034R1Z3\\n\\nGST INVOICE NO: MHSP/19/44817\\n\\nIRN: 215fd4319667945cd0a08b566d2cbc8cd5befafe733c8\\n\\nc3fcc2497c922b0d4cf\\n\\nCONSIGNEE ADDRESS :-\\n\\nSANTOSH AUTO AND PARTS PRIVATE LIMITED\\nSANTOSH AUTO AND PARTS PVT LTD\\nSURVEY NO.15, PLOT NO 83/2, 84\\n\\nJALGAON ROAD, SILLOD\\n\\nSILLOD Maharashtra INDIA 431112\\n\\nState Code/POS: 27 27\\n\\nPLACE OF SUPPLY: Maharashtra, MH\\n\\n10f 3\\n\\nDATE & TIME OF ISS = 14/09/202_ +~VERSION 1.01\\n0 14:39:53\\nCARRIER NAME:\\n\\nMODE OF DISPATCH: BY ROAD / BY AIR /BY HAND /BY SEA\\n\\nGR. NO: NO. OF CASES: 12\\nGR. DATE: 14/09/2020\\n\\nDELIVERY NO: 22516453\\n\\nWAYBILL NO:\\n\\n\",{\"entities\":[[0,5,\"COMPANY\"],[7,24,\"COMPANY\"],[26,62,\"COMPANY\"],[67,77,\"PAN\"],[82,103,\"CIN\"],[110,137,\"EMAIL\"],[146,167,\"WEBSITE\"],[194,282,\"GST TAX INVOICE\"],[284,425,\"ADDRESS \"],[442,522,\"SELLER ADDRESS\"],[541,543,\"SELLER STATE CODE\"],[557,572,\"SELLER STATE CODE\"],[611,776,\"BUYER NAME & ADDRESS\"],[808,823,\"GSTIN\"],[841,854,\"GST INVOICE NO\"],[861,927,\"IRN\"],[951,1106,\"CONSIGNEE ADDRESS\"],[1263,1296,\"MODE OF DISPATCH\"],[1358,1366,\"DELIVERY NO\"]]}),\n",
        "              (\"HONDA\\n\\nHonda Motor India\\n\\n(A Unit of Honda Cars India Limited)\\nPAN:AAACH1765Q\\nCIN:U15114UP1995PLC099377\\nEMAIL:corporate@hondacarindia.com\\nWEBSITE:www.hondacarindia.com\\n\\nPlot No. A-1, Sector 40/41, Surajpur-Kasna Road, Greater Noida Industrial\\nDevelopment Area, Distt. Gautam Buddha Nagar, Uttar Pradesh-201306\\n\\nSeller Address:Survey Nos. 77, 78/1B, 78/3-5-6, 79/1-2 & 80,\\n\\nRaigad,Maharashtra,India-410206\\nSeller State Code 27\\n\\nSeller GSTIN 27AAACH1765Q2Z3\\nService: NO\\n\\nBUYER NAME & ADDRESS :-\\n\\nMH690001\\nSANTOSH AUTO AND PARTS PRIVATE LIMITED\\nSANTOSH AUTO AND PARTS PVT LTD\\n\\nGST TAX INVOICE Page No.\\nINVOICE TYPE: B2B\\nINVOICE SUB TYPE: INVOICE\\nSupply Type: Supply\\nORDER TYPE: Stock (MUM)\\n\\nGST INVOICE NO: MHSP/19/44817\\n\\nIRN: 215fd4319667945cd0a08b566d2cbc8cd5befafe733c8\\n\\nc3icc2497c922b0d4cf\\n\\nCONSIGNEE ADDRESS :-\\n\\nSANTOSH AUTO AND PARTS PRIVATE LIMITED\\nSANTOSH AUTO AND PARTS PVT LTD\\n\\n1of3\\n\\nDATE & TIME OF ISS\\n\\nVERSION 1.01\\n\\n14/09/202\\n0 14:39:53\\nCARRIER NAME:\\n\\nMODE OF DISPATCH: BY ROAD / BY AIR /BY HAND /BY SEA\\n\\nSURVEY NO.15, PLOT NO 83/2, 84 SURVEY NO.15, PLOT NO 83/2, 84 GR. NO: NO. OF CASES: 12\\nJALGAON ROAD, SILLOD JALGAON ROAD, SILLOD GR. DATE: 14/09/2020\\nSILLOD Maharashtra INDIA 431112 SILLOD Maharashtra INDIA 431112 DELIVERY NO: 22516453\\nState Code/POS: 27 27 State Code/POS: 27 27\\nGSTIN: 27AAYCS8034R12Z3 PLACE OF SUPPLY: Maharashtra, MH WAYBILLNO: __\\nUnit Price Total Discount] Other | Taxable CGST SGST Total\\nS.No. Order Number Part Number Description HSN Qty Rs Rs Amount |Charges} Amount Rate Amount | Rate] Amount Amount\\n: : Rs. Rs. Rs. % Rs. % Rs. Rs.\\n1 -02-1920-00279 383740KTE601 REFLECTOR,FR.SIDEREF (94019000 10 20.92 209.20 0 0 209.20) 9 18.83) 9 18.83 246.86\\n2 +-02-1920-00279 53140KSPA70 GRIP COMP THROTTLE 491171090 10 36.76 367.60 0 0 367.60) 14 51.46] 14 51.46 470.52\\n3 -02-1920-00280 35200KSP920 SW ASSY WINKER 49111090 2 305.47 610.94 0 0 610.94, 9 54.98} 9 54.98 720.90\\n4 -02-1920-00281 23100KWPD0O1 BELT,DRIVE 87089900 7 297.30 2081.10 0 0 2081.10) 9 187.3| 9 187.3] 2455.70\\n5 -02-1920-00279 17681 KTE650 UBE,FUEL 40091100 20 23.46 469.20 0 0 469.20} 9 42.23| 9 42.23 553.66\\n6 -02-1920-00273 83840K14900 LID,L SIDE COVER 49111090 27.56 0 0 27.56 3.86| 14 3.86 35.28\\n7 -02-1920-00281 85121KWS900 KEY,BLANK 491171090 156.60 0 0 156.60 14.09| 9 14.09 184.78\\n8 -02-1920-00280 40520KSP860ZA |CASE,UNDHALFDRIVECHA 49111090 500.66 0 0 500.66 70.09} 14 70.09 640.84\\n9 -02-1920-00279 53100KTEA01 PIPE STEERING HANDLE 49111090 1289.65 0 0 1289.65) 180.55| 14 180.55) 1650.75\\nHO }02-1920-00281 IO5030KSP860 KIT,RACE STEERING 87089900 3877.80 0 0 3877.80 542.89] 14 542.89| 4963.58\\n11 +-02-1920-00279 18318K86D00 PROTECTOR,MUFFLER 87141090 110.44 0 0 110.44 15.46| 14 15.46 141.36\\n\\nPage No. 2o0f3\\nGST INVOICE NO: =MHSP/19/44817\\nUnit Price Total Discount] Other | Taxable CGST SGST Total\\nS.No. Order Number Part Number Description HSN Qty Rs Rs Amount |Charges} Amount Rate Amount | Rate] Amount Amount\\n: : Rs. Rs. Rs. % Rs. % Rs. Rs.\\n12 +-02-1920-00279 45220KCC841 PINCOMP.,HANGER 49111090 20 15.03 300.60 0 0 300.60) 14 42.08) 14 42.08 384.76\\n13 -02-1920-00273 I83740K14900 LID,R SIDE COVER 49111090 2 13.78 27.56 0 0 27.56) 14 3.86] 14 3.86 35.28\\n14 -02- 1920-00280 563230KSP860ZB |BRIDGE,FORKTOP *NH17 (49111090 1 404.33 404.33 0 0 404.33) 14 56.61| 14 56.61 517.55\\n15 +-02-1920-00279 24701KSP900 PEDAL,GEARCHANGE 49111090 7 141.33 989.31 0 0 989.31) 14 138.5} 14 138.5} 1266.31\\n16 +-02-1920-00281 12209GB4682 SEAL,VLV,STEM 49111090 10 19.64 196.40 0 0 196.40) 9 17.68|} 9 17.68 231.76\\n17 }+02-1920-00280 51500KSP872 FORK ASSY,L FRONT [94019000 1 | 1489.30 1489.30 0 0 1489.30) 14 208.5| 14 208.5| 1906.30\\n18 }+02-1920-00279 (06451GE2405 SEAL,SET PISTON 49111090 20 23.46 469.20 0 0 469.20) 14 65.69| 14 65.69 600.58\\n19 1+02-1920-00280 45251KSP861 DISK,FR.BRAKE 49111090 2 | 1190.18 2380.36 0 0 2380.36, 14 333.25| 14 333.25 | 3046.86\\n20 +-02-1920-00281 16016KSP911 SCREW SETA 49111090 10 46.26 462.60 0 0 462.60) 14 64.76| 14 64.76 592.12\\n21 -02-1920-00279 51490KST305 SEALSET,FR.FORK 491171090 8 138.79 1110.32 0 0 1110.32) 14 155.44; 14 155.44} 1421.20\\n22 |+02-1920-00281 B5200KTE651 SW ASSY,WINKER [94019000 1 370.75 370.75 0 0 370.75} 9 33.37| 9 33.37 437.49\\n23  |+02-1920-00280 17530KSPDO00ZC {TANK SUB ASSY,FUEL*N — (87141090 1 | 5356.37 5356.37 0 0 5356.37, 14 749.89| 14 749.89 | 6856.15\\n24 +-02-1920-00281 51103KWP940 COVER, R PIVOT 491171090 5 23.46 117.30 0 0 117.30} 14 16.42| 14 16.42 150.14\\n25  |+02-1920-00280 35010KSP861 KEY SET [94019000 5 624.25 3121.25 0 0 3121.25} 9 280.91} 9 280.91 | 3683.07\\n26 -02- 1920-00280 24701KSP900 PEDAL,GEARCHANGE 491171090 6 141.33 847.98 0 0 847.98) 14 118.72} 14 118.72} 1085.42\\n27 +-02-1920-00279 77260KTE600ZE |COWL SET RRR“*TYPE 491171090 1 409.94 409.94 0 0 409.94) 14 57.39| 14 57.39 524.72\\n28 -02-1920-00280 61100KSP860ZM |FENDER,FRONT*NHAO4M* {85061000 1 557.97 557.97 0 0 557.97, 14 78.12| 14 78.12 714.21\\n29 |02-1920-00280 40510KSP860ZA |CASE,UPPHALFDRIVECHA (49111090 2 250.33 500.66 0 0 500.66, 14 70.09} 14 70.09 640.84\\n30 -02-1920-00279 5O05380KTE910 BARCOMP.,SIDESTAND 491171090 10 71.62 716.20 0 0 716.20) 14 100.27; 14 100.27 916.74\\n1 -02-1920-00281 83120KTED11 UNIT,HEAD LIGHT [94019000 3 454.40 1363.20 0 0 1363.20) 9 122.69} 9 122.69| 1608.58\\nB2  |+02-1920-00280 51400KSP872 FORK ASSY,R FRONT 94019000 1 | 1489.30 1489.30 0 0 1489.30) 14 208.5| 14 208.5] 1906.30\\nB3 |+02-1920-00280 61100KSP860ZG |FENDER,FR. NHBO5P 49111090 1 568.09 568.09 0 0 568.09} 14 79.53} 14 79.53 727.15\\nB4  |+02-1920-00279 45132KCC841 BOOT,PINBUSH 49111090 30 9.51 285.30 0 0 285.30} 14 39.94] 14 39.94 365.18\\nB35 +-02-1920-00279 33110KTE741 UNIT HEAD LIGHT 491171090 3 442.36 1327.08 0 0 1327.08} 9 119.44; 9 119.44} 1565.96\\nB6  |+02-1920-00278 32100KSP860 HARNESS, WIRE 49111090 1 731.34 731.34 0 0 731.34, 9 65.82} 9 65.82 862.98\\nB37 +-02-1920-00279 77270KTE600ZE |COWL SET L RR *TYPE 491171090 1 410.67 410.67 0 0 410.67, 14 57.49| 14 57.49 525.65\\nB8 +-02-1920-00281 90306KTE91 1 NUT,FLANGE SPL 12MM 49111090 10 29.15 291.50 0 0 291.501 9 26.24| 9 26.24 343.98\\nB89  |+02-1920-00281 45132166016 BUSH, PIN 49111090 10 13.32 133.20 0 0 133.20) 14 18.65) 14 18.65 170.50\\n40  +02-1920-00281 383120KTEDO1 UNIT,HEAD LIGHT [94019000 3 454.40 1363.20 0 0 1363.20) 9 122.69} 9 122.69| 1608.58\\n261 37492.03 37492.03 4634.28 4634.28 | 46760.59\\nFour Thousand Six Hundred Thirt\\nCGST Four Only y VALUE OF GOODS 37492.03\\nCGST 4634.28\\nSGST pour ony Six Hundred Thirty TOTAL AMOUNT (In Words): SGST 4634.28\\nPAID AMOUNT: 0 Forty Six Thousand Seven Hundred Sixty TCs: 0\\n\\nOne Only\\nPage No.\\n\\nGST INVOICE NO: =.MHSP/19/44817\\n\\nBATCH NAME: AMOUNT DUE FOR PAYMENT: 46761 TOTAL (ROUND-OFF):\\nCertified that the particulars given above are true and\\ncorrect and the amount indicated represents the price\\nactually charged and that there is no flow of additional\\nconsideration directly or indirectly from the buyer.\\n\\nMATERIAL HYPOTHECATED BY :- State Bank of India\\n\\n1. SUBJECT TO DELHI JURISDICTION ONLY.\\n\\n2. CONSIGNMENT INSURED AGANIST TRANSIT POLICY NO.: 2423/60755031/00/000\\n\\n3 of 3\\n\\n46761\\n\",{\"entities\":[[326,404,\"SELLER ADDRESS\"],[440,455,\"SELLER GSTIN\"],[503,572,\"BUYER ADDRESS\"],[704,717,\"INVOICE NUMBER\"],[925,945,\"INVOICE DATE\"],[979,1012,\"ITEM FREIGHT\"],[1014,1044,\"BUYER ADDRESS\"],[1101,1121,\"BUYER ADDRESS\"],[1171,1195,\"BUYER ADDRESS\"],[1301,1317,\"BUYER GSTIN\"],[6257,6260,\"QUANTITY\"],[6261,6269,\"ITEM TOTAL\"],[6370,6378,\"NET AMOUNT\"],[6384,6391,\"CGST\"],[6455,6462,\"SGST\"],[6613,6618,\"GROSS AMOUNT\"]]}),\n",
        "(\"AEROSTAR HELMETS & ACCESSORIES UNIT-1 Details of Receiver (Billed To) Details of Consignee (Shiped To) :\\nHONDA MOTOR INDIA(A Unit of Honda Cars India Ltd) HONDA MOTOR INDIA(A Unit of Honda Cars India Ltd)\\nPlot No. SPL-1D, Tapukara Industrial Area, Kushkhera,Alwar Plot No. SPL-1D, Tapukara Industrial Area, Kushkhera,Alwar\\nx ‘Works-Plot No. A460, RIICO Ind.Area Chopanki, Bhiwadi, Kushkhera,Alwar \\\\— Kushkhera,Alwar\\nRajasthan,Pin Code 301019\\neS ri City: Tapukara PIN Code : 301707 Cont:- 7023333204 City: Tapukara PIN Code : 301707 Cont:- 7023333204 «, HS)\\nPIN Code: 307019 STATE : RAJASTHAN State Code : 08 State Name: RAJASTHAN | State Code: 08 State Name: RAJASTHAN %\\nGSTIN : O8ABEFA5297L 1ZY PAN : ABEFA5297L GSTIN : O8AAACH1765Q2Z3 PAN _LAAACH1765Q GSTIN: O08AAACH1765Q223 PAN; AAACH1765Q\\nINVOICE NO, :- _21-22/4PD/003418 |INVOICE DATE :- 31-JAN-2022 |” a | CustPoNo, :- 910503 ./* ORDER DATE. = 31-JAN-2022\\nDispatch No i= 21-22/10004/3407 Issue Date & Time :- 31-JAN-22 ai BUYER’S ORDER NO. :- SO22/4/286 Vendor Code :- : Place of Delivery :- RAJASTHAN\\nSr.| ITEMCODE | HSN | pescrIPTION | ety luom! MRP RATE | Disc.| TAXABLE IGST CGST | SGST | TOTAL GST\\nNo. | | SAC | (%) | AMT, % AMT | %; AMT | % AMT |\\nHELMET HONDA\\n|. 1 SPHFXHEL103BB 65061090 HELMET HALF FACE (XL-BASIC 504 NOs 436.20 436.20 0 2,19,844.80 90.00 0.00 9.00 19,786.03 9.00 19,786.03 39,572.06\\nGu “LD A BLACK) : a ; | — |\\nGroup Wise Total : 504 219844.80 0 19786.03 19786.03 39572.06\\n| HELMETS\\n7 yp 2 SPFFLHEL110BB 65061090 HELMET-FF LARGE(BASIC BLACK) _ 132 - ; ~560.12...0 73,935.84 0.00 (0.00 9.00 6,654.23 9.00 6,654.23 13,308.46\\n| | “A2+ 60 Group Wise Total : 132, vo Eke 22 273985.84 * 0 6654.23 6654.23 13308.46\\n; — : 7 - “Ly ~ ee — —— —\\n( GATE G\\ndw “Ror lo} Se ENTRY NO.8Y Fe pr 3/7 O[-2002 row)\\nanewase erat nee nen oto e . ZY)\\nAN 1072 —[o vei ed Tamed? 1 2-19 ZS ‘D\\nSIAN TE Yo | SAQ MACHER No, : RW a\\ni=) \\\\ ceneoss TOTAL: ! ne 293780.64 0 26440.26 26440.26 52880.52\\nGATE ENTRY NO Pa ves erate ;\\nRRGR NO TIME _..SAEE DADO RGR Date m 31-JAN:22...., BASIC AMOUNT 2,93,780.64\\nEway Bill No. SEGURE “Way Bill Date :- 2022-01-31 11:18:00\\\" ee FREIGHT\\n. INSURANCE\\nTransporter’s Name :- SAFETRANS LOGISTIC Vehicle. NO. te ~~ RJ40GA0740 PACKING & FORWADING) |\\nNo. Of Cases = ©6106 Dispatch Through:- BY ROAD GST @ 18% 52,880.52 |\\nTotal Weight (in Kgs) :- Transaction Type:- Regular : | |\\nIRN NO :-6019ce607d47b23d9b37fcd61cbh7821af44 1 9ff5addae55b89855998789769a3 |\\nBill Amount Subjected to Reverse Charges (Y/N) NO | |\\n|\\nTax Amount (In Words):- Rs.° Fifty-Two Thousand Eight Hundred Eighty And Fifty-Two Only |\\nROUND OFF 0.16\\nBill Value (In Words) : - Rs.* Three Lakh Forty-Six Thousand Six Hundred Sixty-One Only NET AMOUNT 3,46,661.00\\n| | ' |\\nSpecial Instruction : “For AEROSTAR HELMETS & ACCESSORIES UL\\nAll disputes are subjected to Delhi Jurisdictions . ‘\\nCertified that the particular given above are true & correct and the amount indicated represents the price actually charged and that there is no flow of any\\nadditional consideration directly or indirectly from the buyer. ised Signat\\n\\nUNDER SECTION 31 OF CGST ACT ,2017 AND RULE 46-TAX INVOICE —\\n\\nORIGINAL FOR RE\\n\\nTAX INVOICE St] si oo\\n\\nCIPIENT\\n\\noan\\n\\n\",{\"entities\":[[0,37,\"SELLER ADDRESS\"],[105,154,\"BUYER ADDRESS\"],[205,263,\"BUYER ADDRESS\"],[325,441,\"SELLER ADDRESS\"],[448,498,\"BUYER ADDRESS\"],[679,695,\"SELLER GSTIN\"],[702,712,\"SELLER PAN\"],[721,736,\"BUYER GSTIN\"],[783,793,\"BUYER PAN\"],[809,826,\"INVOICE NUMBER\"],[844,855,\"INVOICE DATE\"],[1920,1928,\"CGST\"],[1929,1937,\"SGST\"],[2041,2052,\"NET AMOUNT\"],[2136,2154,\"ITEM FREIGHT\"],[2158,2176,\"ITEM FREIGHT\"],[2177,2189,\"ITEM FREIGHT\"],[2196,2206,\"ITEM FREIGHT\"],[2270,2277,\"ITEM FREIGHT\"],[2697,2708,\"GROSS AMOUNT\"]]}),\n",
        "(\"ORIGINAL FOR RECIPIEN1\\n\\ntion,d t of CGST / SGST Act 2017 read with rule 46 of tax invoice, 2017).\\nIRN 27bfc4ca3044ecbcb3ef996cF3819e838 117781 8498a57acb397 109 1787F\\n\\nASK Automotive Pvt. Ltd. Unit-VII\\n\\nWORKS : Plot No. 155-156, Sector-5 , IMT Manesar,Gurgaon-122050(Haryana)\\nPHONE: 01] 244501700,Fax 2, Website : www.askbrake.com\\n\\nGSTIN : 0O6AAACA7205Q1 ZK CIN : U34300DL1988PTC030342\\n\\nRECIPIENT OF SUPPLY oO\\n\\nRecipient Legal Name Customer Code : 100401\\nHonda Motor India(A Unit of Honda Cars India Limited)\\nPlot No. SPL-1D, Tapukara Industrial Area,Khushkhera Alwar 301787 Indial\\n\\nGST Reg No. 0O8AAACH1765Q2Z3 a\\n\\nPO & Date 910305 03.06.2013\\nPlace of supply & Code . Rajasthan(08) Vendor Code 2A42\\n\\nPlot No. SP\\n\\nAmendment No. 38 23.10.2021\\n\\nDocument Type : INV\\n\\nSHIP TO ADDRESS :\\nRecipient Legal Name\\nHonda Motor India(A Unit of Honda Cars India Limited)\\n\\nAlwar 301707 India\\nGST Reg No.: 08AAACH1765Q2Z3\\n\\nTAX INVOICE Tax Pyable on reverse charges basis:-No |\\nACK No. : =\\nINVOICE NO. : 2107102266\\nDATE OF ISSUE : 01.02.2022 Ca\\n640 TIME OF ISSUE : 19:52:39\\n2, VERSION NO. :\\nQR Code\\n\\nL-1D, Tapukara Industrial Area,Khushkhera\\n\\nNenoadof\\n\\n(1) All terms & conditions to be governed as per Purchase Order / Agreerjent. (yA All pa’\\nPOS. (3) All disputes will be subjected to jurisdiction of Gurugram Court.\\n\\nTime of Rhmoval :\\n\\nDate of Removal :\\n\\nReed . Office :\\n\\ngaoeer\\n\\nSupply Type : B2B _\\n| S. HSN/ Part Code Description of Goods or/and UOM | Packing Qty. | Rate Disc Amort. | Amort| Taxable CGST SGST IGST\\nNo. SAC Services % Rate Val. Value Value Rt Value Rt Value\\n| _: % %\\n} 87149400 | 06430KRP980 06430KRP980/SHOE SET BRAKE SET 30 * 386 11580.00 | 96.90 0.00 0.00 0.00 | 1,122,102.00 | 0.00 0.00 0.00 0.06 28.00] 314,188.5\\nBOX 6\\n| YoXG +60\\neek (ee\\ni ak\\n| Total ul o 1,122,102. | 0.00 | 0.00 |_ [314,188.56 |\\nGrand Total(in words) : INR FOURTEEN LAKH THIRTY SIX THOUSAND TWO Total Dis Value : 0.00\\nHUNDRED NINETY RUPEES FIFTY SIX PAISE O55 18 a TCS : 0.00\\nTotal Tax Value : INR 314,188.56 | _. Grand Total : 1,436,290.56 —\\nAAACA7205Q ADIT. ois LIM (TEOMhicte Not : HRSSAF4898 ANKUSH Document Through .\\nRemarks : ane oi Jed TKR . Payment Terms\\nmeet cate! Ad mpasceeth price actualls}\\n\\nmyer Wz, A/C pavee chedue/ drafts/ Electronics Transfer (RTGS/NEFT) / UPI /\\n\\nFor ASK Autometive Pvt. Ltd. Unit-V0\\n\\nSignature valid\\n\\nDigitally signed. by VANJAY\\n—_——— KUMAR\\n!ay Bill No. : Date: 01-02-2022 20:01:58\\n\\nTIME -.\\nSECURE = Le\\n\\naR Dah 6 ; :\\n\\nFlat No. 104,929/1, Naiwala, Faiz Road,Karol Bait\\nSX\\n\\nAuthorised Signatory\\n\\n4\\n\",{\"entities\":[[168,285,\"SELLER ADDRESS\"],[287,330,\"SELLER ADDRESS\"],[340,357,\"SELLER GSTIN\"],[455,581,\"BUYER ADDRESS\"],[595,611,\"BUYER GSTIN\"],[986,996,\"INVOICE NUMBER\"],[1013,1023,\"INVOICE DATE\"],[1572,1580,\"HSN/SAC\"],[1583,1594,\"ITEM NUMBER\"],[1595,1621,\"ITEM DESCRIPTION\"],[1622,1625,\"UNIT OF MEASURE\"],[1635,1643,\"QUANTITY\"],[1646,1651,\"UNIT PRICE\"],[1764,1774,\"NET AMOUNT\"],[1777,1781,\"CGST\"],[1784,1788,\"SGST\"],[1793,1803,\"IGST\"],[2005,2017,\"GROSS AMOUNT\"]]}),\n",
        "(\"4 SPIEL\\n\\n\\\\ B83 BYBRE\\n\\n15) brembo.\\n\\new,\\n——~ brake india TAX INVOICE Original for recipient\\nFor supply from factory / warehouse on payment of GST\\nSUPPLIER NAME & ADDRESS: Ship to party: .\\nBREMBO BRAKE INDIA Pvt. Ltd. HONDA MOTOR INDIA(A UNIT OF HONDA CARS\\nian Plot No.SPL-1D,Tapukara\\nNanekarwadi Village Taluka Industrial Area,Khushkhera,\\nKhed R '\\n‘MH S S “LIL Alwar301707 :\\nrnakan470501 IRN: b6fe4f34569563aGecacd0b113cb11\\n1d62827a1d2c7b18f81ad174b6b83 = 4\\nSTATE CODE: 27 STATE CODE 08 ii |\\nGSTIN No. : 27AACCK6860B 120 GSTIN No.: O8AAACH1765Q22Z3 j\\nBILL TO NAME AND ADDRESS : | Mode of transport: By Road\\nHONDA MOTOR INDIA(A UNIT OF HONDA CARS INDIA LTD | F ;\\nPiot No.SPL-1D, Tapukara Industrial Area, Khushkhera, |Carrier name: By Road\\nRd Vehicle No:\\nAlwar301707 _|\\nIndia LR No & LR Date:\\nSTATECODE: 08 oo PAN No:\\nGSTIN No. : O08AAACH1765Q2Z3 _ Whether the tax is payable on reverse charge basis: NO\\nHSN/SAC CODE: 87141090 PLACE OF SUPPLY: Rajasthan\\nVendor code: TIME OF REMOVAL: 12:32:34\\n- ——_ :\\nINVOICE NO.:) 31033560, ~~ Number of Packages: 0.00 |16&GBe»\\nINVOICE DATE: 19.01.2022 Gross weight: ;\\nSales order: 22805S000158 Customer PO & PO date: 910139\\na Quantity\\nBBI Part No. Description Engraved batchYour Part No. (Nos.) Rate (Rs.) Value (Rs.)\\nP7072617_C MASTER CYLINDER 45510KVT911 384.00 470.13 180,529.92\\nASSEMBLY (W/O 2a19dR)\\nSZ, | HONDA MOTOR INDIA\\nL OS 7 _|(AUNIT OF HONDAICARS INDIA LIMITED)\\n\\\\ SECURITY TKR\\na INCOMING MATERIAL\\ni. et Lt P 1\\n\\\"\\nz ny GATE] ENTRY NO .SASSSSCS.T.esseenofeeon\\n' ia\\nee |\\nF] Fy t PRET HT] LS ECUIRUY. OIGIN . ccocdccsovenphoooccnttrercnccssarecovesporore\\n‘ ed itd td tts —\\ndeath bth’ HA,\\nAck Nc122212377728943 AckDate1 9-01-2022 23:34:00 CategoryB2B IGST on INTRAyes\\nEway No / Eway bill date / Valid til Total 180,529.92\\niGST in words: RUPEES FIFTY THOUSAND FIVE HUNDRED FORTY EIGHT AND PAISE THIRTY EIGHT | |IGST 28.00% 50,548.38\\nCGST in words: RUPEES NIL AND PAISE NIL CGST 14.00% 0.00\\nSGST in words: RUPEES NIL AND PAISE NIL SGST 14.00% __ 9.00)\\nTCS 0:00\\nTotal Invoice AmountIn Words): RUPEES TWO LAKH THIRTY ONE THOUSAND SEVENTY EIGHT —$—\\nAND PAISE THIRTY\\n\\nGrand total 231,078.30 a\\nFor Brembo Brake India Pvt. Ltd\\n\\nFor invoice win\\n\\nCertified that the particulars given above are true and correct and the amount indicated represents the price\\nactually charged & that there is no flow of additional consideration directly or indirectly from the buyer.\\nCertified that price variation appticable as per contract\\n\\n4\\n\\nyo\\n\\nAuthorised —eneteny\\n\\nDelivery number: 22805V00501525 Commercial invoice number: 31033560 Gross weight: 0.00\\n\\n\",{\"entities\":[[186,214,\"SELLER ADDRESS\"],[282,308,\"SELLER ADDRESS\"],[337,341,\"SELLER ADDRESS\"],[346,349,\"SELLER ADDRESS\"],[502,518,\"SELLER GSTIN\"],[597,604,\"ITEM FREIGHT\"],[605,653,\"BUYER ADDRESS\"],[660,713,\"BUYER ADDRESS\"],[752,763,\"BUYER ADDRESS\"],[767,772,\"BUYER ADDRESS\"],[827,843,\"BUYER GSTIN\"],[915,923,\"HSN/SAC\"],[1012,1020,\"INVOICE NUMBER\"],[1073,1083,\"INVOICE DATE\"],[1221,1225,\"UNIT OF MEASURE\"],[1261,1276,\"ITEM DESCRIPTION\"],[1277,1288,\"ITEM NUMBER\"],[1289,1295,\"QUANTITY\"],[1296,1302,\"UNIT PRICE\"],[1314,1335,\"ITEM DESCRIPTION\"],[1748,1758,\"NET AMOUNT\"],[1859,1868,\"IGST\"],[1921,1925,\"CGST\"],[1991,1995,\"SGST\"],[2111,2121,\"GROSS AMOUNT\"]]}),\n",
        "(\"‘ GLUTGE. .\\nC 4 57 a Original for Recipient\\na C. Cc. ; Tax Invoice ) Y\\n\\nTEGHHoaLaaT\\n\\nInvoice No. — : 5010069419 we fer tea pial\\nInvgice Date: 29.01.2022 jesus ie aad Nea cexat ala\\nIRN: £877bd6036610210e85d3e665b1 a4a6bl 78f4dd29c936b45b3e664e0667c2b4e ic ae pests ea Pace\\nckNo: 172210953728256 AckDt: 29.01.2022 15:13:00 Version:1.03 ee a ie gets caer aera\\n3STIN ; 08AACCEF4739N1Z6 State Code: 08 InvoiceType:B2B in hy Pd sib\\n-~AN No : AACCF4739N e Serer: at\\n“onsigner Name : FCC CLUTCH INDIA PVT. LTD. Peg) a codes pba cag a\\n\\nCIN : U35911HR2014FTC053716\\nAddress : PLOT NO. SPL-2(H), INDUSTRIAL AREA,, TAPUKARA, BHIWADI,\\n301707, Rajasthan, India\\n\\nPO Number : 910475 AMEND 26 PO Date :\\nDetails of Buyer (Billed to) Details of Consignee(Shipped to)\\nName : HONDA MOTOR INDIA Name : HONDA MOTOR INDIA\\nAddress : (A UNIT OF HONDA © “ARS INDIA LIMITED) Plot Address : (A UNIT OF HONDA CARS INDIA LIMITED) Plot\\nINo.SPL-1D,Tapukara oan No.SPL-1D,Tapukara\\n\\nIndustrial Area, Khushkhera, Alwar, Rajasthan India-301707 Industria! Area, Khushkhera, Alwar, Rajasthan India-301707\\nState : Rajasthan State : Rajasthan\\nState Code 08 Co State Code : 08 AYO\\nGSTIN / : OBAAACH1 765Q223 GSTIN/ =: O08AAACH1765Q2Z3\\nUnigue ID... cere Place Of Supply: Uniuue ID eee Place of Supply:\\n\\nPart No. Description Unit Total Amorti|Taxable SGST IGST\\nSr. Rate i\\nNo\\n\\nlamt [amt amt __[ame.__—[ato| Amt __|[ato| amt __|\\n\\n22105KWPDOO | BOSS DRIVE FACE|87141090|280.000 —_|45.57 42759.6 |0.00 —_‘|12759.60 14 |1786.34 |14 (1786.34 0.00\\n) 2 KWPG | | /\\n| |232a6KPLgoo ‘| (23226KPL9000) [a7141090|9000.000 |3.64 32760 |0.00 —‘|32760.00 14 |ase6.40 |44 |4586.40 (0.00\\nz 1 ROLLER GUIDE | |\\n90202KPL900 _—‘| $9202KPL900 87141090 |2000.000 |s.77 41840 = |o.00 =~ |41840.00 14 |4615.60 |14 [1615.60 0.00\\nAe) NUT,SPECIAL,28M\\nBs |\\n91351GR1000 ‘| 91354GR1000 fret om. 2.46 4000 [0.00 ~—|ag000.00 14 |e860.00 |44 6860.00 0.00\\nAt O-RING, 38.5X2 | | |\\n22400KTE910 OUTER COMP —_[87141090|12.000 _—[s92.59 7111.08 |0.00 —‘|7444.08 14 995.55 ita [995.55 0.00\\ni KTEA (FORGE\\n! GEAR) ||\\n22100KTEDO1 87141090|24.000 [592.42 14218.08 |0.00 |14248.08 ia 4990.53 44 |1990.53 0.00\\n22100KTEDO10UTE\\n2 R COMP, CLUTCH\\n22100KPL900 _—| 22400KPL900 87144090|108.000 —|136.18 414707.44° 10.00 —‘|[44707.44 44 |2059.04 |1a 2059.06 0.00\\n7 OUTER\\nCOMP,CLUTCH\\n23205KWPDO0 | FACE ASSY 87141090|34.000 —([335.87 28213.08 |0.00 |28213.08 14 |3949.83 |44 |3949.83 0.00\\nDRIVEN KWPG __|\\n377.000 pon | 420911.44 [0.00  |120911.44 |14 |16927.60 |14 |46927.60 0.00\\n27 FACE SET,DRIVEN\\n22110KWP900 . 95.63 7650.4 |0.00 7650.40 44 [4071.08 [44 [1074.06 (0.00\\nFACE COMP\\nMOVABLE DRIVE\\nTotal LAN 298871.12 _|o.00 _|z98871.12 L | 4184195 41844.95 {| 0.00\\n\\n0\\n\\n382,555.02 INR \\\\ ousam\\nTHREE LAKH EIGHTY T¥O THOUSAND FIVE HUNDRED\\n\\nFIFTY FIVE RUPEES TWO PAISE\\n\\nTCS Amount 0%( In Figure ) TOR INDIA\\n\\nTotal Invoice Value ( In Fig}rre ) HONDA MO ED\\n\\nTotal Invoice Value ( In Wo} @a UNIT OF HONDA CARS INDIK LIMITED)\\nSECURITY TKR\\n\\nJAN wit\\n\\n|_| Amount of Tax subject tp Reverse onarees\\n\\nMode of Transport : by road Packaging Detail\\n\\n’ ©.\\nVehichle Number : HR47C4292 2210SKWPDOO -2 pee\\nG.R.Number —_: sl.n0-5912 23226KPL900 - | 0\\nG. R. Date\\n\\n90202KPL900 -4\\n91351GRIO00 -4\\n22100KTE910 -1\\n22100KTEDO] -2\\n221L00KPL900 -9\\n\\nsabes\\n; 23205KWPDO0 - 6 enone a:\\n23205KRP982 -27\\n22110KWP900 -2\\nDeclaration: For FCC Clutch India Pvt. Ltd.\\n\\nCertified that the particulars given above are true and correct and the price\\nindicated represents the price actually charged and that there is no flow of\\nadditional consideration directly or indirectly from buyer.\\n\\nAuthorised sign\\nElectronic Reference Number\\n\\nName of signatory\\nao\\n\\n\",{\"entities\":[[101,111,\"INVOICE NUMBER\"],[142,152,\"INVOICE DATE\"],[365,381,\"SELLER GSTIN\"],[436,446,\"SELLER PAN\"],[565,645,\"SELLER ADDRESS\"],[862,922,\"BUYER ADDRESS\"],[947,1005,\"BUYER ADDRESS\"],[1175,1191,\"BUYER GSTIN\"],[2603,2612,\"NET AMOUNT\"],[2636,2643,\"CGST\"],[2644,2652,\"SGST\"],[2656,2660,\"IGST\"],[2665,2675,\"GROSS AMOUNT\"],[3003,3010,\"ITEM FREIGHT\"],[3034,3061,\"ITEM FREIGHT\"]]}),\n",
        "(\"po : HY5; Original for Recipient\\nE.C.C, Tax Invoice ca\\n<—) FO ATH * * 9 pag? * ie Ty +\\n\\n‘ TECHNuLDEY\\n\\nlavoice No. +: 1010080975\\n\\nInvoice Date , : 01.02.2022\\n\\nIRN: 84dceb24a8e5811501e8d873a72¢96875a264 fa24f0See9df2cea 1 b37db02532b\\nAckNo: 132211895830380 AckDt: 01.02.2022 11:02:00 Version:1.03\\n\\nGSTIN : U6AACCF4739NIZA State Code : 06 InvoiceType:B2B\\n\\nPAN No : AACCF4739N\\n\\nConsigner Name  : FCC CLUTCH INDIA PVT. LTD.\\n\\nCIN : U35911HR2014FTC053716\\n\\nAddress : Plot no-5, Sector-3, IMT, Manesar, Gurgaon, 122050, Haryana, India\\n\\n: i: ae ic\\na\\n\\nPO Number : 910473~10 PO Date: reyes CS : i\\nOe con a woke to\\nDetails of Buyer (Billed to) - Details of Consignee(Shipped to)\\nName : HONDA MOTOR INDIA Name’ =: HONDA MOTOR INDIA\\nAddress : (A UNIT OF HONDA CARS INDIA LIMITED} Plot Address =: (A UNIT OF HONDA CARS INDIA LIMITED) Plot\\nNo.SPL-1D,Tapukara No.SPL-1D,Tapukara\\n, Industrial Area, Khushkhera~\\\\lwar, Rajasthan India-301707 Industrial Area, Khushkhera, Alwar, Rajasthan India-301707\\nState : Rajasthan State : Rajasthan\\nState Code :08 ) State Code : 08 A\\nGSTIN / : OBAAACH1765Q2Z3 Co? GSTIN/ =: ~ 08AAACH1765Q2Z3 SOM\\n[Unique ID Place Of Supply_: Unique ID ou Place of Supph_:\\nPart No. Description HSN | QTY [Unit Total Amorti|Taxable CGST SGST. IGST\\nSr. Rate zation |value\\nNo\\nee lame lame Amt___|Amt. | Rate| Amt Rate | Amt Rate | Amt\\n22100KWF940 OUTER COMP 87141090 |288.000 495.42 142680.96 0.00 142680.96 0.00 0.00 28 = |39950.67\\n> i CLUTCH ‘ :\\n22100K23944 OUTER COMP 87141090 |60.000 329.50 19770.00 0.00 19770.00 | 0.00 0.60 28 = |§535.60\\n2 2 CLUTCH K23A\\n_ 22100K38900 OUTER COMP 87141090 |585.000 few sso 0.00 358499.70 | 0.00 0.00 28 = |100379.9\\n2¢ |3 K38A 2\\n22100KO0EDO1 OUTER COMP. 87141090 |75.000 $95.25 |44643.75 0.06 44643.75° | 0.00 0.00 28 = =|12800.25\\nu 4 | CLUTCH\\n23205KWPS900 FACE SET DRIVEN |87141090 |420.000 288.54 421186.80 0.00 121 186.80 0.00 0.00 28 = |33932.30\\nKWPA.\\nOUTER 87141090 §.000 — 352.00 1760.00 0.00 1760.00 | 0.00 i 28 = [492.80\\nCOMP,CLUTCH\\nOUTER COMP 87141090 |510.000 193.43 $8649.30 0.00 $8649.30 | 0.00 0.00 28 =|27621.80\\nKWPA |\\n787180.51 0.00 787 190.51 0.00 0.00\\n| 220413.3\\n_| a\\nTCS Amount.0.000%{ in Figure ) A f 0.00\\nTotal Invoice Value ( In Figure ) f a a4 qo Va 1,007,603.85 INR \\\\\\nTotal Invoice Value ( Im Words ) a i TEN LAKH SEVEN THOUSAND SIX HUNDRED THREE\\n, RUPEES EIGHTY FIVE PAISE\\nAmount of Tax subject to Reverse charges\\nMode of Transport : THE MINI TRUCK Packaging Detail\\nVehichle Number : 22100KWF940 - 12\\nG.R. Number : 22100K23911 -02 7\\nG. R. Date > 01.02.2022 22100K38900 - 25 |Fcc CLUTCH INDIA PVT. LTD.\\nHONDA MOTOR INDIA 22100KOEDOI - 04 | OUT WARD\\n(AUNIT OF HONDA CARS INDIA LIMITED) 23205KWP900. - 11 |\\nSECURITY TKR 22100K63D11. - 01 | 04 FEB 2072\\nINCOMING MATERIAL 22100KWP900. - 34 | La AWS\\nGate Emtry 0....\\\\. Docs iedsdeccessaanantatane\\n0 FEB 2022  (Saewre tbe Ah\\nAy VS * SigMatUre.ssesneererseosree cocosnvecastngscotcsoase\\n\\nElrocnanacavncasanacsscgnacocessccns7 06\\n\\nPE GUBIY BIG)! 43 91 SR MIEHeH FAN: (+91) (124) 4391550\\n\\nEmail: info@fec-india.com Website: www.fcc-india.com [Page 1 / 2] \\\\\\n\\n\",{\"entities\":[[117,127,\"INVOICE NUMBER\"],[146,156,\"INVOICE DATE\"],[304,319,\"SELLER GSTIN\"],[362,372,\"SELLER PAN\"],[459,525,\"SELLER ADDRESS\"],[700,717,\"BUYER ADDRESS\"],[728,763,\"BUYER ADDRESS\"],[818,841,\"BUYER ADDRESS\"],[921,979,\"BUYER ADDRESS\"],[1093,1108,\"BUYER GSTIN\"],[2066,2075,\"NET AMOUNT\"],[2092,2096,\"CGST\"],[2097,2101,\"SGST\"],[2104,2112,\"IGST\"],[2153,2157,\"ITEM MISC FEES\"],[2205,2217,\"GROSS AMOUNT\"],[2391,2405,\"ITEM FREIGHT\"]]}),\n",
        "(\"ORIGINAL FOR RECIPIENT\\n| Ges Te TAX INVOICE\\n(Sieinn FIEM INDUSTRIES LIMITED\\npam eh ENT Manufacturers of :\\nba aT UP THE WORLD AUTOMOTIVE LIGHTING EQUIPMENTS\\nGSTIN No.;J64AACF1034E1ZD Plot No.1915, HSIDC, Phase-V-RAI Distt Sonepat-131029 (Haryana)\\nPAN No: AAACF1034E Phone: 01302367905, 2367906\\n\\nSUT _\\n\\nName & Address of Buyer: (Bill to)\\n\\nHonda Motor India( A Unit of Honda Cars India Ltd)\\nPlot No: Spl 1(D),Tapukara Industrial\\nArea,Kushkhera,Alwar-301707,Rajasthan\\n\\nINVOICE NO.\\n\\nYOUR PO NO : 910161\\n\\nVendor Code: 2F11\\nBuyer's GSTIN No.: O83AAACH1765Q2Z3 —\\n\\nName & Address of Consignee :(Ship to)\\n\\nHonda Motor India( A Unit of Honda Cars India Ltd)\\nPlot No: Spl 1(D),Tapukara Industrial Area,Kushkhera, Alwar-301707,\\nRajasthan\\n\\nJNO.\\n\\nVEHICLE NO : HR69B8126\\n\\nE-WAY BILL NO\\n\\na : 351407582317\\nConsignee's GSTIN No.: 08AAACHI1765Q2Z3\\n\\nITEM CODE DESCRIPTION\\n\\nLENS,WINKER R 85122090\\nLENS COMP,R RBX 3-4 | AB 85122090\\nWINKER ASSY R FR | $5122016\\nSUB CORD HEAD LIGHT 85444220\\nLIGHT ASSY, WINKER R FR | 85122010\\n\\n33403KOND01\\n33410KZK901\\n33400KTE931\\n33120KZKD21\\n33400KOND01\\n\\n76\\nQ- 9\\n> TRANSACTION VALUE Rs.:\\nREMARKS (if any) bt ADD: FREIGHT/PACKAGING/OTHERS Rs.:\\nx seen hy\\n\\ncP 8 he LESS: DISERUNQUABA, Hit JENT (IF ANY) 0.00 % Rs.\\nCINDA Wiscarait \\\\TOTAL TAXABLE VALUE Rs::\\nnUNITIOR RS. 6 CGST@ 0.00 % Rs.:\\nWhether Tax Payable under Reverse Charge: SGST@ 0.00 % Rs.:\\nTotal GST Payable in Words Rs. :- IGST@ 18.00 % Rs.:\\n\\nTHIRTY TWO THOUSAND EIGHT HUNDRED a | ae <r\\nTWENTY AND FORTY TWO PAISE ONL oR 4 om 00st GRAND TOTAL Rs.:\\n\\nTotal Invoice Value in Words Rs:- oot “F\\nTWO LAKL ry 3A ry SIX AND 'T SE ONLY.\\n\\n| TREN TH OER Chests\\nTerms & Conditions: For FIEM INDUSTRIES LIMITED\\n1 Interest will be charged @ 24% p.a. if the payment is delayed beyond due date. Signature valid\\n2.No claim will be entertained if made after three days from the date of supply. Digitally signe f\\n: IMAR\\n3. Warranty claim if any, given does not in any case extend to consequential to indirect losses/damage. Date: 31/01/2028 3:37:26 PM\\n\\nAuthorised Signatory\\n\\n4.Alj disputes of this invoice and other related matter will be subject to Delhi Jurisdiction.\\nRegd. Office: D-34, DSIDC Packaging Complex, Kirti Nagar, New Delhi-1 10015(INDIA) Tel: +91-11-25927820,25927919 Fax: +91-11-25927740\\nE-mail: info@fiemindustries.com Website: http://www.fiemindustries.com CIN: L36999DL1989PLC034928\\n\\nPage:\\n\\n: 1070020575 DATE: 31.01.2022\\n\\nIRN : 4243e95976b6733fbdc3645b58acel227f\\n576c56892669878362dd54e32450fa\\n\\nDATE: 24.07.2012\\n\\n|PO AMENDMENT : 142 DATE: 07.01.2022\\n\\nPLACE OF SUPPLY : Rajasthan STATE CODE: 08\\n\\nTRANSPORTER : LOADIGI LOGISTICS PVT. LTD. .\\n\\n78,896.40\\n\\n2,021.58\\n50,083.20\\n50,992.50\\n\\n182,335.68\\n\\n182,335.68\\n0.00\\n\\n0.00\\n32,820.42\\n\\n215,156.10 a\\n\\na\\n\\nlofl\\n\",{\"entities\":[[52,75,\"SELLER ADDRESS\"],[87,103,\"SELLER ADDRESS\"],[125,155,\"SELLER ADDRESS\"],[166,181,\"SELLER GSTIN\"],[182,245,\"SELLER ADDRESS\"],[254,264,\"SELLER PAN\"],[265,292,\"SELLER ADDRESS\"],[337,463,\"BUYER ADDRESS\"],[536,552,\"BUYER GSTIN\"],[732,754,\"ITEM FREIGHT\"],[2358,2368,\"INVOICE NUMBER\"],[2375,2385,\"INVOICE DATE\"],[2560,2601,\"ITEM FREIGHT\"],[2658,2668,\"NET AMOUNT\"],[2669,2673,\"CGST\"],[2675,2679,\"SGST\"],[2680,2689,\"IGST\"],[2691,2701,\"GROSS AMOUNT\"]]}),\n",
        "# (\"ORIGINAL FOR RECIPIENT th 5S OT ee\\n\\n— TAX INVOICE\\n\\n—~\\\\\\n~ ~— FIEM INDUSTRIES LIMITED\\n—s Manufacturers of :\\nFs : B i :\\nLIGHT UEA HE WORLD AUTOMOTIVE LIGHTING EQUIPMENTS & PLASTIC MOULDED PARTS\\nGSTIN No.: 08AAACF1034E129 SP-1C INDUSTRIAL AREA, TAPUKARA BHIWADI, ALWAR-301707 (Rajasthan)\\nPAN No: AAACF1034E Phone: 1493241107, Email:fiemunit8@fiemindustries.com Fax:2592740\\nName & Address of Buyer: (Bill to) INVOICE NO. : 1080027196 6 DATE: 01.02.2022\\nHonda Motor India( A Unit of Honda Cars India Ltd) [jpn : 6974adace2e4d142a66c3e3343e4d9f288\\nPlot No: Spl 1(D),Tapukara Industrial b17d3704555del3fed950bdc2a9bb4\\nArea Wushkhera.Alwar-301707,Rajasthan\\nYOUR PO NO : 910162 DATE: 24.07.2012\\nVendor Code: 2F12 PO AMENDMENT: 76 DATE: 22.10.2021\\nBuyer's GSTIN No.: 08AAACHI1765Q2Z3 NO. |\\nName & Address of Consignee :(Ship to) PLACE OF SUPPLY : Rajasthan STATE CODE: 08 |\\nHonda Motor India( A Unit of Honda Cars India Ltd) }\\nPlot No: Spl 1(D),Tapukarg Industrial Area,Kushkhera, Alwar-301707, VEHICLE NO : HRS5W3015 WV\\nRajasthan TRANSPORTER — : DINESH LOGISTICS (V\\nE-WAY BILL NO : 721237869250\\nConsignee's GSTIN No.: OBAAACH1765Q2Z3\\nSR.| ITEMCODE | DESCRIPTION NO. OF . TOTAT.\\nNo. SAC Code| PACK -| QTY. | UQC | PRICE(%) | antount@\\nAGES\\n' 4 | 81250KOPD00 | BOX.LUGGAGE(81250K0PD00)SPD. | 87141090 98 390\\niS B ARV 2+ A Total | os |\\n- | HONDA MOTOR INDIA _O\\n(AUNIT OF HONDA CARS INDIA LIMITED) O\\nSECURITY TKR ay a\\nINCOMING MATERIAL ™\\n01 FEB 2022 Va\\nGATE ENTRY NO... BOIS seventeen \\\\\\nq\\nL11\\\\| a lr hes\\nSECURITY SIGN Gute SS !\\nTRANSACTION VALUE Rs.: 70,593.90\\nREMARKS (if any) ADD: FREIGHT/PACKAGING/OTHERS Rs.: 0.00\\n. LESS: DISCOUNT/ABATEMENT (iF ANY) 0.00 % Rs. 0.00\\nTOTAL TAXABLE VALUE Rs.: 70,593.90\\nCGST@ 14.00 % Rs.: 9,883.15\\n| Whether Tax Payable under Reverse Charge: NO SGST@ 14.00 % Rs.: 9,883.15\\n| Lolal GST Payable in Words Rs. :- IGST@ 0.00 % Rs.: 0.00\\n_NINETEEN THOUSAND SEVEN HUNDRED\\nSIXTY SIX AND THIRTY PAISE ONLY. GRAND TOTAL Rs.: 90,360.20\\nTotal Invoice Value in Words Rs:-\\n\\nTerms & Conditions: For FIEM INDUSTRIES LIMITE\\ninterest will be charged @ 24% p.a. ifthe payment is delayed beyond due date. Signature valid\\n\\n| 2.No claim will be entertained if made after three days from the date of supply. igitall\\n\\n11:14:31 AM\\nAuthorised Signatory\\n\\n3.Warranty claim if any, given does not in any case extend to consequential to indirect losses/damage.\\n\\n4 All disputes of this invoice and other related matter will be subject to Delhi Jurisdiction.\\n\\nRegd. Office: D-34, DSIDC Packaging Complex, Kirti Nagar, New Delhi-110015(INDIA) Tel: +91-11-25927820,25927919 Fax: +91-1 1-25927740\\nE-mail: info@fiemindustries.com Website: http://www .fiemindustries.com CIN: L36999DL1989PLC034928\\n\\n\",{\"entities\":[[60,83,\"SELLER ADDRESS\"],[87,103,\"SELLER ADDRESS\"],[136,190,\"SELLER ADDRESS\"],[202,217,\"SELLER GSTIN\"],[218,283,\"SELLER ADDRESS\"],[292,302,\"SELLER PAN\"],[303,368,\"SELLER ADDRESS\"],[418,428,\"INVOICE NUMBER\"],[437,447,\"INVOICE DATE\"],[448,498,\"BUYER ADDRESS\"],[541,578,\"BUYER ADDRESS\"],[610,647,\"BUYER ADDRESS\"],[756,772,\"BUYER GSTIN\"],[984,1006,\"ITEM FREIGHT\"],[1020,1052,\"ITEM FREIGHT\"],[1248,1276,\"ITEM DESCRIPTION\"],[1291,1294,\"QUANTITY\"],[1680,1689,\"NET AMOUNT\"],[1709,1717,\"CGST\"],[1784,1792,\"SGST\"],[1847,1851,\"IGST\"],[1935,1944,\"GROSS AMOUNT\"]]})\n",
        "(\"GABRIEL INDIA LIMITED-MANESAR\\nPlot No.99 Sector 8\\n\\nManesar-12205 1\\n\\nPhone : 1242787900\\n\\nWeb: www.gabrielindia.com:\\nPAN No : AAACG1994N\\nTAN No: PNEGI6065A\\n\\nTax Invoice\\n\\nCIN Number\\n\\nState\\n\\nState Code\\n\\nGSTIN Number\\n\\nODN Number\\n\\nInvoice Number\\nInvoiceDate&Time Of Supply\\nIRN\\n\\nL34101PN1961PLCO15735\\nHaryana ,India\\n\\nORIGINAL FOR RECIPIENT . |\\n06\\n\\n06AAACGI994N1Z38 ~\\n\\nRV2106046750\\n\\nZr EL\\n9915213201 a a\\n02.02.2022 10:45:20\\n\\n2bf03a7c768 Ladd79cafsbcf9accc8d5a6a99aGfad694\\neba0b8d1 7c7c26a2dae\\n\\n————\\n\\nDetails of the Receiver (Billed to) So Details of the Consignee(Shipped te) Customer PO 910573\\n12000172 12000172 Customer PO Date 26.04.2018\\nHonda Motor India (A Unit Of Honda Cars India Ltd)| Honda Motor India (A Unit Of Honda Cars India Ltd)Payment of Terms Within 045 days due net\\nPlot No Spl-1D Tapukara Industrial Area Khushkhera Plot No Spl-1D Tapukara Industrial Area Khushkhera Transporter Name\\nALWAR, Rajasthan ALWAR, Rajasthan Transport Mode Road\\nIndia, 3Q1707 India, 301707 Vehicle No\\nState Code :08 Rajasthan Rajasthan LR Number\\nVendor Code: 2G17 GSTIN : 088AAACH1765Q22Z3 State Code :08 GSTIN : O8AAACHI765Q2Z3 LR Date\\nE-Way Bill No : 391408334496 E-Way Bill Date: 02.02.2022 |E-Way Bill Valid Upto : 03.02.2022 D/N No/ASN No:\\nSr| Our Part No | Cust Part No HSN No Pkg /|Qty / MRP / Basic’ Discount Taxable CGST SGST IGST\\nDescription Of Goods (SAC UOM |UOM Rate Amount Value _\\nINo Code (Per Item) Rate / Rate / Rate /\\nAmount Amount Amount\\nOS-300037130000000 / 52400K67901 87141090 BOX NOS 28.00 %\\n\\\\ 1|KO#RSA ASSLY OS 37.400 748.00 339.14 253,676.72 253,676.72 71,029.48\\na aX\\n- Shor BRP / 4% |\\nA oral d ¥ \\\\\\nee — = , |\\nAOTOR INDIA |\\nNDA. care yt LIMITED) |\\noes pertrees A A LATERAL | | 748.00 253,676.72| | 253:676.72 —™ 71,029.48\\nwu Wate\\nwh Basic Amount 253,676.72\\n0 4 F FB 72022 Discount\\nTAXABLE : 253,676.72\\nIGST 71,029.48\\nGATE ENTRY ws a +3 an nu 20 CGsT\\n‘ poacaevoe G\\nTIME .. QM sasy |\\nNe he .) TCS |\\nSECURITY SIGN ..-2- i INVOICE Value 324,706.20}\\n| Total Pkg: IGST in Words: SEVENTY ONE THOUSAND TWENTY NINE RUPEES FOR EIGHT PAISE ;\\n37.40 CGST in Words: NIL i\\nTotal Weight SGST in Words: NIL\\n1,084.600 TCS in Words : NIL\\nTotal Invoice Value in Words: THREE LAKH TWENTY FOUR THOUSAND SEVEN HUNDRED SIX RUPEES TWENTY PAISE\\nWhether Reverse charge applicable: No\\nI/we certify that our registration certificate under the GST Act 2017 is in force on the date in which the For GABRIEL INDIA LIMITED\\nsupply of goods specified in this Tax invoice is made by me/ us & the transaction of supply covered by\\nthis 'Tax Invoice had been effected by me/ us & it shall be accounted for in the turnover of supplies while\\nFilling of return & the due tax if any payable on the supplies has been paid or shall be. paid Further\\ncertified that the particulars given above are true and correct & the amount indicated represents the pricet\\nncutally charged and that there is no flow if additional consideration directly or indirectly from the buyer. po—\\n(Authors ignatory }:\\nRegistered Office : 29th Milestone,Pune-Nashik-Highway, Villaze KURULI, Taluka KHED,Dist Pune,410501, Maharashtra(India).Tel:(02135)610757,(02135)610704\\nInward Vehicle No.: 1015016903 TO\\n\\nPage 1 of 1\\n\",{\"entities\":[[0,113,\"SELLER ADDRESS\"],[124,134,\"SELLER PAN\"],[341,357,\"SELLER GSTIN\"],[381,391,\"INVOICE NUMBER\"],[396,415,\"INVOICE DATE\"],[685,735,\"BUYER ADDRESS\"],[776,826,\"BUYER ADDRESS\"],[895,911,\"BUYER ADDRESS\"],[944,948,\"ITEM FREIGHT\"],[949,962,\"BUYER ADDRESS\"],[1059,1076,\"BUYER GSTIN\"],[1444,1476,\"ITEM DESCRIPTION\"],[1477,1485,\"HSN/SAC\"],[1490,1493,\"UNIT OF MEASURE\"],[1509,1521,\"ITEM DESCRIPTION\"],[1529,1535,\"QUANTITY\"],[1536,1542,\"UNIT PRICE\"],[1803,1813,\"NET AMOUNT\"],[1819,1828,\"IGST\"],[1945,1955,\"GROSS AMOUNT\"],[2064,2067,\"CGST\"],[2098,2101,\"SGST\"]]}),\n",
        "(\"eA [TAX INVOICE /SALES INVOI Pe TF To cotn 7\\n—\\n\\n< Rules 7 of GST ______—_\\nHEE ? _-HI-LEX INDIA PVT LTD (Unit-1) Invoice No &Date 21103230 31/01/2022\\nGH ale 55 se 3, IMT MANESAR, IND\\n°° CTOR » IMT MANESAR,GURGAON,INDIA IRN No 027f54011b91bf268df406247 febb722c7c5b9851379dc7\\nPHONE : 91-124-467500-11-12 9a3fcbe621273685c\\nGSTIN :06AABCM9648Q1ZO CIN NO: U34300HR1998FTC035011 IRN Date 31/01/2022\\nSTATE CODE : 06 [Haryana] 7\\n\\nCust PO: 910171 Date :\\nAmendment PO: 102\\n\\nConsignee Name & Billig Address\\nSUPPLIER'S CODENO 2H03 .\\nHonda Motor India (A Unit of Honda Cars India Limited)\\n\\nPlot No. Spt 1D,, Tapukara Industrail Area,, - B qi ~\\nKhushkhera, Alwar,Rajasthan, India ao SN\\nGSTIN ID: O8AAACH1765Q2Z3 STATE CODE: 08 [Rajasthan]\\n\\nConsignee Shipping Address\\nHonda Motor India (A unit of HCIL)\\n\\nPlot No. SPL 1D, Tapukara Industrial Area, Plot No. SPL 1D, Tapukara Industrial Area,\\nKhushkhera,Rajasthan, India\\n\\nGSTINID: — O8AAACH176502z3\\nSTATE CODE: 08 {] PLACE OF SUPPLY:[]\\n\\nPART CODE/\\nDESCRIPTION\\n\\nQTY.. | UNIT TOTAL Taxable\\nRATE/ Value\\nDisc. (Rs)\\n\\n06179k24900\\nCABLE SET, THROTTLE\\n\\n06179KZ2K801 |Seol D4. I] eo\\n\\nCABLE SET,THROT\\n\\n17910KsPs01 } Seot | 475~\\n\\nCABLE COMP, THROT\\n\\n17910KTE6O1 Sy S41 Ser\\n\\nCABLE COMP, THROT\\n\\n17910KTE911\\nCABLE COMP., THROTTLE\\n\\n17820K14900\\nCABLE SET, THROT\\n\\nTransport Mode By Road VI VE, Vehicle No: HR55AJ7578 Total Taxable Value 1,308,911.50\\n\\nTransporter's Name :\\nGf) Jrotal CGST\\nLR. No & Date : HR55AJ7578 a 9 &\\n\\n1,200.00 140.20 | 168,240.00 | 168,240.00\\n\\n4,300.00 135.52 | 582,736.00 |582,736.00\\n\\n2,975.00 46.04 | 136,969.00 | 136,969.00\\n\\n3,075.00 51.74 | 159,100.50 |159,100.50 . . ; . . 548. |\\n\\n2,200.00 48.98 | 107,756.00 |107,756.00\\n\\n1,500.00 102.74 | 154,110.00 | 154,110.00\\n\\nDate & Time OF Invoice Issue : 31/01/2022\\n\\nDate & Time of Removal of Goods: Place Manesar\\nTotal IGST 366,495.22\\nEWAY BILL. NO = ;351407373430 EWAY BILL DATE : 31/04/2022\\n\\n; . ; Freight Charges/Pkgs &\\n\\\"Reverse Charges applicable (Y/N) : N\\\" Forwarding Charges 0.00\\nInvoice Value (In Word ) RUPEES ONE MILLION SIX HUNDRED SEVENTY-FIVE Less : TAC/FOC Cost 0.00\\nTHOUSAND FOUR HUNDRED SIX AND SEVENTY-TWO\\n| PAISE NDIA . Total Value before TCS 1,675,406.72\\nHONDA MOTOR IN rues EX Fi oc\\n\\n(AUNIT OF HONDA CARS INDIA LIMITE ,\\n| TOTAL INVOICE VALUE 1,675,406.72\\n\\nSECURITY TKR -\\nINCOMING MATERIAL 4\\n\\n. “aid Ne art4 a ae i\\n3 { J AN 2022 gid Nowa ees | Hi-Lex India Pvt. Ltd.\\n\\nchetenoaed OF\\n\\nGATE ENTRY NO sno E2 OSA\\nTIME crcnsenessesghet - AY -\\n\\nSECURITY SIGN one\\n\\nAuthorised Signatory\\n\\nDeclaration : Certified that the particulars given above are true and correct the amount indicated represents the price actually charged\\nand that there is no flow of addition consideration directly or Indirectly from the buyer.\\n\\nDate & Time of Preparation of Invoice: 31/01/2022 09:01:14 Page 1 of7 .- Place: Manesar\\nRegd. Office Plot No.-55, Sector-3, IMT Manesar, Gurgaon, Haryana, INDIA www. hi-lex.co.in\\n\\n\",{\"entities\":[[80,111,\"SELLER ADDRESS\"],[129,137,\"INVOICE NUMBER\"],[138,148,\"INVOICE DATE\"],[274,301,\"SELLER ADDRESS\"],[326,342,\"SELLER GSTIN\"],[521,620,\"BUYER ADDRESS\"],[631,665,\"BUYER ADDRESS\"],[682,697,\"BUYER GSTIN\"],[1293,1300,\"ITEM FREIGHT\"],[1308,1330,\"ITEM FREIGHT\"],[1351,1363,\"NET AMOUNT\"],[1806,1816,\"IGST\"],[1963,1967,\"CGST\"],[2057,2061,\"SGST\"],[2243,2255,\"GROSS AMOUNT\"],[2809,2868,\"SELLER ADDRESS\"]]}),\n",
        "(\"AREA, KHUSHKHERA,ALWAR-301707 AREA, KHUSHKHERA,ALWAR-301707 \\\\\\n| CUSTOMER CODE 1074 CUSTOMERCODE : 4074\\n\\n| STATE : 8-RAJASTHAN STATE * 8-RAJASTHAN\\n\\n;GSTIN NO. : 08AAACH1765Q273 GSTIN NO. :\\n\\n| Time of Supply :\\n\\n2\\n\\n7, | |\\nfirs HTA\\n\\n- PASSION FOR PERFECTION\\n\\nInvoice Date\\n\\nVendor Code 2H14\\n\\nLIMITED)\\n\\nPLOT NO. SPL-1D, TAPUKARA INDUSTRIAL\\n\\nOSL6433\\n\\nTax is payabie on reverse charges (Yes/No): _No\\n\\nGSTIN QR CODE\\n\\nfae frm\\n\\né ane eB\\n“ae\\nSrrvk| eae\\nars\\na\\n\\nA; - i\\nessay aaa\\n\\nsinha is tae es Za ied\\nmeagre\\nusecase\\n\\nHI - TECH ARAI PVT LIMIT\\n\\nOM LOGISTICS, NEAR MULTIVAC INDIA CIN\\n\\n(SEC 31(1) OF GST ACT2017) TAX INVOICE\\n\\nct py = ae — ae = ed = i a ences i\\nOur Invoice ref : 210602568 \\\\ - Cust P.ONo. :910750 .\\n\\n= 02-FEB-22 1 |\\n\\n4:30 PM\\n\\nShipping address / Place of Supply:\\nHONDA MOTOR INDIA (A UNIT OF HONDA CARS INDIA\\n\\nPRODUCT DESCRIPTION\\n [91202KPL901 OIL SEAL 208 X53 KO —\\n\\nIGST 18% - CUST.INV GURGAON(HARYANA) [ FOR SIZE(S): 6433 ]\\n\\nORIGINAL FOR RECIPIENT\\n: excise@hitecharai.com\\nU29130TN1985PTC011572\\n\\n: AAACH3917N\\n:_O6AAACH3917N1ZG\\n\\nSECTOR-18, 90; E-Mail\\n\\nHR-122001\\n\\nPAN\\nGSTIN\\n\\nPayment Term :55 NET\\n\\nBilling address:\\nHONDA MOTOR INDIA (A UNIT OF HONDA CARS INDIA\\nLIMITED)\\n\\nPLOT NO. SPL-1D, TAPUKARA INDUSTRIAL\\n\\nHSN/ISAC| QTY Juom RATE | VALUE\\n\\n40169330 2000] 12.40 24800.00\\n\\nI 2000] - 24800.00\\n\\nNDA MOTOR INDIA |\\n(A NON HONDA CARS INDIA LIMITED)\\nSECURITY TKR\\nINCOMING MATERIAL\\n\\n04 FEB 2022\\n\\ndwocoeteasuogccuevovoesarannoneseeouaene\\n\\n—\\n29264,00 |\\n\\neee)\\n\\nTOTAL:\\n\\nInvoice Value(In Words, Rupees):\\n\\n(TWENTY NINE THOUSAND TWO HUNDRED SIXTY FOUR ONLY)\\n\\nFor HI-TECH ARAI (P) Ltd.,\\nSignature valic\\n\\nGRN ref for HTA: 5067462\\n\\nNo of Boxes: 4\\n\\nThis file is signed using Digital Signature.\\n\\n\",{\"entities\":[[0,29,\"BUYER ADDRESS\"],[160,175,\"BUYER GSTIN\"],[505,564,\"SELLER ADDRESS\"],[663,672,\"INVOICE NUMBER\"],[702,711,\"INVOICE DATE\"],[831,859,\"ITEM DESCRIPTION\"],[998,1008,\"SELLER PAN\"],[1010,1026,\"SELLER GSTIN\"],[1028,1041,\"SELLER ADDRESS\"],[1051,1060,\"SELLER ADDRESS\"],[1112,1204,\"BUYER ADDRESS\"],[1239,1247,\"HSN/SAC\"],[1254,1259,\"UNIT PRICE\"],[1272,1276,\"QUANTITY\"],[1280,1288,\"NET AMOUNT\"],[1430,1438,\"GROSS AMOUNT\"]]}),\n",
        "(\"HITACHI . TAX INVOICE See? ZO Original for Recipient\\nInspire the Next For Supply of Goods Section 31 read with Rule 48 of the CGST Rule ,2017 1\\n\\nHitachi Astemo Rajasthan Brake Systems Pvt. Ltd.\\n(Formerly known as Nissin Brake India Pvt. Ltd.)\\nZ SP-1-33-35, New Industrial Area,Phase-II] Neemrana, Rajasthan -301705\\nRegd. Office : SP-1-34-35, New Industrial Area, Phase III ,Neemrana -301705 “S SY S\\nGSTIN_: 08AACCN3633KIZD. PAN ; AACCN3633K. CIN : _ Email : . website :\\n\\nCust. PO Number & Date : 910019 / Details of Consignee (Shipped To)\\nAmendment PO Number & Date :\\n\\nName : HONDA MOTOR INDIA(A UNIT OF HONDA\\nVendor Code 1 2N12 CARS INDIA LIMITED)\\nDetails of Receiver ( Billed To ) ; Address 1 : Plot No. Spl-1d,, Tapukara Industrial Area,,\\nName *: : HONDA MOTOR INDIA(A UNIT OF HONDA CARS Kaddress 2 Khoshkhera-301707 =\\nINDIA LIMITED) State Code & Name : 08 ~ Rajasthan ~ Invoice No. : 2010516580 an :\\nAddress 2 Plot No. Spl-id,, Tapukara Industrial Area,, Khushkhera, Country > India a Invoice Date & Time : 31.01.2022 18:06:47\\n\\nAddress 2 Khushkhera-301707 . GSTIN/UIN & PAN :  08AAACH1765Q2Z3 / AAACH1765Q\\nState & Country : 08 - Rajasthan / India Place of Supply/Delivery : KHUSHKHERA\\n\\nGSTIN & PAN: 08AAACH1765Q2Z3 / AAACHI765Q Principal Place of Business: Rajasthan\\n\\nBusiness Place : Rajasthan >IRN No.: 5092a513c6598b852436b6 72ed5def278ab3ca761919d07£9C67d4bfedd15a51b\\n\\nSr. item fCode\\n\\nNo.\\n\\nMode of Dispatch : By Road\\n\\nHSN/SAC\\n\\nPart Name/\\nPart Code\\n\\nItem Description Qty UOM | Rate/Price Total TCS Taxable\\n\\nCGST IGST\\n\\nRate Amount\\n\\nAmount Amount Amount\\n\\n%| [Rs. Rs.\\n| Ly 2000000307 87141090 06451GE2405 \\\"SEAL,SET PISTON\\\" 9000 NO 97,110.00 97,110.00 | 14.00 13,595.40 | 14.00 0.00_\\n9000 97,110.00 97,110.00 13,595.40 13,595.40 0.00\\nTotal Invoice Value (in Words) : Rupees One Lakh Twenty Four Thousand Three Hundred and Eighty Paise Only Total 124,300.80\\n\\nWhether Tax Payable under Reverse Charge: No\\n\\nRemarks - Grand Total 124,300.80 ——-\\n\\n~ FOR HITACHI ASTEMO RAJASTHAN BRAKE SYSTEMS PVT.LTD.\\n\\nASHUTOSH —_igtelysaned by asiurost\\nI ! KUMAR PAN DEY poe Ors wee\\n\\nAuthorized. Signatory\\n\\nIAHR represents the price actually charged and that there is no flow of additional consideration directly or indirectly\\n\\nDeclaration :\\n\\nfrom the Receiver (Buyer). All disputes are subject to\\nGST Authority :\\n\\nPage |\\n\\noe\\n\",{\"entities\":[[145,390,\"SELLER ADDRESS\"],[407,423,\"SELLER GSTIN\"],[430,441,\"SELLER PAN\"],[576,609,\"BUYER ADDRESS\"],[629,648,\"BUYER ADDRESS\"],[697,741,\"BUYER ADDRESS\"],[802,819,\"BUYER ADDRESS\"],[888,898,\"INVOICE NUMBER\"],[1011,1030,\"INVOICE DATE\"],[1081,1096,\"BUYER GSTIN\"],[1099,1109,\"BUYER PAN\"],[1417,1424,\"ITEM FREIGHT\"],[1577,1587,\"ITEM NUMBER\"],[1588,1596,\"HSN/SAC\"],[1597,1608,\"ITEM NAME\"],[1610,1625,\"ITEM DESCRIPTION\"],[1627,1631,\"QUANTITY\"],[1632,1634,\"UNIT OF MEASURE\"],[1692,1701,\"NET AMOUNT\"],[1712,1721,\"CGST\"],[1722,1731,\"SGST\"],[1732,1736,\"IGST\"],[1929,1939,\"GROSS AMOUNT\"]]}),\n",
        "(\"et nee\\n\\nAddryzs:Piut No. SPL-2(D), 2(E), 2()\\n\\nNONDA MOTORCYCLE & SCOOTER {NDIA PVT. LTD.\\n\\n& 2(G), Tapukara Industrial Area Distt. Alwar, Rajasthan, Rajasthan\\n\\né\\nTRE o\\n\\n|GSTIN: O8AAACHT7467D ZK\\n|PANNO: AAACH7467D\\n\\n1212icd10a42028cdi Sce88S5a9bd7eafess 9a239d6fa360\\n\\nU35912HR2001PTC034649\\n\\nTAX INVOICE |\\n\\nMBE |\\n\\n6e03 7bcb3ec8 i 3f\\n\\nHONDA MOTOR INDIA\\n(A UNIT OF HONDA CARS inet\\nSECURITY TK\\nINCOMING MATERIAL\\na4\\n\\nJA AL OND\\n\\nINVOICE NO.:\\n\\nDate of Issue of Invoice:\\n\\nis Service:: ' N\\n\\nSupply Type: B2B\\n\\n272021733128\\n29.01.2022\\n\\n——\\n\\n“m0 ya\\\"\\n\\nReference No.:\\nDate:\\nDelivery No.:\\n\\nDate.:\\n\\n1301302715 (1)\\n\\nZUL\\n\\nGATE ENTRY NO... SACKY + fy\\n\\nTHE ROO\\nSECURITY SIGN\\n\\nJT SR\\n\\n08.01.2022\\n1381506711\\n29.01.2022\\n\\n00% G209ereT EE.\\n\\nWe peke Bo00e0000s0000000000\\n\\nney 4\\n\\nrah ede\\n\\n[Details of Recepient(Billed to) [Place of Supply Place of Delivery (Ship to)\\n\\nIN ame: HONDA MOTOR INDIA (A UNIT OF HONDA CARS Name: HONDA MOTOR INDIA (A UNIT OF HONDA Name: HONDA MOTOR INDIA (A UNIT OF HONDA\\n|Address: PLOT NO.SPL-1 D,TAPUKARA Address: PLOT NO.SPL-1D,TA PUKARA Address: PLOT NO.SPL- ID, TAPUKARA\\n\\n{ IND USTRIAL.KHUSHKHERA Rajasthan | INDUSTRIAL, KHU SHKHERA, Rajasthan INDUSTRIAL. KHU SHKHERA, Raj asthan\\n\\njPin code: 301707 IPin code: 301707 Pin Code: 361707\\n\\n[State Cede: 08 ——- State Code: 08 State Code: 08\\n\\nIGSTIN: O8AAACHI765Q273 * GST: O8AAACHiI 765Q2Z3 GSTIN: O8AAACHI 765Q2Z3\\n\\ntins. Policy; IFFC- TOKIO GENERAL INSURANCE CO.LTD GR No. & 29.01.2022 Transporter Reverse Charge: N\\n\\n‘No. & Dt. :\\n\\n22862092 valid from 01.07.2021 to 30.06.2022\\n\\nMode of Transport: By Truck\\n\\nHRSTAF Gee\\n\\n\\\"[E-Way Bill No\\n\\n\\\\Payment Terms: 25th of every month for accept Veh. Reg. No.: E-Way Bill Valid Up To Date:\\nG: A\\n\\nState: Rajasthan State: Rajasthan - GV tate: Rajasthan\\n7 | [ | QTY | Taxable SGSF_ CGSF IGST\\n\\nS.No. i Service Part No. Description of Goods HSN Code | Unit Price (WOM) Amount Rate Amt. Rate Amt. Rate Amt.\\n\\n—_| . _ a % % %\\nLt | 17S500KOND80ZE G [TANK ASSY,FUEL*TYPE1* 2 _ 871410901 __ 4183.29 4 | 16,733.16 | 14.00 | 2,342.64 | 14.00 2,342.64 | 0.00 | ___ 0.00\\nTotal _ — _ 16,733.16 2,342.64 2,342.64 ; 6.00\\n1 a us wa tov _ | Total TCS@... 0.000 % i 0.00\\n\\nTotai Invoice Value(in Figure): _ i A L _\\n\\nTotal luvoice Value(in Words): 3 AND FOUR HUNDRED EIGHTEEN RUPEES FORTY FOUR PAISE\\ni i‘\\n| R- 793 22\\n~ -_\\ni. : r i 2 Le\\nL —_ pty >. |\\nREMARKS \\\\ 2S 4 j i For HONDA MOTORCYCLE & SCOOTER INDIA PVT. LTD.\\nl. ; Loo ¥ 38 oorocees 4oeusescnagesccgna9acees ; : oe. crart! |\\nCerufied that the particular given above are true and corr resent the price actually chargedt& cuere is no flow of additional }\\niconsideration directly or indirectly from the buyer Te eeeeeascarorore sconce vale a SRY DM occcg oe! Sane — H\\nPo - . { a (Authorised Signatory)\\n\\nsot TIveeTesoNeoR dace GatE 2% \\\\ ~\\nOriginal for Recipient Registered’ & Comput come ronareseeseeene Paget of 1\\n\\nCommercial Compiex £ £, Sector: 49-50, Golf Course Extension Road. Gurugiam,\\n\",{\"entities\":[[16,72,\"SELLER ADDRESS\"],[74,146,\"SELLER ADDRESS\"],[176,192,\"SELLER GSTIN\"],[201,211,\"SELLER PAN\"],[497,509,\"INVOICE NUMBER\"],[510,520,\"INVOICE DATE\"],[844,883,\"BUYER ADDRESS\"],[976,1000,\"BUYER ADDRESS\"],[1073,1105,\"BUYER ADDRESS\"],[1191,1197,\"BUYER ADDRESS\"],[1293,1308,\"BUYER GSTIN\"],[1540,1548,\"ITEM FREIGHT\"],[1903,1917,\"ITEM NUMBER\"],[1921,1942,\"ITEM DESCRIPTION\"],[1947,1956,\"HSN/SAC\"],[1960,1967,\"UNIT PRICE\"],[1968,1969,\"QUANTITY\"],[2048,2057,\"NET AMOUNT\"],[2058,2066,\"CGST\"],[2067,2075,\"SGST\"],[2125,2129,\"ITEM MISC FEES\"]]}),\n",
        "(\"HONDA MOTGRCYCLE & SCOOTER INDIA PVT. LTD.\\n\\n5 Address:1Peddar Industrial Park, Vill. Vithalapur,Mandal,, Ahmedabad, Gujarat\\n\\nFERN: 662a937106c389c3 9el 85e244£5753 1b8 19654091 76268a8 | df2def95f1 20d71\\nGSTIN: 24AAACH7467D1ZQ\\n\\nPAN NO: AAACH7467D\\n\\nCIN No: U35912HR2001PTC034649\\n\\nINVOICE NO.: 4F2021732925 * Zo\\n. |Date of Issue of Invoice: 29.01.2022\\nSupply Type: B2B\\n\\nIs Service:: N | yoy?\\n\\nDetails of Recepient(Billed to)\\n\\nA\\nSECURITY TKR\\nINCOMING MATE!\\n\\n1301302717\\n03.01.2022\\n1381506735 |\\n29.01.2022\\n\\nPlace of Supply Place of Delivery (Ship to)\\n\\nName: HONDA MOTOR INDIA (A UNIT OF HONDA CARS Name: HONDA MOTOR INDIA (A UNIT OF HONDA Name: HONDA MOTOR INDIA (A UNIT OF HONDA\\nAddress: PLOT NO.SPL-1D,TAPUKARA _ ? Address: PLOT NO.SPL-1D,TAPUKARA Address: PLOT NO.SPL-1D,TAPUKARA\\nINDUSTRIAL, KHUSHKHERA, Rajasthan INDUSTRIAL, KHUSHKHERA, Rajasthan INDUSTRIAL,KHUSHKHERA, Rajasthan\\nPin code: 301707 A ‘Pin code: 301707 Pin Code: 301707\\nState Code: 08 a State Code: 08 State Code: 08\\nGSTIN: 08AAACHI765Q2Z3 GSTIN: 08AAACH1765Q2Z3 GSTIN: 08AAACH1765Q273\\nIns. Policy; © IFFCO- TOKIO GENERAL INSURANCE CO.LTD GR No. & 29.01.2022 Transporter Reverse Charge: N\\nNo. & Dt. : 22862092, 01.07.2021 to 30.06.2022 Mode of Transport: By Truck E-Way Bill No.: 651379341900 —_—\\nPayment Terms: 25th of every month for accept Veh. Reg. No.: E-Way Bill Valid Up To Date: 03.02.2022\\nState: Rajasthan State: Rajasthan State: Rajasthan\\nQTY Taxable SGST CGST IGST\\nS.No. Service Part No. Description of Goods HSN Code Unit Price (UOM)| Amount | Rate] Amt. | Rate Amt. Amt.\\n% % %\\n1_| 13000KWPD02 Ss CRANKSHAFT COMP ¢\\\\_ pit 3 eta 2210.74| 600 | 1,326,444.00| 0.00] _0.00| 0.00 0.00 |28.00 | 371,404.32\\n2_| 51110KWPHO0O FORK SUB ASSY,FR S6 \\\\S_—87141090| 1544.32] 135 208,483.20 | 0.00 | 0.00 | 0.00 0.00 |28.00| 58,375.30\\n3_ | 50100KZKD02 ) a ) FRAME BODY COMP 87141090 3461.91 12 41,542.92 | 0.00 0.00 | 0.00 0.00 |28.00| 11,632.02\\nTotal 1,576,470.12 0.00 0.00 441,411.64\\n\\nTotal TCS@... 0.000 %\\n\\n0.00 |\\n\\nTotal Invoice Value(In Figure): 2,017,881.76\\nTotal Invoice Value(In Words):\\n\\nREMARKS \\\\ For HONRA MOTORGYCLE & SCOOTER INDIA PVT. LTD.\\n\\nCertified that the particular given above are true and correct and the amount indicated represent the price actually charged & there is no flow of additional\\nconsideration directly or indirectly from the buyer.\\n\\nthorised Signatory)\\n\\nOriginal for Recipient Registered & Corporate Office ‘Honda Motorcycle and Scooter India Pvt. Ltd., Commercial Complex I, Sector: 49-50, Golf Course Extension Road, Gurugram, y Paget of 1\\n\",{\"entities\":[[0,42,\"SELLER ADDRESS\"],[46,123,\"SELLER ADDRESS\"],[211,226,\"SELLER GSTIN\"],[236,246,\"SELLER PAN\"],[292,304,\"INVOICE NUMBER\"],[339,349,\"INVOICE DATE\"],[553,592,\"BUYER ADDRESS\"],[684,707,\"BUYER ADDRESS\"],[778,811,\"BUYER ADDRESS\"],[889,895,\"BUYER ADDRESS\"],[987,1002,\"BUYER GSTIN\"],[1218,1226,\"ITEM FREIGHT\"],[1910,1922,\"NET AMOUNT\"],[1923,1927,\"CGST\"],[1928,1932,\"SGST\"],[1933,1943,\"IGST\"],[1968,1972,\"ITEM MISC FEES\"],[2008,2020,\"GROSS AMOUNT\"]]}),\n",
        "(\"’\\n+ ‘\\n\\n’ r\\n\\nHONDA MOTORCYCLE & SCOOTER INDIA PVT.LTD. TAX INVOICE\\n\\nAddres3:Plot No. 109-142, ,Narsapura Industrial Area,Karinayakanahalli Village, Kasaba Hobali,Malur Taluk, Distt. Kolar,Karnataka\\n\\nfore rere errstenmuremnien\\n\\nIRM: 742.5486 1a425a7b9def387ac79506c5 785b2 1 45ea9b9b(83ad300bd9fe8\\n\\niGSFIN: 9 29AAACH7467D1ZG\\n\\nIPAN NG! AAACHTI67D Ne\\n\\nCIN No: U35912HR2001PTC034649 a\\n\\nINVOICE WE: 3F2021731631 a Reference No.: 1301202716\\n\\nDate of issue of Invoices 27.01.2022 Date: 03.01.2022\\nSs\\n\\nSupply Type: B2B a Delivery No.: 138120\\nIs Service:: N G h eZ Date.: 27.01.2022\\n\\n31 yAN Let\\n\\nDetails of Recepient(Biiled to} Place of Supply ~ ° — Place of Delivery (Ship to} |\\n\\na omen, ey\\n\\nHONDA MCTOR INDIA (A UNIT OF HONDA Name: HONDA MOTOR INDIA(A UNITOP HONDA |\\n\\nAddress: PLOT NO.SPL-1D.FAPUKARA Address: PLOT NO.SPL-iD,TAPUKARA Address: PLOT NO.SPL-1D.TAPUKARA\\nINDUSTRIAL. KHUSHKUERA, Rajasthan INDUSTRIAL. KHUSHKHERA. Rajasthan INDUSTRIAL. KHUSHKHERA, Rajasthan\\n\\na code: 30470? Pin code: 301707 Pin Code: 361707\\n\\ntae Code: 08 State Code: 08 [State Code: 08\\n\\nSTEN: ORAAACHTT65Q273 STEN: O8AAACHI7E GSTIN; BAAACHETASE\\n\\n3 22862092, 01. 30.06.2022 GR Ne. & 27.01.2022 Transporter Reverse Charge:\\n\\nNO TEANWay Bio. 18; 4959024 78\\n\\n| Name: HONDA MOTOR INDIA (A UNIT OF HONDA CARS Name:\\n\\ns Peiicy: SP CO TORIC\\n\\noe & Oe: Mode of Transport; By\\n\\nFayment “Peemter 25th ofevery month tor accept Veh. Reg. Nau: ‘E-Wav Bill Valid Up To Date: 2.2022\\nState: State: Rajas ; iSrate: Rajasthan\\nai TT - a : “Taxable | SGST | CST i PST\\nPeseription of Goods YSN Cade Unit Price ; OM) Amount Rate; Amt Rate {- Aunt. |\\n| uF, ;\\nws ee en ee woe ee | i\\nIWE SETR. RR.WEYETYPED* | ee z27 71), Teed 250 | 97,110.00] 8.\\n2 TRAY COMP BATTERY __ ee 20 ee 202.59 240 | 48,621.60) 0.00\\n3 AL PTAAGKSSOU0ZB “A [COWL.R SIDE*PB-306M* oe 87141090] | ee 56,538.00 | 0.00 | . ;\\n4 [o1000K14680z [FENDER SET FR.(W1. SE 717510.) 0 9.632.490] 9.06) 9.00) __ 2697.07\\nS | 42650KTED80ZA \\\\6o SUB ASSY.RIE 87141090 386.134. 40, 0.0 108.117.63\\npee ee - : es on eon - ij\\n$98.036.40 O80 167,450.19\\n—_ | Total TCS@... 0.000%\\n\\ni\\nsave mvnnor A ~ - : — — |\\n{\\n\\nFor HONDA MOTORCYCLE & SCOOTER INDIA PVT. LTD.\\n\\n\\\\ nd ownage\\n\\n{Authorised Signatory)\\n\\nA\\n\\n‘ charged ( | cule “q\\n\\nPa20accoug,\\n\\nOriginal for Recipient iC\\n\\nReustersa & Corporate nsion Read\\n\\n, '\\n‘ i\\n\\nuM ‘\\n\\nHONDA MOTORCYCLE & SCOOTER INDIA PVT. LTD.\\n\\nTAX INVOICE\\n\\nAddre¥s:Plot No. 109-142, Narsapura industrial Area, Karinayakanahalli Village, Kasaba Hobali,Malur Taluk, Distt. Kolar,Karnataka\\n\\nOriginat for Recipient\\n\\nRegistered & Corporate Office ‘Honda Motor\\n\\nIRN: 7Fed4d25b48d6 |a425a7b9def387ac79506c5785b2 | 45ea9b9bfB3ad300bd9 eR\\nGSTIN: 29AAACH7467D12G\\nPAN NO: AAACH7467D\\nCIN No; U35912HR2001PTC034649\\nINVOICE NO.: 3F2021731631 Reference No.: 1301302716\\nDate of issue of Invoices 27.01.2022 Date: 03.01.2022\\nSupply Type: B2B Delivery No.: 1381505033\\nIs Services: N Date.: 27.01.2022 fa)\\nDetails of Recepient(Billed to) Place of Supply ~~ Place of Delivery (Ship to) -\\nName: HONDA MOTOR INDIA (A UNIT OF HONDA CARS Name: HONDA MOTGR INDIA (A UNITOF HONDA ___ [Name: HONDA MOTOR INDIA (A UNIT OF HONDA |\\n. |\\njAddress: PLOT NO.SPL-ID.TAPUKARA Address: PLOT NO.SPL-{R-PAPUKARA Address: PLOT NO.SPL-1D,/TAPUKARA i\\nINDUSTRIAL, KHUSHKHERA, Rajasthan INDUSTRIAL KHUSURHERA Rajasthan INDUSTRIAL, KHUSHKHERA. Rajasthan ;\\nPin code: 301707 Pin code: 301707 Pin Code: 301707 i\\nState Code: 98 State Code: 08 State Code: 08\\nGSTIN: 08AAACHI17650273 iGSTIN: OSAAACTII TA GSTIN: OBAAACH 17650273 i\\n[ins. Policy: IFFCO TORIO 22862092, 01.07.2021 to 30.06.2022 GR No. & 27.01.2022 _[Pransporter Reverse Charge: N |\\nNo. & Dt. : Mode of Transport: By lh-War Bi) No: , {5 13\\nPayment Terms: 25th of every month for accept Vek. Reg. No.: E-Way Bill Valid Up To Date: 07.02.2022\\nState: Rajasthan |Siaie: Rajasthan |\\n[| ) | a\\\" Tory Tfaxable [ scst | cGsT | IGST\\n|S.No. Service Part No. Description of Goods HSN Code Unit Price ; (BOM) | Amount { Rate! Amt. } Rate | Amt. | Rate Amt. |\\n%_| % %\\nLo f cen a eocnas ces 2 ne mettre eicbie semana anne mess nn a — +. _ 4\\n| 6 | 44650K0LDOOZA (eS | WHEEL SUB ASSY,FR*NH35M* Ge AG 6 87141090) _ 120 tL 200.082.00 | 0.00 | 0.00! 0.00, __ 0.00 |28.00 | 56.022.96\\n_ 7 {StlOOKONDIOZA Q |FENDER,FRONT#NHI* 87141090} 4S 19,623.60, 0.00 | 0.00 | ue | 0.00 528.00 5 494.61\\n_8 61300K147007E \\\\4\\\" SET ILLUST FR VISOR*TYPE 1* 87141090 _ 506.43] 70 | 39.650.10! 0.00 | 0.00} 0.00! 0.00 128.00 11,102.03\\n9 | 643 10K WPDOOZZ \\\\e® [PANEL COMP FLOOR SOZAL ; Yes 87141090) 533.44) 200 | 106.688.00| 0.00 | 0.00 | 0.00 0.00 |28.00| 29,872.64\\n10 | 61100K149607ZB = \\\\\\\\ [FENDER FRONT*NH-1* 87141090 ; _ 502.56|_ lo | §5.281.60 | 0.00 0.00 | 0.00 0.00 [28.00 | 15,478.85\\nTotal _ ee eenan ait . \\\"1,019.361.70 0.00 ___ 9.00 285,421.28\\nr 2 & SCOOTER INDIA _ 7 Total TCS@... 0.000% | 0.00 |\\nTotal Invoice Value(in Figure): 1,304,782.98 _ SNDURA GE ee oe _ _ _\\n[Voral tnvnice \\\\Valu(in VW ords): LUI TEEN DA Usa nS SEIN\\\"HUINDRED EIGHTY LIGHT PRAISE | — ~~ —\\n4 q vd \\\\ q 0 7? a | |\\nREMARKS _ —) ie 7072 For HONDA MOTORCYCLE & SCOOTER INDIA PVT. LTD.\\nJL ’\\ned that the particular given above are (rue and correct and the amount indicated represent the > flow ¢ \\\\ rae y\\neration directly ectly from the buver. YA Wage\\n__. (Authorised Signatory) . oe\\n\\n=). Galf Course Pxtension Road. Gurugran\\n\\n\",{\"entities\":[[12,53,\"SELLER ADDRESS\"],[75,196,\"SELLER ADDRESS\"],[307,322,\"SELLER GSTIN\"],[333,343,\"SELLER PAN\"],[393,405,\"INVOICE NUMBER\"],[461,471,\"INVOICE DATE\"],[683,717,\"BUYER ADDRESS\"],[802,825,\"BUYER ADDRESS\"],[859,892,\"BUYER ADDRESS\"],[987,993,\"BUYER ADDRESS\"],[1063,1078,\"BUYER GSTIN\"],[4636,4640,\"SGST\"],[4684,4696,\"NET AMOUNT\"],[4697,4701,\"CGST\"],[4711,4721,\"IGST\"],[4769,4773,\"ITEM MISC FEES\"],[4808,4820,\"GROSS AMOUNT\"]]}),\n",
        "(\"Qe\\n\\nHONDA MOTORCYCLE & SCOOTER INDIA PVT. LTD.\\n\\nAddress:Plot No. 1 and 2, Sector-3,IMT, Manesar, Distt. Gurugram (Haryana),Haryana\\n\\nTAX INVOICE.\\n\\nHONDA MOTOR |\\n\\nI _ tL\\nIRN:  _ 27463f4174e86cl c8ab8621b6926ec5827d98b032c7edf5e622e95b64cbf88tb (AUNIT OF HORDA CARS aN\\n. , SECURITY TKR\\nGSTIN: 06AAACH7467D1ZO INCOMING @ATERUAL\\nPAN NO: _AAACH7467D\\nCIN No: U35912HR2001PTC034649 94 JAN 2022\\nINVOICE NO.: 1F2021734322 Reference No.: 1301302714 (5)\\nGATE ENTRY 980) oo AGS srecomecse\\n\\nDate of I fInvoice: 28.01.2022 Date: 28.01.2022 -\\n\\nweoflanteoftmvoies: 28012002 at ne te mee\\nSupply Type: B2B \\\\ Delivery No.: 1381505869 GECURITV SEI oss. scocscsonnssesStzyy-hazzes ovocoesceceages\\nIs Services: N . Date.: 28.01.2022\\n\\nDetails of Recepient(Billed to) Place of Supply Place of Delivery (Ship to)\\nName: HONDA MOTOR INDIA (A UNIT OF HONDA CARS Name: HONDA MOTOR INDIA (A UNIT OF HONDA Name: HONDA MOTOR INDIA (A UNIT-OF HONDA\\nAddress: PLOT NO.SPL-1D,TAPUKARA Address: PLOT NO.SPL-ID,TAPUKARA Address: PLOT NO.SPL-1D,TAPUKARA\\nINDUSTRIAL,KHUSHKHERA, Rajasthan INDUSTRIAL,KHUSHKHERA, Rajasthan INDUSTRIAL, KHUSHKHERA, Rajasthan\\nPin code: 301707 Pin code: 301707 Pin Code: 301707\\nState Code: 08 State Code: 08 State Code: 08\\nGSTIN: 08AAACH1765Q2Z3 GSTIN: O8AAACH1765Q2Z3 GSTIN: O08AAACHI1765Q2Z3\\nIns. Policy: IFFCO- TOKIO GENERAL INSURANCE CO.LTD GR No. & 28.01.2022 Transporter Reverse Charge: N\\nNo. & Dt. : 22862092, 01.07.2021 to 30.06.2022 Mode of Transport: By Truck E-Way Bill No.:\\nPayment Terms: 25th of every month for accept Veh. Reg. No.: } 7 R (ST fT 18 lq E-Way Bill Valid Up To Date:\\nState: Rajasthan State: Rajasthan State: Rajasthan\\nQTY Taxable SGST N CGST IGST\\nService Part No. Description of Goods HSN Code Unit Price (UOM) Amount Rate Amt. Rate Amt. Rate Amt.\\n% % %\\n61110K1KDO0ZC SET ILLUS,FR FENDER*TYPE2* 87141090 476.9| 28 13,353.20] 0.00 | 0.00 | 0.00 3,738.90\\n| 61 316KOEDO0ZA SET ILLUST,L FR GARNISH 87141090 151.81] 50 7,590.50 | 0.00 0.00 | 0.00 2,125.34\\n61306KOEDOOZA SET ILLUST,R FR GARNISH 87141090 150.24} 50 7,512.00 0.00 | 0.00 0.00 | 28.00 2,103.36\\n4 }| 83670K1LD50ZD SET ILLUS,L SIDE COVER 87141090 340.8} 50 17,040.00 0.00] 0.00 0.00 | 28.00 4,771.20\\nB*TYPE2*\\n83670K1LDSOZC SET ILLUS,L SIDE COVER 87141090 340.8 27 9,201.60 0.00 | 0.00 2,576.45\\n45,495.70 0.00 0.00 12,738.80\\n| Total TCSi ... 0.000 % _0.00\\n\\nREMARKS\\n\\nconsideration directly or indirectly from the buyer. .\\n\\nCertified that the particular given above are true and correct and the amount indicated represent the price actually charged & there is no flow of additional\\n\\no\\n\\nFor HONDA MOTORCYCLE & SCOOTER INDIA PVT. LTD.\\n\\nke,\\n\\n(Authorised Sigtjatory)\\n\\nOriginal for Recipient\\n\\nRegistered & Corporate Office :Honda Motorcycle and Scooter India Pvt, Ltd., Commercial Complex II, Sector: 49-50, Golf Course Extension Road, Glirugram, LO\\n\\nPage:1 of 2\\n\\n4\\n\\nHONDA MOTORCYCLE & SCOOTER INDIA PVT. LTD. TAX INVOICE\\n\\nAddress:Plot No. 1 and 2, Sector-3,IMT, Manesar,Distt. Gurugram (Haryana),Haryana\\n\\nIRN: | 2746314 174e86c | c8ab862 1 b6926ec5827d98b032c7ed{Se622e9Sb64cbf88fb\\nGSTIN: 06AAACH7467D1ZO\\n\\nPAN NO: AAACH7467D\\n\\nCIN No: U35912HR2001PTC034649\\n\\nINVOICE NO.: iF2021 a Reference No.: 1301302714 (5)\\n\\nDate of Issue of Invoice: 28.01.2022 Date: 28.01.2022 4\\nSupply Type: B2B Delivery No.: 1381505869\\nIs Services: N Date.: 28.01.2022\\nDetails of Recepient(Billed to) Place.of Supply Place of Delivery (Ship to)\\nName: HONDA MOTOR INDIA (A UNIT OF HONDA CARS Name: - HONDA MOTOR INDIA (A UNIT OF HONDA Name: HONDA MOTOR INDIA (A UNIT OF HONDA\\nAddress: PLOT NO.SPL-1D,TAPUKARA , Address: PLOT NO.SPL-1D,TAPUKARA Address: PLOT NO.SPL-1D,TAPUKARA\\nINDUSTRIAL,KHUSHKHERA,Rajasthan INDUSTRIAL,KHUSHKHERA, Rajasthan INDUSTRIAL,KHUSHKHERA, Rajasthan\\nPin code: 301707 — Pin code: 301707 Pin Code: 301707\\nState Code: 08 a State Code: 08 State Code: 08\\nGSTIN: O08AAACH]1 765Q2Z3 GSTIN: O8AAACH1765Q22Z3 GSTIN: O8AAACH1765Q223\\nIns. Policy: = [FFCO- TOKIO-GENERAL INSURANCE CO.LTD GR No. & 28.01.2022 | Transporter Reverse Charge: N\\nNo. & Dt. : 22862092, 01.07.2021 to 30.06.2022 Mode of Transport: By Truck |E-Way Bill No.: i\\nPayment Terms: 25th of every month for accept Veh. Reg. No.: |E-Way Bill Valid Up To Date:\\nState: Rajasthan State: Rajasthan | State: Rajasthan\\nTaxable SGST CGST IGST\\nS.No. Service Part No. Description of Goods Unit Price Amount\\n|\\ny 83660K1LDS50ZC SET ILLUS,R SIDE. COVER . 4,430.40 . 0.00 | . 1,240.51\\nj _ B*TYPE3* | | |\\nTotal _ 59,127.70 0.00 0.00 16,555.76 | 4\\nBONDA MOz | Total TCS... 0.000 % 0.00\\n\\nTotal invoice Value(In Figure): 75,683.46 ~~\\nTotal Invoice Value(In Words): SEVENTY FIVE THOUSANDsSEIC-HUNDRED FIGHT THREE RUPEES FORTY SIX PAISE\\n\\n| | R--F 3213\\n\\n- _ oOo ~\\n\\n| Uy) te {\\nREMARKS i For HONDA MOTORCYCLE & SCOOTER INDIA PVT. LTD.\\nCertified that the particular given above are true and correct and the amount in ed represent. the. price actualy oe che 18 ow of additional . CO\\nconsideration directly or indirectly from the buyer. : : | \\\\ 7 Nn\\n\\n; YOu (Authorised Sighdtory\\n\\nOriginal for Recipient Page:2 of 2\\n\\nRegistered & Corporate Office Honda Motoreyele : and Scooter India Pvt. Ltd. ommervjal Complex Il, Sector: 49-50, Golf Course Extension Road, Giltjigraili, LO\\n\",{\"entities\":[[4,130,\"SELLER ADDRESS\"],[290,305,\"SELLER GSTIN\"],[332,343,\"SELLER PAN\"],[399,411,\"INVOICE NUMBER\"],[497,507,\"INVOICE DATE\"],[793,832,\"BUYER ADDRESS\"],[924,947,\"BUYER ADDRESS\"],[1014,1046,\"BUYER ADDRESS\"],[1124,1130,\"BUYER ADDRESS\"],[1217,1232,\"BUYER GSTIN\"],[4054,4062,\"ITEM FREIGHT\"],[4412,4421,\"NET AMOUNT\"],[4422,4426,\"CGST\"],[4427,4431,\"SGST\"],[4432,4441,\"IGST\"],[4479,4483,\"ITEM MISC FEES\"],[4517,4526,\"GROSS AMOUNT\"]]}),\n",
        "(\"| Rule 1, Seo of COST Act 2017 UY IRL\\n\\n, INDO AUTOTECH LIMITED\\n\\nPLOT NO. 332-338 & 316-317, SECTOR-24,FARIDABAD-121005, HARYANA\\n\\nPH. No : 01294028209 FAX: 01294028212\\nEmail : marketing@indoautotech.com Website : www.indoautotech.com\\n\\nShip to Party\\n\\nBill to Party Vendor Code: 2106\\n\\nHONDA MOTOR INDIA( A UNIT OF HONDA CARS INDIA LIMITED) a\\nPLOT NO.SPL-1D, TAPUKARA INDUSTRIAL a\\nAREA,KHUSHKHERA,ALWAR ALWAR-301707 a\\n\\nRajasthan, India\\n\\nState Code : 08 GST Reg. No.08AAACH1765Q2Z3 PAN: AAACH1765Q\\n\\nPLOT NO.SPL-1D, TAPUKARA INDUSTRIAL\\n\\nAREA, KHUSHKHERA,ALWARALWAR-301707\\n\\nRajasthan , India\\n\\nState Code: 08 GST Reg. No.08AAACH1765Q2Z3_ PAN:\\n\\nPAN : AABCI6282N\\n\\nGSTIN . : O6AABCI6282N1Z6\\nCommissionerate : FARIDABAD\\n\\nCIN : U34300HR2006PLC036369\\nState Code : 06\\n\\nTime of Invoice Issue : 18:33:35\\n\\nDate and Time of Eway Bill : 341408607728\\n\\nremoval goods Date & Time : 02.02.2022 & 06:35:00 PM\\nValid Upto : 03.02.2022\\n\\nEnagare No :\\n\\nRATE PER| BASIC VALUE) AMORT | AMORT\\nUNIT\\n93.31 93,310.00 0.00\\n\\n4 120 70.45 8,454.00 0.00 0.00 8,454.00\\n\\nS.NO| PART DESCRIPTION PART NO,/ LINE ITEMNO] HSN\\n\\nISAC\\n\\nBRKT COMP LP STEP\\n50702KTE910\\nPEDAL COMP,BRAKE\\n46500K43900\\n\\n87149100] 20 93,310.00\\n\\n3. |PEDAL COMP,BRAKE 97.08 11,649.60 0.00 11,649.60\\n46500K43910\\n\\n4 |PEDAL GEAR CHANGE 35.95 8,987.50 8,987.50\\n24701KOED00\\n\\n5 |STAY FR. COWL 99.88 27,966.40\\n\\n61311KTE910\\n\\n3) |\\nCertified that the particulars given are true ar A mounigdicajad represents the price actually\\n\\ncharged and that is no additional Consideratien-flew} direatly-or ined ppA-£ LAY\\nBilling Doc : 91308455 RONDA MOTOR INDIA\\n\\nUNIT OF HONDA CARS INDIA LIMITED)\\n\\nRETIRE EGE HR FUP caret\\n\\nTerms and conditions : 1. No claims for d BATE ENA\\n\\n2. Interest will be charged @ 21% P.A for pverdue payments, .\\n\\n3. Payment should be made through acca TE yeereredoden TES &NEPT eter”\\n4. All disputes shall be subject to faridabaliteisllictidnS GN Fes essesereee |\\n\\noe ay\\neas rerpdby ly & Rta O2 xe oa\\n\\nINVOICE NO:\\n\\nDATE\\nIRN\\n\\nHONDA MOTOR INDIA( A UNIT OF HONDA CARS INDIA LIMITED)\\n\\niibsomlest mts oe,\\n\\nq\\n\\nTotal CGST Payable :NIL Onl} SECURITY TKR Binge f THN wn. ay IA Ba. A)\\n\\nTotal SGST Payable :NIL Oni INCOMING MATERIAL i : COEDS se ssaagas)\\n\\nTotal |GST Payable : FORTY TWO Tomy ed oly ae TWO Rupees NINETY Paise rive teeadaccesna iS { VY\\nTotal Invoice Amount :ONE LAKH NINETY TY OUR HUNDRED SEVENTY Rupees FORTY Paigé Onty\\\" wotimen een\\n\\nPage No. ‘1 of 4\\n\\nPurchase Order No 1910252\\nPurchase Order Date :27.07.2012\\nMode of Transport ‘Truck\\n\\nTruck / Lorry No ‘SHR38AB3228\\nGR No\\n\\nORIGINAL FOR RECIPIENT\\n\\n10036609 _ a\\n\\n02.02.2022\\n5a2ef8b319129874d93f1f67004482abfi97a\\nf6e38 1fc4e47a69c15419f70553\\n\\n2,367.12\\n\\n0.00 0.00 0.00] 28.00 3,261.89\\n0.00 0.00] 28.00 2,516.50\\n\\n0.00 28.00 7,830.59\\n\\n42,102.90\\n\\nTotal Invoice Value :192,470.40 a\\n\\nFor INDO AUTOTECH LIMITED\\n\\nDigitally signed by Vivek Tyagi\\n\\nVive k Tya g i Date: 2022.02.02 18:39:37 a\\n\\nAuthorised Signatory\\n\\n\",{\"entities\":[[41,232,\"SELLER ADDRESS\"],[282,336,\"BUYER ADDRESS\"],[339,411,\"BUYER ADDRESS\"],[415,431,\"BUYER ADDRESS\"],[458,476,\"BUYER GSTIN\"],[482,492,\"BUYER PAN\"],[642,652,\"SELLER PAN\"],[664,679,\"SELLER GSTIN\"],[2459,2465,\"ITEM FREIGHT\"],[2467,2496,\"ITEM FREIGHT\"],[2528,2536,\"INVOICE NUMBER\"],[2542,2552,\"INVOICE DATE\"],[2710,2719,\"IGST\"],[2741,2752,\"GROSS AMOUNT\"]]}),\n",
        "(\"\\\\A ORIGINAL FOR RECIPIENT (_} _pupnicare ror TRANsPorTER _[_] _ TRIPLICATE FOR SUPPLIER {_] EXTRA COPY\\nTAX INVOICE : GSTIN . O6AAACIIZ14A1Z.5 | [IRN Not97Sbeda720822b8322402¢9¢3e0b59af3419ec3ef994565faf0\\n(Under Section 31(1) of the CGST/SGST Act,2017) Tax is payable on Reverse Charge : No | 4afS3t5 11596\\nJAY USHIN LTD Invoice No. UC9212212437 YA NodDate:-\\né PLOT NO-4.SECTOR-3,IM'T MANESAR GURGAON jaanen, HARYANA, INDIA Invoice Date © O1-FEB-22 |\\nTel.: 0124-4130400 tates 06 01-02-2022 20-30-00\\nPAN : AAACJ1214A CIN: Lszi10piasese gists | Inv Time : 20:19:00 /; ISON,\\nl Os\\n| Vendor Code.: 2J05 C V4 f, [51k\\nDetails of Buyer (Bill to) _ Details of Consignee (Ship to)’\\nName HONDA MOTOR INDIA (A Unit of Honda Cars India Ltd) a Name HONDA MOTOR INDIA (A Unit of Honda\\nAddress | Plot No. SPL-ID, Tapukara Industrial Area, Khushkhera Address Cars India Lid)\\nState RAJASTHAN Country INDIA iu No. SPL-LD, Tapukara Industrial Area, . \\\\ ©\\n. hushkhera\\n| State Code 08 . ALWAR State RAJASTHAN Country INDIA\\nGSTIN O8AAACH1765Q223 301707\\nI\\nPAN AAACHI765Q GSTIN ALWAR State Code 08\\nCustomer PO. No. : 910191 Transportation Mode : BY ROAD E-Way Bill No. E-Way Date:-\\nCustomer PO Date 2 24-JUL-12 Vehicle No.: HR38¥444> ftLe 266 Ref Inv no./Date:\\nS.Na. Part No. Description of Goods | HSN/ |Unit Pkg Qty Rate Amount [Discount ‘Others Taxable CGST SGST IGST\\nSAC (Rs) value| Ratd Amount |Ratd Amount|Rate] Amount\\n(Rs) |(%) (Rs)|(% ) (Rs) (Rs)\\n1 35010K43901 KEY SET -K43A 83012000 NOS 6 90,00] 413.790 3724110 0.00 0.00 37941.10 0.00 0.00! 18] 6703.40\\n2 35010KSP861 KEY SET - KSPT 83012000 INOS 36 $40.00] 414.480 223819.20 0.00 0.00] 293819.20 0.00 0.00] 18| 40287.46\\n3 35010KSP910 {key set - ksp ; 83012000 NOS 24 48.00| 337.550 16202.40 0.00 0.00] 16202.40 0.00). 0.00! 18| 2916.43\\nlL ee ee pe __| — . —\\nTotal - | 444 678.00 277262.78 6.60 277262.70 | 0.00 0.00 49907.29\\n[MR NO. MRN DATE INV NO. INV DATE ‘otal taxable value for GST Return(Excluding Tax) 277262.70\\nSGST Value(In Words) RUPEE ZERO ONLY Total taxable value for GST Return(including tax) 327169.99 |\\nCGST Value(In Words) 8UPEE ZERO ONLY TCS Value 0.00\\nIGST Value(In Words) 2UPEE FORTY NINE THOUSAND NINE HUNDRED SEVEN AND TWENTY NINE PAISE ONLY Total Invoice Value 327169.99\\nTotal Invoice Value(In Words) RUPEE THREE LAKH ‘TWENTY SEVEN THOUSAND ONE HUNDRED SIXTY NINE AND NINTY NINE PAISE ONLY Less:- Amortization Cost / Taxable 0. 00\\n: 5 36 \\\"\\nBatch No: | Sale Type Sales Net Value Payable J ‘\\\\ 327169.99\\nFOR JAY LA di ie y ron -\\nag otised i tare _ |\\nhecked\\n\\\\4 Ree ered of s AL ROAD, DI DELHI -110033 PH-011-2721 1283, Srii0s04 Website:- www.jpmgroup.co.in Email:- poe jushinindia.com\\n7 =ep Pe tL i\\n~> ca\\nGATE ENTRY NO... SAPO ED... nom\\nwe ws Ss en cmc\\n\\n\",{\"entities\":[[125,141,\"SELLER GSTIN\"],[306,319,\"SELLER ADDRESS\"],[332,344,\"INVOICE NUMBER\"],[360,399,\"SELLER ADDRESS\"],[406,422,\"SELLER ADDRESS\"],[438,447,\"INVOICE DATE\"],[504,514,\"SELLER PAN\"],[676,726,\"BUYER ADDRESS\"],[779,832,\"BUYER ADDRESS\"],[863,872,\"BUYER ADDRESS\"],[881,886,\"BUYER ADDRESS\"],[1006,1021,\"BUYER GSTIN\"],[1035,1045,\"BUYER PAN\"],[1120,1127,\"ITEM FREIGHT\"],[1806,1812,\"QUANTITY\"],[1840,1844,\"CGST\"],[1845,1849,\"SGST\"],[1850,1858,\"IGST\"],[1943,1952,\"NET AMOUNT\"],[2099,2103,\"ITEM MISC FEES\"],[2447,2456,\"GROSS AMOUNT\"]]}),\n",
        "(\"Z ORIGINAL FOR RECIPIENT\\n\\nfd\\n\\nDUPLICATE FOR TRANSPORTER\\n\\n“TRIPLICATE FOR SUPPLIER\\n\\nEXTRA COPY\\n\\nTAX INVOICE\\n\\nJNS INSTRUMENTS LTD\\n\\n| Tel.: RAJASTHAN, INDIA.\\n\\nPAN : AAACJ7034Q\\n\\n< CIN 3\\n\\n(Under Section 31(1) of the CGST/SGST Act,2\\n\\n017)\\n\\nPLOT NO. SP-6(F) , RIICO INDUSTRIAL AREA KAHARNI ZONE, BHIWADI,301019,\\n\\nState; 08 |\\n\\nU74899DL1998PLC094894\\n\\nGSTIN\\n\\n| Inv Time\\n\\nInvoice No.\\n\\n- D8AAACI7034Q1Z4\\nTax is payable on Reverse Charge : No\\n\\nUC321224668 —T_\\nInvoice Date *31-JAN-22\\n: 12:07:02\\n\\nVendor Code.:\\n\\n E-Invoice Details\\n\\n5844a209d0d8Gh7\\n\\nwc No.2-172210956961533\\nae\\n\\nAck Date.:- 31-01-2022 12-09-00\\n| ISO NO:\\n\\nIRN No 6603a38c75¢d3£379f26be388ffdd985a0 baf287b3875al 88\\n\\nS598\\n\\nDetails of Buyer (Bill to)\\n\\nDetails of Consignee (Ship to)\\n\\nJNS Instrume!s\\n\\nKahran: talked\\nro AR 2.8\\n\\nEntry °\\n\\nDate...2U.2\\n\\nTotal In: oice Value(In Words) ®UPEES&\\n“Bite |\\n\\nWn\\n\\nCURI\\n\\nR INDIA\\nPec Ca\\n\\nCUR ATERAL™™\\n\\nD NINTY SEVEN PAISE ONLY\\n\\n| Name HONDA MOTOR INDIA (A UNIT OF HONDA CARS INDIA LTD) Name HONDA MOTOR INDIA (A UNIT OF\\nAddress |PLOT NO. SPL 1 (D)TAPUKARA INDUSTRIAL AREA, KHUSHKHERA, Address | 2ONDA CARS INDIA LTD)\\nALWAR - PLOT NO. SPL 1 (D)TAPUKARA INDUSTRIAL\\nAREA, KHUSHKHERA, ALWAR i\\nState\\n__ | RAJASTHAN Country INDIA BEIWADI Country INDIA Os |\\nState Code] 08 City - BHIWAD! State | RAJASTHAN State Code 08 a)\\nGSTIN | 08AAACH1765Q2Z3 F ,\\nPin 301707 GSTIN | 08AAACH1765Q2Z3\\nCustomer PO. No. — : 910501 Transportation Mode : E-Way Bill No. E-Way Date:-\\nCustomer PO Date : 20-OCT-16 Vehicle No.: HR55T5761 Ref Inv no./Date:\\nS.No. Part No. Description of Goods HSN/ | Unit Pkg Qty | Rate Amount |Discount| Others’ Taxable} __CGST SGST ___ IGST\\nSAC (Rs) value| Rat¢ Amount |Ratd Amount/Rate! Amount\\n(Rs) |(%) (Rs) |(%) (Rs) (Rs)\\n1 | 37200KSPA71 SPEEDOMETER COMP KSPISPD | 7141090 NOS 540.00] 193.550 104517.00 0.00 0.00) 104517.00] 14 14632.38| 14]  14632.38 0.00\\n| 2 | 37200KWP902 SPEEDOMETER ASSY (KWPH) 87141090 NOS 57.00) 281.190 16027.83 0.00 0.00' 16027.83| 14 2243.90] 14 2243.90 0.00\\n3 37200K24901 SPEEDOMETER ASSY (KPH) 87141090 INOS 318.00| 877.480 279038.64 0.00 0.00 979038.64, 14 39065.41) 14 39065.41 0.00\\n4A) [LoeA1S©\\n4 37200KWS901 {{;PEDOMETER ASSY KWSA (SPD) 87141090 INOS 325.00 335.780 109128.50 0.00 0.00 109128.50) 14 15277.99| 14! 1§277.99 0.00\\n5 37200KVT901 SPEEDOMETER ASSY (KVTA) SPD | 87141090 NOS 95.00] 398.780 37884.10 0.60 0.00) 37884.10] 14 5303.77} 14 5303.77 0.00\\n- Total | 1335.00 54659607 0.00 546596.07 76523.45 76523.45 0.00\\nMRN NO. MRN DATE J INV NO. ~ ~ INVDATE otal taxable value for GST Return(excluding tax) 546596.07\\nSGST Value(In Words) SEE SEVENTY six THOUSAND FIVE HUNDRED TWENTY THREE AND FORTY FIVE PAISE ON xo T otal taxable value for GST Return(including tax) 699642.97\\nCGST Value(In Words) RUPEE SEVENTY SIX THOUSAND FIVE HUNDRED TWENTY THREE AND FORTY FIVE PAISE ONL TCS Value 0.00\\nIGST Value(In Words) RUPEE ZERO ONDA. MQ. 1 Total Invoice Value(including tax) 699642.97\\n\\n~ Sales\\n\\nFOR ys INSTRUMENTS LTD\\n\\nowe\\n[Rema Eo\\nRef Challan | _ + AA.\\n\\n| feu\\n\\nOf\\n\\nsed Signature\\n\\n[termes interest @24% will be chargedion the over due Smbudd\\\\l N aya\\n\\nfo\\n\\nphi\\n\\nPROC) OBLOCLD\\n= and Time Of removal\\n\\nGATE ENTRY NO... or eat _ ]\\n\\n‘\\n\\nChecked My\\n\\nco vceeoccabds®\\n\\nName...\\n\\nTIME nn 532\\n\\n—]\\n\\n0. 10%, VAR\\n\",{\"entities\":[[108,127,\"SELLER ADDRESS\"],[137,154,\"SELLER ADDRESS\"],[162,172,\"SELLER PAN\"],[234,303,\"SELLER ADDRESS\"],[376,391,\"SELLER GSTIN\"],[431,442,\"INVOICE NUMBER\"],[460,470,\"INVOICE DATE\"],[473,481,\"INVOICE DATE\"],[917,967,\"BUYER ADDRESS\"],[1010,1066,\"BUYER ADDRESS\"],[1163,1168,\"BUYER ADDRESS\"],[1182,1191,\"BUYER ADDRESS\"],[1306,1321,\"BUYER GSTIN\"],[2390,2397,\"QUANTITY\"],[2422,2430,\"CGST\"],[2431,2439,\"SGST\"],[2440,2444,\"IGST\"],[2533,2542,\"NET AMOUNT\"],[2812,2816,\"ITEM MISC FEES\"],[2896,2905,\"GROSS AMOUNT\"]]}),\n",
        "(\": | TAX - INVOICE (Section 21 of CGST / SGST Act 2017 read with rule 1 of tax anvoice, Credit and debit note rules, 2017) Copy :ORIGINAL FOR RECIPIENT\\ni | For supply of Goods & Services From Factory / Warehouse on payment of GST _| _ _ |\\nCIN 131909041 981210349793 LUMAX AUTO TECHNOLOGIES LTD Invoice No.: 358840966 a IRNQR: -}\\nPAN AAACD4090Q GSTIN : O6AAACD40900429 PLOT NO.165, SECTOR-5, IMT MANESAR Invoice Date :30.01.2022 a\\nState Code:06 - Haryana GURUGRAM-222050 Haryana, INDIA Date & Time of Despatch 8\\nIRNO: 528b3b5£d8c6b9e801F 91 38a79497ae2aa4a226270Cc769d82ea630C794 623eae _ Lé CO?\\nDetails of Recipient (Billed to) Details of Consignee(Shipped to) bust P.O.No:HMI SPD ~- “ode of Despatch : ROAD\\nCustomer Code :103805 Customer Code ©: 103805 910666 Transporter Name\\nHONDA MOTOR INDIA (A UNIT OF HONDA CARS INDIA LTD.) HONDA MOTOR INDIA (A UNIT OF HONDA CARS INDIA LTD.) Pur.Order Date :06.10.2021 Vehicle No. : HR55J1416\\nPLOT NO-SPL-1D,TAPUKARA INDIJETRIAL AREA,, KHUSHKHERA, |PLOT NO-SPL~1D,TAPUKARA INDUSTRIAL AREA, KHUSHKHERA, (Amendment No. : LR / GR No. :\\nSEWAR-301707 — L.tWAR-301707 pate : 4 s1¢ E-~Way Bill No. 371407216470\\n| State/Place of Supply :08-Rajasthan State/Place of Supply :08-Rajasthan ¢ 4 » 4 Vendor Reference :\\nVendor Code 12116 Vendor Code :2L16 : Job Number : \\\\o\\\\\\nState Code 208 GSTIN/Unique : OBAAACH1 76590223 Shete Code os GSTIN/Unique : OBAAACH17659223 ON a oes\\na T i a —]\\nSr.No.|Item Code Desc. of Goods HSN Code | No. of Qty (Unit/kg) Rate per Basic Value Pkg Cost | Discount Amort. Freight| Taxable Value |Rate of IGst Rate of CGST Rate of SGST\\nPkgs (Unit/kg) Charges IGST cGst SGST\\n1 61005544 | FENDER REAR ASSY K-23A -SPD 87141090 60 360.00 222.93 80,254.80 | 0.00 0.00 0.00 0.00 80,254.80 28.00 22,471.34 0.00 0.00 0.00 0.00\\n80100K23900\\n| Totals 80,254.80 | | | | 80,254.80 22,471.34 0.00 0.00\\na0 TOR INDIA\\n(A A OO ReNoACARS NOK LIMITED)\\nINCSMING MATERIAL\\nUS\\nLy 31 JAN 2022 Q- ATS\\nGATE ENTRY NO wnat ASQ\\nTIRE, asnnosesecnsenndrEnee es\\neooncoooonaccudsseceee.\\nTCS@O.000 % : Rs. 0.00\\nTotal Invoice Value (In Figure) : Rs. 102,726.14 Total GST Cess: 0.00\\nTotal Invoice Value (In Words) Rs. ONE LAKH TWO THOUSAND SEVEN HUNDRED TWENTY-SIX AND FOURTEEN PAISE ONLY\\nTotal Tax Value (In Words) : Rs. TWENTY-TWO THOUSAND FOUR HUNDRED SEVENTY~ONE AND THIRTY-FOUR PAISE ONLY\\n\\nTotal Invoice Value\\n\\nAmount of Tax subject to Reverse Charges:- NO\\n\\nas per QRC(Taxable+GST+Other Charges, if any)\\n\\ntas been\\n\\nsaid or shall be paid. Further certified that the particulars given above are true & correct & the amount indicated represents the prices actually charged and that there is no flow of additional consideration directly or indirectly from the buver,\\n\\n1/ We certify that our registration certiticate under the GST Act 2017 is in force on the date on which the supply of goods specified in this tax invoice is made by me / us & the transaction of supply covered by this tax invoice has been effected by me/us & it shall be accounted for in the turnover of supplies white filing of return & the due tax if any payable on the supplies\\n\\n| /\\nFor LUMAX AUT J /}CHNOLOGIES LTD\\n\\nAuthorised Signstorns\\n\\nbo 1 |\\n\\nbP t ir Crit ongly\\n\\nlard\\n\\nContes\\n\\nms Bhowanei\\n\\nni\\n\\naneal R:\\n\\nNaheh lie) 2a\\n\\n\",{\"entities\":[[265,292,\"SELLER ADDRESS\"],[306,315,\"INVOICE NUMBER\"],[332,342,\"SELLER PAN\"],[351,366,\"SELLER GSTIN\"],[367,401,\"SELLER ADDRESS\"],[415,426,\"INVOICE DATE\"],[453,483,\"SELLER ADDRESS\"],[702,706,\"ITEM FREIGHT\"],[777,828,\"BUYER ADDRESS\"],[908,931,\"ITEM FREIGHT\"],[932,986,\"BUYER ADDRESS\"],[1072,1084,\"BUYER ADDRESS\"],[1376,1391,\"BUYER GSTIN\"],[1627,1635,\"ITEM NUMBER\"],[1638,1665,\"ITEM DESCRIPTION\"],[1666,1674,\"HSN/SAC\"],[1678,1684,\"QUANTITY\"],[1685,1691,\"UNIT PRICE\"],[1770,1781,\"ITEM DESCRIPTION\"],[1809,1818,\"NET AMOUNT\"],[1819,1828,\"IGST\"],[1829,1833,\"CGST\"],[1834,1838,\"SGST\"],[2022,2026,\"ITEM MISC FEES\"],[2065,2075,\"GROSS AMOUNT\"]]}),\n",
        "(\"TAX - INVOICE (Section 31 of CGST / SGST Act 2017 read with rule 1 of tax invoice, Credit and debit note rules, 2017)\\n\\nFor supply of Goods & Services From Factory / Warehouse on payment of GST\\n\\n| cow : L74899DL1981PLC012804 LUMAX INDUSTRIES LTD Invoice No.: 494666338 XX\\n\\nIRNQR: -}\\nPAN : AAACLI1Z6D GSTIN : O6AAACL1126D227 , Plot No. 6, Industrial Area Invoice Date :31.01.2022 VW :\\nState Code: - Haryana Dharuhera-123106 Haryana, INDIA Date & Time of Despatch\\nRNO: SdlatoS5cddb 9$ablbcesa8de7e77 clf230072fcaSoi GhébsGafeshbba:\\n\\nDetails of Recipient (Billed to) Details of Consignee(Shipped to) ust P.O.No:910212 ode of Despatch\\n\\nCustomer Code :103805 Customer Code : 103805 wur.Order Date :07.01.2022 ffransporter Name\\n\\nHONDA MOTOR INDIA (A UNIT OF HONDA CARS INDIA LTD.) HONDA MOTOR INDIA (A UNIT OF HONDA CARS INDIA LTD.) Amendment No. Vehicle No. sh BY ACF 2I +\\n\\nPLOT NO~SPL-1D,TAPUKARA INDUSTRIAL AREA,, KHUSHKHERA, PLOT NO-SPL-1D,TAPUKARA INDUSTRIAL AREA, KHUSHKHERA, Date : LR / GR No. :\\nMLWAR-301707 AEWAR-301707 Y 6] 90 E-Way Bill No. : 000000000000\\n\\nState/Place of Supply :08-Rajasthan a State/Place of Supply :08-Rajasthan G endor Reference :\\n\\nVendor Code :2L06 Vendor Code 32L06 Job Number :\\n\\nState Code 3:08 : GSTIN/Unique 3: OBAAACH1 7659223 State Code 3: 08 GSTIN/Unique : OBAAACH1 7659223\\n———} a\\nSr.No.|/Item Code Rate per Basic Value Pkg Cost Freight| Taxable Value SGsT\\n\\n(Unit/ka) |\\n| 61024468 | HEAD LAMP ASSY STD KOAJ SPD jaszce|aae [a 0.00 11,111.04 0.00\\n33100KOADB1 |\\nTotals 11,111.04 11,111.04 0.00\\nLimited\\n\\nAuthorised Signatory\\n\\nhan we\\npera BE Qe\\n\\nTotal Invoice Value (In Figure) : Rs. 13,111.03 = 0.00 Total GST Cess: 0.00\\n\\nay oO\\n\\nTCS@0.000 % : Rs. 0.00\\n\\nTotal Invoice Value (In Words) : Rs. THIRTEEN quousale-O8e HUNDRED ELEVEN AND THREE PAISE ONLY\\nTotal Tax Value (In Words) . : Rs. ONE THOUSAND NINE HUNDRED NINETY-NINE AND NINETY-NINE PAISE ONLY\\nTotal Invoice Value as per ORC (Taxable+GST+Other Charges, if any)\\n\\nAmount of Tax subject to Reverse Charges:- NO\\n\\nI/ We certify that our registration certificate under the GST Act 2017 is in force on the date on which the supply hf (AUN\\n\\njas been paid or shall be\\n\\nnaid, Further certified that the particulars piven above are true & correct & the amount & AUN [es IT Ot #y ale! pracy di} 2 : is no flow of aiktitional consideration directly or indirectly from the buyer.\\n\\ny,\\n\\nFor LUMAX INDUSTRIES LTD\\n\\nIl clan / disputes will be settled at Dethi Court onty- Regd OFF |- 2nd Floor, Harbans Bhawan-[l Commercial Complex, Nangal Raya, New Delhi - 110046 _\\n\\n\",{\"entities\":[[224,244,\"SELLER ADDRESS\"],[258,267,\"INVOICE NUMBER\"],[288,298,\"SELLER PAN\"],[307,322,\"SELLER GSTIN\"],[325,352,\"SELLER ADDRESS\"],[366,377,\"INVOICE DATE\"],[405,436,\"SELLER ADDRESS\"],[722,773,\"BUYER ADDRESS\"],[868,921,\"BUYER ADDRESS\"],[1009,1021,\"BUYER ADDRESS\"],[1240,1256,\"BUYER GSTIN\"],[1404,1412,\"ITEM NUMBER\"],[1415,1442,\"ITEM DESCRIPTION\"],[1477,1488,\"ITEM DESCRIPTION\"],[1508,1517,\"NET AMOUNT\"],[1518,1522,\"CGST\"],[1611,1620,\"GROSS AMOUNT\"],[1675,1679,\"ITEM MISC FEES\"]]}),\n",
        "(\"TAX INVOICE 2¢(/.\\n. ° & q y Original for Recipient\\n- _ a a\\n. &\\nName & Address of Seller: Name & Address of Buyer (Billed To): Name & Address of Consignee (Shipped To): Invdice 23310206783 .\\nMINDA INDUSTRIES LID SWITCH DIVISION HONDA MOTOR INDIA (A UNIT OF HONDA ARS— HONDA MOTOR INDIA (A UNIT OF HONDA CARS Date °31.01.2022 al\\nVILLAGEWAWADA FATEHPUR, INDIA LIMITED) a INDIA LIMITED) Vendor 2M 11\\nP.O. SIKANDERPUR BADDA, GURGAON PLOT NO. SPL-1D, TAPUKARA INDUSTRIALAREA PLOT NO. SPL-1D, TAPUKARA INDUSTRIALAREA P.O ko 910223\\nHARYANA(i22004), INDIA KHUSHKHERA, ALWAR y KHUSHKHERA, ALWAR PO Ue te 24.07.2012\\nTEL: 0124-2290427/ 428 , FAX: 0124-2290695/ 676 RAJASTHAN(301707) RAJASTHAN(301707) Odn/Dat -F21001137799/ 31.01.2022\\nSTATE CODE: 06, GSTIN: 06AAACM1152C2Z6, PAN: INDIA INDIA mate somes\\nAAACMI1152C GSTIN: 08AAACH1765Q2Z3 STATE CODE : 08 GSTIN: 08AAACH1765Q2Z3 STATE CODE: 08 Carrier - eal\\nVehivle ‘AR Vr\\nPLACE OF SUPPLY: Rajasthan Modu :By Road\\n| SR. Part No Customer Part No Description HSN No. of} Total Qty tUnit Rate INR| Basic Value Discount Transaction Amortization Assessable | JGST Rate} IGST Value\\nCODE Pkg_| INR Value INR Value Value y |\\n1 a 0023-018H-S01_ |53178KPI_900 LEVER L HANDLE 87141090 2 300 NO 33.29 9,987.00 0.00 9987 0.01 9987.01; 28.00 2,796.36\\n2 S317S5KYY900 LEVER COMP R 85381010 1 150 NC} 37.25 5,587.50 0.00 5587.5 0.01 5587.51 18.00 1.005.75\\n1 7816-018RH-01- HANDLE\\nKOI |\\n3 S3178KYY900 LEVER COMP L 85381010 3}- 450 NC 35,83 16,123.50 0.00 16123. 0.0! 16123.5/ 18.00 2,902.23\\n%3 7817-018LH-01- HANDLE\\nSO1\\np4?_|7682-018RH-S01 |53175KWPDOO LEVER HANDLE RH | 87141090 8] 1200 Ne 35.79 42,948.00 0.00 42948 0.01! 42948 .01 28.00 12.025.44\\nNS 53175KTEDBO LEVER COMP R 87141090 P 150 NO 41,25 6,187.50 0,00 6187.5 0.0! 6187.5! 28.00 1,732.50\\ny [7672E-018RH-01- HNDL\\nS01 —_\\n—_| —|___\\nTotal Freight Amount 9.00\\ni 4 Others 0.00\\n' Transaction Value\\n-\\nCos oe . Sub Total\\nY HONDA MOTOR IND\\nONT FHONBH oun DISET _| IGST Total\\nRemarks: ASN No: Total\\nAdvance : aT ING MATERIAL Amount: GST: TCS Total\\n0 Z ES ae Grand Total\\nCertified that particular given are | s AG corte een eg fs the pride acttanIyt arged & there is no flow of additional consideration directly or indirectly MINDA INDUSTRIES LTD\\ntrom the buyer TIME: .ssalasr eed Seetsrcrncesnsesererenennencne\\nTax is payable under reverse charalS} wosse oa Viracroossenonssouevunananenetvnecn Signature yalid\\nAuthorized Signatory\\nRegistered Office: Minda Industries Limited. B-64/1,Wazirpur Industrial Area New Delhi CIN:L74899D1_1992PLC050333 WEBSITE: WWW.UNOMINDA.COM, E-mail\\nDelivery number: 88699615 Page | of 3 printed on 31.01.2022 23:33:54\\n\\noe ; TAX INVOICE\\n\\nOriginal for Recipient\\n\\n- ONojarwe\\nx *y .\\nName & Address of Seller: Name & Address of Buyer (Billed To): Name & Address of Consignee (Shipped To): [Invoice :3310206783\\nMINDA INDUSTRIES LTD SWITCH DIVISION HONDA MOTOR INDIA (A UNIT OF HONDA CARS HONDA MOTOR INDIA (A UNIT OF HONDA CARS Date °31.01.2022\\nVILLAGE NAWADA FATEHPUR, INDIA LIMITED) INDIA LIMITED} Vendor MII\\nP.O. SIKANDERPUR BADDA, GURGAON PLOT NO. SPL-1D, TAPUKARA INDUSTRIAL AREA PLOT NO. SPL-1D, TAPUKARA INDUSTRIALAREA P.ONO 910223\\nHARYANA(122004), INDIA KHUSHKHERA, ALWAR KHUSHKHERA, ALWAR PO Date 24.07.2012\\nTEL: 0124-2290427/ 428 , FAX: 0124-2290695/ 676 RAJASTHAN(301707) RAJASTHAN(301707) ;\\nSTATE CODE: 06, GSTIN: 06AAACM1152C2Z6, PAN: INDIA INDIA Oda/Date -F21001137799/ 31.01.2022\\nAAACM1152C GSTIN: 08AAACH1765Q2Z3 STATE CODE : 08 GSTIN: O08AAACH1765Q2Z3 STATE CODE: 08 Carrier\\nVehicle ‘HR\\nPLACE OF SUPPLY: Rajasthan Mode ‘By Road\\nrs\\nSR. Part No Customer Part No Description HSN No, of| Total Qty [Unit Rate INR) Basic Value Discount Transaction Amortization Assessable | IGST Rate| GST Value\\nCODE Pkg INR Value INR Value Value %\\nN6 53175KOND10 LEVER COMP,R 87141090 F 150 NQ| 36.56 5,484.00 0.00 54844 0.0! 5484.0! 28.00 1,535.52\\n7672L-018RH-01- HNDL\\nsot\\nL \\\\ | TOTAL 86,317.50 0.00 86,317.50 0.00 86,317.50 21,997.80\\nTotal Freight Amount 0.00\\nOthers 0,00\\nTransaction Value\\nSub Total\\nIGST Total\\n| Remarks: ASN No: ___| Total\\nAdvance : Voucher : Amount: TCS Total\\nGrand Total\\nCertified that particular given are true and correct amount represents the price actually charged & there is no flow of additional consideration directly or indirectly MINDA INDUSTRIES LTD\\nrom the buyer, . :\\nTax is payable under reverse charge : (Y / N) Signatu re y lid\\nAuthorized Signatory\\nRegistered Office: Minda Industries Limited. -B-64/1,Wazirpur Industrial Area New Delhi CIN:L74899DL1992P1.C:050333 WEBSITE: WWW.UNOMINDA.COM, E-mail:\\nDelivery number: 88699615 Page 2 of 3 printed on 31.01.2022 23:33:54\\n\\nName & Address of Seller:\\n\\nMINDA INDUSTRIES LTD SWITCH DIVISION\\nVILLAGENAWADA FATEHPUR,\\n\\nP.O. SIKANDERPUR BADDA, GURGAON\\nHARYANA(122004), INDIA\\n\\nTEL: 0124-2290427/ 428 , FAX: 0124-2290695/ 676\\n\\nAAACM1152C\\n\\nTAX INVOICE\\n\\nSTATE CODE: 06, GSTIN: 06AAACM1152C2Z6, PAN:\\n\\n———=}\\n\\nName & Address of Buyer (Billed To):\\nHONDA MOTOR INDIA (A UNIT OF HONDA CARS\\nINDIA LIMITED)\\n\\nPLOT NO. SPL-1D, TAPUKARA INDUSTRIAL AREA\\nKHUSHKHERA, ALWAR\\n\\nRAJASTHAN(301707)\\n\\nINDIA\\n\\nGSTIN: 0O8AAACH1765Q2Z3 STATE CODE : 08\\n\\nPLACE OF SUPPLY: Rajasthan\\n\\nTRN:9297 1a96edbc6300d87 1 4adc8 1 6eae66a26206c5046 1692 1e5S5ec6c0d 1760 fae\\n\\nRemarks; ASN No:\\n\\nAdvance : Voucher :\\n\\nTrom the buyer.\\n\\nTax is payable under reverse charge : (Y/N)\\n\\nDelivery number: 88699615\\n\\nRegistered Office:- Minda Industries Limited. B-64/1,Wazirpur Industrial Area New Delhi\\n\\nOriginal for Recipient\\n\\n| Name & Address of Consignee (Shipped To):\\n\\nHONDA MOTOR INDIA (A UNIT OF HONDA CARS\\nINDIA LIMITED)\\n\\nPLOT NO. SPL-1D, TAPUKARA INDUSTRIALAREA\\nKHUSHKHERA, ALWAR\\n\\nRAJASTHAN(301707)\\n\\nINDIA\\n\\nGSTIN: O08AAACHI765Q2Z3 STATE CODE : 08\\n\\nInvoice\\nDate\\nVendor\\nP.ONO\\nPO Date\\nOdn/Date\\nCarrier\\nVehicle\\nMode\\n\\n23310206783\\n31.01.2022\\n\\n:2M11\\n\\n910223\\n\\n(24.07.2012\\n*F21001137799/ 31.01.2022\\n\\n‘HR\\n‘By Road\\n\\nseat\\n\\nAmount: GST:\\n\\nTOTAL INVOICE AMOUNT (IN WORDS): INR One Lakh Eight Thousand Three Hundred Fifteen Rupees Thirty Paise Only\\n\\nTCS Total\\nJ] $$ I\\nTOTAL GST AMOUNT (IN WORDS) : INR Twenty One Thousand Nine Hundred Ninety Seven Rupees Eighty Paise Only (21,997.80 )\\n\\nieeaee\\n\\nTotal Freight Amount 0.00\\nOthers 0.00\\nTransaction Value 86.317,50\\n\\nSub Total 86,317.50)\\n__| IGST Total 21,997.80\\nTotal 108.315.30\\n\\n0.00\\n\\nGrand Total 108,315.30\\n\\n=|\\n\\nCertified that particular given are true and correct amount represents the price actually charged & there is no flow of additional consideration ditectly or indirectly\\n\\nCIN:L74899DL1992PLC050333 WEBSITE: WWW.UNOMINDA.COM, E-mail.\\n\\nAuthorized Signatory\\n\\nMINDA INDUSTRIES LTD a\\n\\nSignature vy\\n\\nf\\n\\nPage 3 of 3 printed on 31.01.2022 23:33:54\\n\\n\",{\"entities\":[[190,226,\"SELLER ADDRESS\"],[267,306,\"BUYER ADDRESS\"],[327,350,\"SELLER ADDRESS\"],[351,365,\"BUYER ADDRESS\"],[396,427,\"SELLER ADDRESS\"],[428,468,\"BUYER ADDRESS\"],[524,546,\"SELLER ADDRESS\"],[547,564,\"BUYER ADDRESS\"],[605,652,\"SELLER ADDRESS\"],[653,670,\"BUYER ADDRESS\"],[712,722,\"INVOICE DATE\"],[746,761,\"SELLER GSTIN\"],[791,802,\"SELLER PAN\"],[810,825,\"BUYER GSTIN\"],[2793,2804,\"INVOICE NUMBER\"],[3530,3538,\"ITEM FREIGHT\"],[6174,6183,\"NET AMOUNT\"],[6200,6209,\"IGST\"],[6228,6232,\"ITEM MISC FEES\"],[6246,6256,\"GROSS AMOUNT\"]]}),\n",
        "(\"PLOT NC 26E &F, SECTOR-3, IMT MANESAR, MANESAR, 122050,HARYANA\\n\\nonicins FS | RES Ne ere\\noon i\\nMUNJAL SHOWA LTD. Si Bevin “s a\\n4 : ee a ace : . pos —_\\n\\non\\n\\nPH 1ONE INE 0124- 4783009 Email - msladmin@munjalshow.net- website-www. munjalshowa. net “Ss Ss AG ; h -\\n\\nTAX INVOICE GSTIN NO.06AAACM0070D522 PAN NO.-AAACM0070D Se :\\nUnder Section 31 of GST Rule 2017 COMMODITY: SHOCK ABSORBERS - HSN CODE 87149100 fo hs\\nand ( Sub - section - 7 } COMMODITY: STRUTS & WINDOW BALANCER - HSN CODE 87088000 es\\nTime of Issue of Invoice : 18:03:50 Tax Invoice No. 9222160864 Ta aces H\\nDate of Removal Time of Removal (Fig): Tax Invoice Date 31.01.2022 Lo | porn\\nTiie of Removal (Words) : la ] 80 OM | Tax is Payable on Reverse Charge: No .e ‘\\nDetails of Sender (Billed From) [Details of Consigner(Shipped From) ee\\nMUNJAL SHOWA LIMITED. MUNJAL SHOWA LIMITED. (a) r= mae. Rs\\nPLOT NO 26E & F, SECTOR-3, IMT MANESAR, MANESAR, PLOT NO 26E & F, SECTOR-3, IMT MANESAR, MANESAR, _ .\\n|2°050,HARYANA \\\\— 122050, HARYANA\\nSlite Code:-06 GSTIF. inna State code:-06 GSTIN No:-O6AAACM0070D5Z2 [[3f244c22eb5402937347 3bbb232a95827c1c101e0Ga52d99883 -..-:\\nDetails of Receiver (Billed to) Details of Consignee (Shipped to) —__\\nName HONDA MOTOR INDIA (A UNIT OF HONDA CARS INDIA LIMITED) Name HONDA MOTOR INDIA (A UNIT OF HONDA CARS INDIA LIMITED)\\n\\nAddress:- PLOT NO. SPL-1D, TAPUKARA INDUSTRIAL AREA, KHUSHKHERA, Adaress:- PLOT NO. SPL-1D, TAPUKARA INDUSTRIAL AREA, KHUSHKHERA,\\n\\nALWAR, RAJASTHAN-301707 an, ALWAR, RAJASTHAN-301 707\\n\\nSitzte:- Rajasthan State Code: 08 _ State - Rajasthan State Code: 08\\nCustomer GSTIN No. OBAAACH17650279 PAN No: | AAACH1765Q Customer GSTIN No.: 08AAACH1765Q223 _ PAN No AAACH1765Q\\nInsurance Policy No.: 3414/200101/18/1000001/00/000 Del/ BD No. 822009582 Date 31.01.2022\\n\\nLiberty Videocon General insurance Company Limited PO No. 910204 Date 24.07.2012\\n\\nVehicle No. ___HR55Q9982 Mode of Transport By Road Vendor Code : Customer Code : 100055 _|\\nCust ‘Customer Item Part No. HSN | Quantity| Sale Taxable CGST SGST IGST\\nPO. —\\nST]\\nS.No. Customer Item Dscription of Goods CODE UOM Rate Value Rate Amount Rate Amount Rate Amount\\nRs Rs he Rs % Rs | % Rs.\\na 51400KRP982 87149100 613NO | 119.78 - 73,425.14} 0.00 0.00 0.00 0.00| 28.00} 20,559.04\\nCUSHION ASSY FR R\\\\KRPF\\nToa | 52400KSP864 JSOX 6 F ] 6D 87149100 1000 NO 817.29] 817,390.00] 0.00 0.00 0.00 0.00} 28,00] 228,869.20\\nREAR CUSHION ASSY KSPG.\\n89 | 51S00KRP982 87149100 1035 NO| 135.22 139,952.70] 0.00 0.06 0.00 0.00 22.00! 39.186.768] 27h.\\n____| FR. CUSHION ASSY L krett 06 t 835°\\n- — | | glgat\\n| Sony ta o? |\\n—_— ie - a ; r\\nvols) & Desc.of Pkgs 452. B ox Total- 1,030, 767.84 0.00 0.00\\n288,615.00\\n‘orice Value (In Words) THIRTEEN LAKH NINETEEN JHZUSAN Total 1,319,382.84\\nIGHTY-TWO AND PAISE EIGHTY-FOUR ONLY \\\\ ‘ Freight/Fwd. Charges 0.00\\nLoading & Packing Charges 0.00\\n=< 8 pert Tcs) .00\\n: Insurance / Other Charges 0.00\\nTotal Value of Invoice 1,319,382.84\\nan _— al\\n\\nciv Digitally signgd Ty F Tali\\nSECURITY TKR GENERAL TERMS & CONDITIONS ; For MUNJAL SHOWA LTDSingh va\\nsunoied MGCRSIBES, MOXEBlALas prevalen at the time of execution of orders. TBS. er 3\\n30ods once sol, sor replaced.\\nNarranty, if mine FEB 20 i paiy ase extend to consquential or indirect loss or damage. Authorised Signatory\\nSEENTHYA san Keke ss the recajpis duly stamped & signed by an authorised officer of the Company. Name:- i\\n\\nA eoobseedese cove 0s0000c0s0000000 —\\neiper terns ditions @xre er your purchase orders. Designation :- i\\n¥tR= eoesovsconhece: Rae resrvsnenvengserennesszevosteees - “\\\\\\n\\nSPRIGR es atoms LL — 7\\n\\n\",{\"entities\":[[0,62,\"SELLER ADDRESS\"],[94,111,\"SELLER ADDRESS\"],[155,162,\"SELLER ADDRESS\"],[167,243,\"SELLER ADDRESS\"],[273,297,\"SELLER GSTIN\"],[298,316,\"SELLER PAN\"],[546,556,\"INVOICE NUMBER\"],[623,633,\"INVOICE DATE\"],[1195,1249,\"BUYER ADDRESS\"],[1321,1375,\"BUYER ADDRESS\"],[1442,1465,\"BUYER ADDRESS\"],[1610,1620,\"BUYER PAN\"],[1641,1656,\"BUYER GSTIN\"],[1850,1874,\"ITEM FREIGHT\"],[1893,1907,\"ITEM FREIGHT\"],[2610,2623,\"NET AMOUNT\"],[2624,2628,\"CGST\"],[2629,2633,\"SGST\"],[2634,2644,\"IGST\"],[2864,2868,\"ITEM MISC FEES\"],[2892,2904,\"GROSS AMOUNT\"]]}),\n",
        "(\"> MU SASH: TAX INVOICE . Original for Recipient - 1\\n‘ For Supply of Goods Section 31 read with Rule 46 of the CGST Rule ,2017 hie ial\\na Musashi Auto Parts India Pvt. Ltd.\\nPlot 33-35 & 46-60, Sec-7 ,.IGC, Bawal, Rewari Bawal, Rewari, Haryana -123501\\nRegd. Office : UG-17C ,Somdutt Chambers ,Bhikaji Cama Place .New Delhi -110066\\nGSTIN : 066AADCM1239R1Z5, PAN : AADCM1239R, CIN : U34300DL2002PTC1 16292, Email : , website : www.musashi.co.in\\nIRN : 23505694a47eceb92b9a5cda0fe2dd552275d6ac6efea87a8d82b6bc4078e56a\\n\\nPDS:\\nCustomer PO Number : 910205 Details of Consignee (Shipped To) wa\\nPO Date : 24.07.2012 Name : Honda Motor India (A Unit of Honda Cars India Ltd) invoice No. > 8211109297\\nVendor Code : 2M22 Address 1 : Plot No-, Spl-Id, Tapukara Ind. Arca,, Khuskhera,, Inveice Date & Time =: 04.02.2022 IS:L2.17\\n\\nCustomer Store Location : Address 2\\n\\nAlwar-301707 Mode of Dispatch : By Road\\nDetails of Receiver ( Billed To ) State Code & Name : 08 - Rajasthan Transporter Name > Choudhary\\nName : Honda Motor India (A Unit of Honda Cars India Ltd) Country : India Vehicle No. > HR4A7D7219\\nAddress 1 : Plot No-, Spl-1d, Tapukara Ind. Area,, Khuskhera,, GSTIN/UIN : O8AAACHI1765Q22Z3 L.R. No. > 1602\\nAddress 2 :  Alwar-301707 PAN : L.R. Date > 04.02.2022\\nPlace of Supply/Delivery : Alwar EWB No. : 371400489025\\n\\nState Code & Name : 08 - Rajasthan an\\n\\nCountry : India EWS Date 2 05.02.2022\\n\\nGSTIN - : O8AAACH1765Q2Z3 ao\\n\\nPAN : Yj\\nPrincipal Place of Business : Rajasthan \\\\yoo\\n\\nSr. Item Code HSN/SAC Part Name/ Item Description Qty UOM | Rate/Price Total Freight/ Taxable CGST SGST/UTGST IGST\\n\\nNo. Part Code . Insurance Amount Rate Amount Rate Amount Rate Amount\\nCharges [%] __[Rs.| %o |Rs. io | Rs\\nq 1 FO1L020161 87141090 13411 KREGOO GEAR,BALANCER DRIVE |_ 185 NO 151.33 | 27,996.05 0.00 27,996.05 |__ 0.00 | 0.00 | 0.00 0.00 | 28.00 7,838.90 |\\n4 2 F01L020162 87141090 13422KREGO00 GEAR, BALANCER 115 NO 238.91} 27,474.65 0.00 27,474.65 0.00 0.00 | 28.00 7.69290\\n\\nDRIVEN(41T) |\\n\\n) 3 FO1L070065 13427KRM840 1645 NO 5.42 8,915.90 0.00 8,915.90 | 0.00 000] 28.00, 2496 45 |\\n) 4__|_ F01L070066 13428KRM840 RUBBER,DAMPER NO 4.57 2,993.35 0.00 2,993.35 0.00 0.00 | 18.00 | S38 80\\npe) 67,379.95 | om 67,379.95 0.00 0.00 18,567.05\\n\\nTotal Invoice Value (In Words) : Rupees Eighty Five Thousand Nine Hundred F Seven Only Total $5,947.00\\n- | id,\\nWhether Tax Payable under Reverse Charge: No oe ] Signature valid /\\nDigitally signed by: 7\\nThis Consignment Is Insured Under Open Marine Policy No. - 2429/56066947/05/000 VALID UFTO 37-03-30 RAGAN AALBRIK \\\\ 85,947.00\\n\\nPa\\n® HONDA MOTOR INDIA _\\n(AUNIT OF HONDA CARS INDIA LIMITED)\\nSECURITY TKR\\nINCOMING MATERIAL\\n\\n227\\nvA . Sat 05-Feb-2022 a7 ae IST\\nOO FOR MUSASHI AUT@ PARTS INDIA PVT. LTD. . ; _—\\nAU\\n\\nPrepared By Checked By\\n\\nDeclaration : Certified that thd particulars Biv Hor RB HHH correet and the|amount indicated represents the price actually charged and [| pat there isn fey of additional consijjeration dircelly or indircetly from tb\\n(Buyer). All disputes are subject to Delhi Jurisdictions :\\n\\n\\\\\\n\\neta HGS coma\\n\\nGST Authority ; RANGE-31, CODE-ZP0603, DIVISION: RUAWAKENE WK, COMMISSIONRATE: FARIDABAD NEW\\n“es ERP NG = NEM, COMM\\n\\nTime... UD...\\n\\n—\\n\\ni— =\\n\",{\"entities\":[[136,327,\"SELLER ADDRESS\"],[336,352,\"SELLER GSTIN\"],[360,370,\"SELLER PAN\"],[610,660,\"BUYER ADDRESS\"],[675,685,\"INVOICE NUMBER\"],[717,767,\"BUYER ADDRESS\"],[791,801,\"INVOICE DATE\"],[849,861,\"BUYER ADDRESS\"],[881,888,\"ITEM FREIGHT\"],[958,986,\"ITEM FREIGHT\"],[1061,1085,\"ITEM FREIGHT\"],[1395,1410,\"BUYER GSTIN\"],[2172,2181,\"NET AMOUNT\"],[2197,2201,\"CGST\"],[2202,2206,\"SGST\"],[2207,2216,\"IGST\"],[2536,2545,\"GROSS AMOUNT\"]]}),\n",
        "(\"S#/594\\n\\nTAX INVOICE IRN-NO - 04a09¢767¢665d14326b72e1500cdflabfd6414483325969499576366a0e5b8a | _ Nga’ For Kecipient\\nNeel Metal Products Limited EON Laprtste ht\\n\\nWORKS : Vill & P.O. Baskusla Opp.,Sector 7, IMT Manesar, Gurgaon , HARYANA 122505 , Ph: +91 96544 58663-64 , Fax: +91 124 4032013, State - Haryana, State.Code - 06 ,\\n\\n; GSTIN-06AABCN6304Q1Z8\\nREG.OFF.601, HEMKUNT CHAMBERS,89 AT PLACE,NEW DELHI-110019,.TEL:011-26427104-06,FAX:011-26427100 PAN-AABCN6304Q CIN-U60100DL1997PLC086432\\nBill To:\\n\\nHonda Motor India(A Unit of Honda Cars\\nindia ltd\\n\\nPlot No. SPL - 1D, Tapukara Industrial\\nArea,Khushkhera, Rajasthan\\n\\nALWAR 301707\\n\\nGSTIN: 08AAACH1765Q2Z3 State Code:08\\nPAN: AAACH1765Q State:Rajasthan\\nShi ping From:\\n\\nVill & P.O. Baskusla Opp. Sector 7,\\nIMT Manesar, Gurgaon\\n\\nShip to:\\n\\nHonda Motor India(A Unit of Honda Cars\\nindia ltd\\n\\nPlot No, SPL - 1D, Tapukara Industrial\\nArea, Khushkhera, Rajasthan\\n\\nALWAR 301707\\n\\nGSTIN: 08AAACH1765Q2Z3 — State Code:08\\nPAN: AAACH1765Q State:Rajasthan\\n\\nPONO — :910008\\nPO Date :24.07.2012\\n\\nInvoice No. :2113127802\\nDate 230.01.2022\\nVendor Code :2N20\\n\\nVehicle No 7HR55S89 108\\nDOC NO 39016982079\\n\\ncharges\\nEway Bill No: 361407325067\\nEway Bill Date: 30.01.2022\\n\\nPreparation Date —_:. 30.01.2022\\nPayment Due Date : 01.03.2022\\nUnload point :\\n\\nIs Service\\n\\niN\\nPKT/FRT Taxable CGST SGST\\nCharges Amount\\n\\nPreparation Time\\nHARYANA. Ref/JIT Call No.\\n\\n: Total\\nRate | Amount\\n\\nUnit] HSN/SAC] Qty.\\n\\nry; DAC/FOC\\nCode Cases\\n\\nRate\\n\\nEA 87149100\\n\\n[| | [Amount [| CCCs” [Rate [Amount___| Rate [ Amount\\ngk 001 SIOKTEA00Z! EA | 87141090 1392 | W74 199,362.24 0.00 a | | 0.00 0.00 a ad 255,183.67\\n@\\nDRIVE*NH-105* | NW:849.120 S + [Ss 2 | |\\nbd. CASE UNDER HALF\\nDRIVE*NH-105*\\nPes f 0.00 | 0.00\\n\\nOL, 0.00 0.00 89,498.08 0.00 | 28.00 25,059.46 114,557.54\\nDHALFDRIVE CHAIN\\nNH229MU\\n\\n440X 24 176\\n\\nRAT O pe pe |\\n\\nA ae Basic Amount 384,507.40\\n\\n(A eee KR wel TAS... Total IGST 107,662.07\\nINCOMING MATERIAL coe ,\\n\\n3.1 JAN 2022\\ngoo\\n\\npopsovocconeasenencss00d\\n\\nGATE ENTRY NO -nvossovoesos:\\n\\nTIME sven chen\\n\\n| Total Invoice Amount: IN WORDS: RUPEES FOUR LAKH NINETY TWO THOUSAND ONE HUNDRED SIXTY NINE AND PAISE FORTY SEVEN\\n| ONLY TOTAL AMOUNT : 492,169.47\\n\\nssiraagandthetthereton Bigkrareete Aveiitels Limited\\n\\nPIN fal\\nRef Invoice No.: F cj 7\\n; . Dt iby DS|NEEL METAL }\\nRef. Invoice Date: af Gt 30 199 Ny\\ni E010\\n\\nUCTS LTD 7\\n\\nfe | a1\\nAll Disputes are Subject to HARYANA Jurisdiction. Scifal Rieter: 268040 1 . fa Till: 18.Nov.2 y\\nir . . - 3 ‘* SARHINGHA SNM, A.M.(SCM \\\\ \\\\\\\\\\n‘payment is not made on due date, interest will be charged @24%P.A. Pidkare Ry ‘ Ads MLD\\nta ih ¥\\nSt | \\\\/ ~\\n\",{\"entities\":[[117,327,\"SELLER ADDRESS\"],[331,352,\"SELLER GSTIN\"],[353,449,\"SELLER ADDRESS\"],[450,464,\"SELLER PAN\"],[501,630,\"BUYER ADDRESS\"],[639,654,\"BUYER GSTIN\"],[674,684,\"BUYER PAN\"],[1037,1048,\"INVOICE NUMBER\"],[1085,1108,\"ITEM FREIGHT\"],[1180,1190,\"INVOICE DATE\"],[1831,1841,\"NET AMOUNT\"],[1875,1885,\"IGST\"],[2139,2149,\"GROSS AMOUNT\"]]}),\n",
        "(\"Vd\\n\\nge\\n\\nOo\\n\\nTAX INVOICE\\n\\nName & Address of Seller:\\nRoki Minda Co. Private Ltd.\\nPlot No. 328, Sector - 3, Phase-II,,\\n\\nIndustrial Growth Centre, Bawal, Rewari) PLOT NO. SPL-1D, TAPUKARA\\nHARYANA INDIA - 123501\\nTEL NO.-01284-264338 FAX\\nNO.-01284-264339\\n\\nName & Address of Buyer (Billed To): wa Name & Address of Consignee (Shipped To):\\nHONDA MOTOR INDIA\\n\\n(AUNIt OF HONDA CARS INDIA LIMITED)\\nPLOT NO. SPL-1D, TAPUKARA\\n\\nHONDA MOTOR INDIA\\n(AUNIT OF HONDA CARS INDIA LIMITED)\\n\\nINDUSTRIAL AREA, KHUSHKHERA, INDUSTRIAL AREA, KHUSHKHERA,\\nALWAR, ALWAR,\\nTAPUKARA TAPUKARA\\n\\nGSTIN@illed-To): 0#8AAACH1765Q2Z3 a State-Code 08 | VENDOR CODE: 2R16 '\\n\\nnsf\\n\\nOriginal for Recipient\\n\\nINVOICE 1000152234 $\\nDATE: © 31.01.2022 GSTIN(Shipped-To): 08AAACH1765Q2Z3 State-Code:08 PO NO 910254\\nPAN NUMBER AAJCA3556F CARRIER NAME: ° ~\\nGSTIN 06AAJCA3556F1ZS VEHICLE NUMBER: PO DATE: 01.08.2012 %\\nSR. Part No Customer Part No Description HSN CODE | No. of Total Qty vom| Total Value] Discount | Basic Vatue Amortization Transaction | IGST | IGST AMOUNT\\nValue Value Rate %\\ncf |\\n— [ol 17210KOLDO0 Element, Air/C 84219900 192,000.00 0.00 192,000.00 0.00 192000.00 18.00 34,560.00\\n17210-KOL-D00- <t\\nOt SPD | \\\\ ae es ~\\n* 102_, 17210K24901CP |Element Comp Air Cleaner | 84219900 29 100.16(] 116,185.60 0.00 116,185.60 0.00 116185.60 18.00 20,913.41\\n“| y7210-K24-900-\\n\\\\ouo + \\\\ GO |\\n172 10KPPNOO KPPR-ELEMENT(SPD) 84219900 8} 400.000 179.131] 71,652.00 0.00}! 71,652.00 0.00 71652.00 18.00 12,897.36\\n17210-KPP-NO00-\\n‘Freight Amount 0.00\\nIRN: 570fa223 cacl 1583f7c6547a9b7c64169203 fd12c 1 54bd71524cad0b04e3b700 XO KI | MINDA CO. PYT. LFD. Others 0.00\\nTO Basic Value\\nsabe ‘Sub Total\\n>ignature GST: \\\\iGST Value .\\nTOTAL GST AMOUNT (IN WORDS) : Sixty Eight Thousand Three Hundre endy-Ry pees Seventy Seven Paise Only ‘TOTAL\\nNDIA TCS TOTAL\\nTOTAL INVOICE AMOUNT (IN WORDS): A ed Eight Rupees Thirty Seven Paise Only ‘Grand Total\\nCertify that particular given are true and corre’ y. amount ae A See Ae & there is no flow of additional consideration directly or indirectly from\\nthe buyer. , Roki Minda Co. Private Ltd.\\n; . as) FED 0 TATE CODE: ( cy\\nDelivery Number: 80302395 PDS Number: na 2 Q) . STATE CODE: 06 Al toe d Signatory ee\\nGATE ae y Disp sicsasiinoent atta invoice shall be subject to Delhi Jurisdiction, Section-42 of Arbitration Act 1996 /\\nTIME 4.@; Wa Fn ¥edst WV azirpur Industrial Area, DTAX INVOICE\\n\\nOriginal for Recipient\\n\\nName & Address of Seller: Name & Address of Buyer (Billed To): _— Name & Address of Consignee (Shipped To):\\nRoki Minda Co. Private Ltd. HONDA MOTOR INDIA - HONDA MOTOR INDIA\\nPlot No. 328, Sector - 3, Phase-II,, (AUNIT OF HONDA CARS INDIA LIMITED) (AUNIT OF HONDA CARS INDIA LIMITED)\\nIndustrial Growth Centre, Bawal, Rewari, PLOT NO. SPL-1D, TAPUKARA PLOT NO. SPL-1D, TAPUKARA\\nHARYANA INDIA - 123501 INDUSTRIAL AREA, KHUSHKHERA, INDUSTRIAL AREA, KHUSHKHERA,\\nTEL NO.-01284-264338 FAX ALWAR, ALWAR, ;\\nNO.-01284-264339 “ TAPUKARA TAPUKARA\\nINVOICE 1000152234 c ~| GSTINGBilled-To): O8SAAACH1765Q22Z3 State-Code:08 VENDOR CODE : 2R16\\nDATE: ~ 31.01.2022 a GSTIN(Shipped-To): 08AAACH1765Q2Z3 State-Code:08 PO NO 910254\\nPAN NUMBER AAJCA3556F CARRIER NAME: °\\nGSTIN O06AAICA3556F1ZS VEHICLE NUMBER: PO DATE: 01.08.2012\\nPart No Customer Part No Description | HSN CODE | No. of | Total Oty |UOM Rate Total Value] Discount | Basic Value Amortization Transaction | IGST |IGST AMOUNT\\nPkg Value Value Rate %\\nle SPD _ a ee ee\\nio 17210KVTDOO KVTH-ELEMENT(SPD) 84219900 120 SI 89.670] 484,218.00 0.00 484,218.00 0.00 484218.00 18.00 87,159.24\\n17210-KVT-D00- . 5,400.000\\nspp | 12S KYUATOC |\\nbts 17211K14901 Element Comp 84219900 40 ST 54.150] 151,620.00 0.00 151,620.00 0.00 151620.00 18.00 27,291.60\\n- a 17211-K14-9010- 2,800.000\\nSPD\\nR | G — Freight Amount 0.00\\nIRN: 570fa223cacl 1583f7c6547a9b7c64 [69203 fd] 2c154bd7 1524cad0b04e3b700 | Others 0.00\\nRemarks: Basic Value 1,015,675.60\\n‘Sub Total 1,015,675.60\\nAdvanced Voucher : ‘IGST Value 182,821.61|\\nTOTAL GST AMOUNT (IN WORDS) : One Lakh Eighty Two Thousand Eight Hundred Twenty One Rupees Sixty One Paise Only TOTAL _ 1,198,497.21\\n‘TCS TOTAL 0.00\\nrOTAL INVOICE AMOUNT (IN WORDS): Eleven Lakh Ninety Eight Thousand Four Hundred Ninety Seven Rupees Twenty One Paise Only ‘Grand Total 1.198.497.2011\\nCertify that particular given are true and correct amount represents the price actually charged & there is no flow of additional consideration directly or indirectly fron —or\\nthe buyer. Roki Mina Co, res Ltd.\\nDelivery Number: 80302395 PDS Number: STATE CODE: 06 E . :\\nAuth orizedl Signatory\\nAny Disputes arising out of this invoice shall be subject to Delhi Jurisdiction, Section-42 of Arbitration Act 1996 ( / |\\nREGD OFFICE:- B-64/1, Wazirpur Industrial Area, Delhi-110052, Phone No - 011-27374444, 27371016 ~\\nPTTRT NT IT ATG BALAI EPID VWilake iter vininw etedoseciig aw Conall Ranene boanvnlienliesiada «nm Dace 9 nf?\\n\\nethi- 110052, Phone No - 011-27374444, 27371016\\nSeOUNTY § ae TATADTOVE IAD Wokelte: nn evindnaenn ane Denil: finnane havwal Aealimindn anew Page 1 nf?\\n\\nTAX INVOICE\\n\\nOriginal for Recipient\\n\\nName & Address of Seller: Name & Address of Buyer (Billed To): _— Name & Address of Consignee (Shipped To):\\nRoki Minda Co. Private Ltd. HONDA MOTOR INDIA - HONDA MOTOR INDIA\\nPlot No. 328, Sector - 3, Phase-II,, (AUNIT OF HONDA CARS INDIA LIMITED) (AUNIT OF HONDA CARS INDIA LIMITED)\\nIndustrial Growth Centre, Bawal, Rewari, PLOT NO. SPL-1D, TAPUKARA PLOT NO. SPL-1D, TAPUKARA\\nHARYANA INDIA - 123501 INDUSTRIAL AREA, KHUSHKHERA, INDUSTRIAL AREA, KHUSHKHERA,\\nTEL NO.-01284-264338 FAX ALWAR, ALWAR, ;\\nNO.-01284-264339 “ TAPUKARA TAPUKARA\\nINVOICE 1000152234 c ~| GSTINGBilled-To): O8SAAACH1765Q22Z3 State-Code:08 VENDOR CODE : 2R16\\nDATE: ~ 31.01.2022 a GSTIN(Shipped-To): 08AAACH1765Q2Z3 State-Code:08 PO NO 910254\\nPAN NUMBER AAJCA3556F CARRIER NAME: °\\nGSTIN O06AAICA3556F1ZS VEHICLE NUMBER: PO DATE: 01.08.2012\\nPart No Customer Part No Description | HSN CODE | No. of | Total Oty |UOM Rate Total Value] Discount | Basic Value Amortization Transaction | IGST |IGST AMOUNT\\nPkg Value Value Rate %\\nle SPD _ a ee ee\\nio 17210KVTDOO KVTH-ELEMENT(SPD) 84219900 120 SI 89.670] 484,218.00 0.00 484,218.00 0.00 484218.00 18.00 87,159.24\\n17210-KVT-D00- . 5,400.000\\nspp | 12S KYUATOC |\\nbts 17211K14901 Element Comp 84219900 40 ST 54.150] 151,620.00 0.00 151,620.00 0.00 151620.00 18.00 27,291.60\\n- a 17211-K14-9010- 2,800.000\\nSPD\\nR | G — Freight Amount 0.00\\nIRN: 570fa223cacl 1583f7c6547a9b7c64 [69203 fd] 2c154bd7 1524cad0b04e3b700 | Others 0.00\\nRemarks: Basic Value 1,015,675.60\\n‘Sub Total 1,015,675.60\\nAdvanced Voucher : ‘IGST Value 182,821.61|\\nTOTAL GST AMOUNT (IN WORDS) : One Lakh Eighty Two Thousand Eight Hundred Twenty One Rupees Sixty One Paise Only TOTAL _ 1,198,497.21\\n‘TCS TOTAL 0.00\\nrOTAL INVOICE AMOUNT (IN WORDS): Eleven Lakh Ninety Eight Thousand Four Hundred Ninety Seven Rupees Twenty One Paise Only ‘Grand Total 1.198.497.2011\\nCertify that particular given are true and correct amount represents the price actually charged & there is no flow of additional consideration directly or indirectly fron —or\\nthe buyer. Roki Mina Co, res Ltd.\\nDelivery Number: 80302395 PDS Number: STATE CODE: 06 E . :\\nAuth orizedl Signatory\\nAny Disputes arising out of this invoice shall be subject to Delhi Jurisdiction, Section-42 of Arbitration Act 1996 ( / |\\nREGD OFFICE:- B-64/1, Wazirpur Industrial Area, Delhi-110052, Phone No - 011-27374444, 27371016 ~\\nPTTRT NT IT ATG BALAI EPID VWilake iter vininw etedoseciig aw Conall Ranene boanvnlienliesiada «nm Dace 9 nf?\\n\\n\",{\"entities\":[[51,78,\"SELLER ADDRESS\"],[79,156,\"SELLER ADDRESS\"],[184,248,\"SELLER ADDRESS\"],[332,412,\"BUYER ADDRESS\"],[469,497,\"BUYER ADDRESS\"],[527,533,\"BUYER ADDRESS\"],[541,549,\"BUYER ADDRESS\"],[670,680,\"INVOICE NUMBER\"],[691,701,\"INVOICE DATE\"],[721,736,\"BUYER GSTIN\"],[775,785,\"SELLER PAN\"],[810,825,\"SELLER GSTIN\"],[6487,6499,\"NET AMOUNT\"],[6555,6566,\"IGST\"],[6687,6699,\"GROSS AMOUNT\"]]}),\n",
        "(\"¢\\\\\\n\\n<Pr/es9°\\n\\n; TAX INVOICE Original for Recipient\\n: ROOP POLYMERS LTD UNIT-VII Version No. - 1.1\\nPLOT NO.07 ROZ-KA-MEO, INDUSTRIAL AREA, SOHNA , DISTT. NUH, MEWAT-122103 /HARYANA(INDIA)\\n: Document Type Code - INV Phone No. : 8221008823 Supply Type Code- B2B _ ——-\\nO6GAAACR5365C2ZM PAN NO AAACR5365C Document No $10721121513 —_ Date Of Document 31.01.2022\\nGINNQO g Time Of Supply oo Place Of Supply __:_ RAJASTHAN\\nName and Address of Recipient (Bill to) «a Name and Address of Recipient (Ship to) Type of Supply:- Supply\\nHONDA MOTOR INDIA (A UNIT OF HONDA CARS INDIA LIMITED) HONDA MOTOR INDIA (A UNIT OF HONDA CARS INDIA LIMITED) Transaction Mode:- Bill to/Ship to\\nPLOT NO. SPL-1D TAPUKARA INDUST. AREA,KHUSHKHERA, ALWAR a0\\\" PLOT NO. SPL-1D TAPUKARA INDUST. AREA,KHUSHKHERA, ALWAR\\nALWAR - 301707 INDIA “) ALWAR - 301707 INDIA\\nGSTIN No. : O8AAACH1765Q223 PAN NO: AAACH1765Q_ State Code ; 08 _| GSTIN No. : O8AAACH1765Q2Z3 PAN NO: AAACH1765Q StateCode: 08 4\\nSL Part No./Description HSN/SAC PO No. Of UOM/Qty Unit Rate Values Reverse Charge - No\\nNo. ; Cases\\nASV Basic axable Value| _ Basic Value\\nta RUBBER MAIN STEP KONA 87089900 910048 g } 7,650.00 31.97 31.97 244,570.50 244,570.50\\n50661KOND00 <2, @ 00% aT] £50 NOS\\niJ.\\nico\\n%\\n2.19\\n_— _ o| 7,650.00 | Total 31.97 244,570.50 ——e\\neS FEZ Packing Charges 0.00 0.00\\n“3 \\\\ ») Freight Charges 0.00 0.06\\nTotal Basic Value in Words : Rs. TWO LAKiLF@RTY FOUR THOUSAND FIVE HUNDRED SEVENTY AND FIFTY PAISE ONLY Total ASV / Basic Value 31.97 244,570.50\\nTotal ASV in words : Rs. TWO LAKH FORTY FOUR THOUSAND FIVE HUNDRED SEVENTY AND FIFTY PAISE ONLY Total CGST 0.00 % 0.00\\nTotal SGST in Words : Rs. NIL ONLY bb Total IGST 28.00 % 68,479.74\\nTotal CGST in Words : Rs. NIL ONLY -— “¥4 6) Total SGST 0.00 % 0.00\\nTotal IGST in Words : Rs. SIXTY EIGHT THOUSAND FOUR HUNDRED SEVENTY NINE AND SEVENTY FOUR PAISE ONLY | Total CESS 0.00 % 0.00\\nTCS 0.000 % 0.00 ao\\nE-Way Bill: 381408563208 — retin No Tea Total Invoice Amount 313,050.24\\nInvoice Amount Rs. 313,050.24 “¥ PORONDA A lea nig Ry LNB Y (TED)\\\\_Rs. THREE LAKH THIRTEEN THOUSAND FIFTY AND TWENTY FOUR PAISE ONLY S/ (36 xX\\nVehicle No. : ats; fee ravgie’ Total Weight : 0.000 Vendor Code: 2R09\\n1. We certify that our registration certificate under th sor Ach Re Bisawercd Nt A Vie ete on which the supply of goods and services in this tax. For ROOP POLYMERS LTD UNIT-VII\\n2. Certified that particulars given above are true and correct and as Pea rirese\\\"s the prite actually charges and that there is no |\\nadditional consideration directly or Indirectly from the uyer. SL a\\n3. All disputes Subject to NUH jurisdiction only. - | snovononoseee? : LAL . -\\n[ y FO ee ee coe . . .\\nPrepared By __ | GATE ENTRY ——— suave | | Received By Authorised Signatory\\n| Regd Office : Mezzanine Floor ,47 me Dither ney Fria ii Fries coo Aay., Mas sh-Delhi-1 10025 | IRN No. No.- 9fe4609003a6a4a3Gedbbised 107 2ec718bf791dc9985ac4c06i1 f7cfe4ddeHd :\\n\\n\",{\"entities\":[[53,79,\"SELLER ADDRESS\"],[98,186,\"SELLER ADDRESS\"],[214,236,\"SELLER ADDRESS\"],[265,281,\"SELLER GSTIN\"],[289,299,\"SELLER PAN\"],[312,324,\"INVOICE NUMBER\"],[345,355,\"INVOICE DATE\"],[521,575,\"BUYER ADDRESS\"],[666,721,\"BUYER ADDRESS\"],[806,826,\"BUYER ADDRESS\"],[839,854,\"BUYER GSTIN\"],[930,940,\"BUYER PAN\"],[1097,1118,\"ITEM DESCRIPTION\"],[1119,1127,\"HSN/SAC\"],[1139,1147,\"QUANTITY\"],[1171,1181,\"ITEM TOTAL\"],[1182,1193,\"ITEM DESCRIPTION\"],[1212,1215,\"UNIT OF MEASURE\"],[1256,1261,\"UNIT PRICE\"],[1478,1488,\"NET AMOUNT\"],[1603,1607,\"CGST\"],[1665,1674,\"IGST\"],[1738,1742,\"SGST\"],[1881,1885,\"ITEM MISC FEES\"],[1950,1960,\"GROSS AMOUNT\"]]}),\n",
        "(\"ac\\n\\nahi\\n\\ncar\\n\\nve U4\\n\\nLL \\\\.\\n\\nTax Invoice\\n\\nAY sr\\n\\nOriginal for RECIPIENT\\n\\nInvoice for Removal of Goods for Supply (Under rule 7 of GST Invoice Rule 2017 & Section 31 of Central Goods and Services Tax Act 2017)\\n\\nRoyal Tools India - Plant Ik\\n\\nPlot No. 74-75, Sector-24\\n\\n=|! NIT Faridabad-121005, Haryana (India)\\nPhone : 6129-2446109 Fax : 0129-4022184\\nMail : rti@airtemail. in\\n\\nDetails of Buyer (Billed to)\\nHONDA MOTOR INDIA (A UNIT OF HONDA CARS\\nINDIA LIMITED }\\n\\nPLOT NO. SPL-1D,TAPUKARA INDUSTRIAL AREA\\nKHUSHISHERA,ALWAR,RAJASTHAN\\n\\nGST No : 08AAACHI765Q2Z3 V.Code  2R10\\n\\nHale Code : 08\\n\\nPAN No: AAACH1765Q\\nState : Rajasthan\\nCIN No : UIS114UP1995PLC099377\\nPo No 910049 Date : 01.04.2015\\nAmnd. No: 117 Date : 01.04.2021\\nIRN\\nAck No : 132211881172067\\n\\nEWay Bill No : 391406761021\\n\\nGST No : 06ACQPM9213P1ZV\\nTIN No : 0665 1300610\\n\\nPAN No:\\n\\nRange : X\\n\\nDivision ; II CGO COMPLEX,N.H.\\nTV, FBD.\\n\\nCommissionerate : Delhi\\n\\nInvoice No : RT/3661/21-22 Date : 29.01.2022, L-—\\n\\nDetails of Consignee (Shipped to)\\nHONDA MOTOR INDIA (A UNIT OF HONDA CARS\\nINDIA LIMITED )\\n\\nPLOT NO. SPL-1D,TAPUKARA INDUSTRIAL AREA\\nKHUSHKHERA, ALWAK, RAJASTHAN\\n\\n2264\\n\\nGST No : 0O8AAACHI765Q223\\nState: Rajasthan\\nState Code : 08\\n\\n: efb57deaace3345al6c7ba83al lefeceb9d78 104ca8893 eba25 147d4cb296471\\n\\nAck Date 3 29.01.2022\\n\\nEWay Bill Date : 29.01.2022\\n\\nSupply Type _: InterState Supply\\nPlace of Supply : Rajasthan\\nTransporter :VEIRENDER\\nMode : 1. Road\\n\\nVehicle No : HR38W3398\\n\\nGR No\\n\\nF.O.R : Paid\\n\\nReverse Charge Applicable\\n\\nS/N\\n\\na\\n\\n_-5\\n\\nDescription of Goods/Service\\n1 HANDLE COMP,STRG\\n53100K WP G30\\n\\n2Qto4\\\\Fo\\nHSN/SAC : 87141090\\n\\nSTAY COMP,FRONT COWL\\n61312KSP860 2 66+ (0\\n\\nHSN/SAC : 87141090\\nSTAND COMP.MAIN\\n\\nsosooKwP p00 = DY Oe¥ | Re}\\n\\nHSN/SAC : 87141090\\nBAR LM STEP\\n\\n5080 I-KSP-900CP\\nHSN/SAC : 87141090\\nBAR RM STEP\\n\\n5070 I-KSP-900CP\\n\\nHSN/SAC : 87141090\\n\\n4\\n\\nPayment Terms : 25Days\\n\\nTR\\n\\nTotali—\\naS\\nRemarks .\\n\\nAmount in Words\\n\\nIGST . Rupees Fourty Five'Thousand Four Hundred Thirty Tw\\n\\nTotal : Rupees Two Lakh Seven Thousand Six Hundred Ninty\\n\\neX UE fs)\\n\\nCertified That the Particulars given above are true and correct and the amount indicated\\n\\nrepresents the Price actually Charged and is inclusive of allocable cost of pattern/togis &\\n\\ndies if any other assistance provided free of cost by the buyer.\\n\\nI. We acknowledge to receive the material supplied by you as per our purchase order and as per our specification and to our\\n\\nsatisfaction a\\n2. We have made the payment of this bill through cheque no.\\nPresentation and no instruction to stop payment ya the ban\\n\\n3 All disputes will Pesiiaaem ra Ue a a\\n4. 18% pa interest Fhal! iia iP T atonh Doh Fe\\n(AUNIT\\n\\nE.&.08 SECURITY TK\\n\\nOF ONDA CARS ‘ oie. UMITED)\\n\\nTE Hi donsignee Sinature\\n\\nOty Rate Unit | Pkg Taxable CGST SGST IGST\\n| value\\n350 157 30| NOS 735 Box $5055.00] 0 0.00] 0 0.00] 28 | 15415.40\\n260 125.17] NOS [26 Box 32544,20] 0 9112.38\\n397 162.35] NOS [57 Box 64452.95] 0 18046, 83\\n400 12.21] NOS |2 Box 4884.00] 0 1367,52\\n400 13.31] NOS |? Box 5324.00] 0 1490.72\\n1807 aN 122) 162260.15 0.00 0.00 45432.85\\n: 7 Issue Date : 29.01.2022 Taxable Value 162,260.15\\n4 Issue Time —: 09:45 IGST 45,432.85\\n5a Holt Five Pais snk Removal Date\\nd ghty Five Paise Only 29.01.2022\\nRemoval Time — ; 09:45\\niree Only\\nGrand Total 207693.00\\n\\nDated which will be honored under all circumstances on\\n\\nDigitally signed by PREM\\nHAND\\n\\nDate: 2022.01.29 09:44:12\\n+05: 4gthorized Signatory\\n\\n19 JAN 2022\\nGATE\\nFOE neal\\nSECuMTY WGN\\n\\nas\\n‘\\nsnsoac en\\n\\nERTe@Y &O R293...\\n\\n22910: ob 0Dd08\\n\\n\",{\"entities\":[[209,264,\"SELLER ADDRESS\"],[270,372,\"SELLER ADDRESS\"],[403,456,\"BUYER ADDRESS\"],[460,528,\"BUYER ADDRESS\"],[539,554,\"BUYER GSTIN\"],[593,603,\"BUYER PAN\"],[784,799,\"SELLER GSTIN\"],[922,935,\"INVOICE NUMBER\"],[943,953,\"INVOICE DATE\"],[1373,1395,\"ITEM FREIGHT\"],[1406,1410,\"ITEM FREIGHT\"],[1412,1434,\"ITEM FREIGHT\"],[2980,2984,\"QUANTITY\"],[2993,3002,\"NET AMOUNT\"],[3003,3007,\"CGST\"],[3008,3012,\"SGST\"],[3013,3021,\"IGST\"],[3226,3235,\"GROSS AMOUNT\"]]}),\n",
        "(\"TAX INVOICE\\n(UNDER RULE 46 READ WITH SECTION 31 OF GST ACT, 2017)\\nSTEELBIRD HI-TECH INDIA LIMITED\\n\\nPlot No.11,12,13, EPIP-1, Jharmajri, Tehsil Baddi, BAROTIWALA (Himachal Pradesh)- 174103 (India)\\nTel. No. 9805759247 E-Mail: info@steelbirdhelmet.com Web: www.steelbirdhelmet.com\\n\\ntAAACS4084K\\n102AAACS4084K1ZF\\n7U74999DL1992PLC049434\\nReverse Charge !No\\n\\n— \\\\G “.\\nInvoice No. : SI/BD/2021/05851. Date : 29-01-22\\nPlace of Supply : 08 (Rajasthan)\\n\\nE-Invoice\\n\\nDETAILS OF RECEIVER (BILLED TO): Code: C01258 DETAILS OF CONSIGNEE (SHIPPED TO) Code:\\nHONDA MOTOR INDIA (A UNIT OF HONDA CARS INDIA LTD) HONDA MOTOR INDIA (A UNIT OF HONDA CARS INDIA LTD)\\n\\nWe accept payments by any of the following\\npreferred modes\\n\\nPLOT NO. SPL-1D, TAPUKARA INDUSTRAIL AREA, KHUSHKHERA, ALWAR PLOT NO, SPL-1D, TAPUKARA INDUSTRAIL AREA,,KHUSHKHERA, ALWAR ‘Transporter : THE NALAGARH TRUCK OPERATORS UNION- NALAGARH (Hp). | >: Debit Card Powered by RuPay\\nBHIWADI - 301707 (Rajasthan) (India) BHIWADL,- 301707,(Rajasthan) Vehicle No. : HP12F6677 steelbird. 4604522524580121@hdcbank\\n(IN) G.R./L.R. No. : BD2122203443 Date : 29-01-22\\n\\nContact Person: Abhishek\\nE-Mail: abhishekkmishral @honda.co.\\nContact No. 7023333204 Sate Code : 08\\n\\nDestination : BHIWADI\\n\\nGSTIN/UID/GID :O8AAACH1765Q2Z3 PAN NgusAAACH1765Q\\nel State Code :\\n\\nMA \\\\ x REPTRTGS\\n\\nQuote No. ‘$Q/2021/02318 17-11-21 Gr. Wt. |: 142.37 Kas.\\n- SBHT S.O. No. :$0/2021/02190 17-11-21 Chg. Wt. |: 388.40 Kgs.\\n: : Our Bank Details : HDFC Bank Ltd. .\\nO/S Rs. : 18,839,689.74 Dr. Overdue Amt : 0.00 Account No. : 5020006748662 IFSC Code : HDFCO000650 P.O. No. :910312/VCODE: 2S56/ DEC'21 = [Volume _| : 70.65 CFT\\n\\nO/S Order Rs. : 15,417,112.40\\nDisc Structure : GST+0S\\n\\nADD: Sai Road, Baddi (Himachal Pradesh) Tel : 01795-247949\\n\\nRate\\ns) 1 —_|SP14LHEL9O0BK _ | HELMET-FULL FACE (MCG-L) (SB-41) 65061090] 18 | pcs | 802.01] 14,436.18] 0.00 14,436.18\\n_-& _|SP1SMHEL9O0BL [HELMET DIO BLACK 580MM 65061090| 84 | pcs | 669.99] 56,279.16] 0.00 56,279.16\\n\\nFIRM SCH\\n\\nE-Way Bill No. : No. of Cases : 17 Nos.\\nIRN: 8204e9e52eaa9ac59ede3BaGd62b5593ched 2b563d7337d17cf360b73ac2a19a\\n\\nAmount\\n2,598.51\\n\\n18.00 10,130.25\\n\\natl\\n\\n70,715.24\\n\\nReverse Charge 70,715.24\\nTota! Invoice Value (In Words) : * EIGHTY THREE THOUSAND FOUR HUNDRED FORTY FOUR RUPEES AND ZERO PAISA ONLY\\n\\nCertified that the particulars stated above are true and correct and the price indicated reprents the price actually charged and there is no\\nflow of additional cosideration directly or indirectly from the buyer.\\n\\n1.All claims respecting this bill must be presented within 30 days of reciept of this bill .\\n2.Goods once sald will be taken back within 90 days.\\n\\n3,Payment by payees Account Draft or Cheque only.\\n\\n4.In the event of any dispute only Nalagarh Court Shall have sole jurisdiction\\n\\nE.8& O.E.\\n\\nTotal Invoice Valve (in fig)\\nBulk Disc @0% 0 For STERLBIRD HI-TECH INDIA LIMITED\\n\\na LEZ 7\\n: LEK Signatory\\n\\nae\\n\\ntm a\\n\\n0.00] Spel Sch Disc : 0\\n0.00 | Truck Load : @0% 0\\n\\n0%| 0.00] Freight : 0.00\\n\\nTotal! 000] Prepored By\\n\\nDiscount:\\n\\n\\\"e\\n\\nChecked By\\n\",{\"entities\":[[66,277,\"SELLER ADDRESS\"],[279,290,\"SELLER PAN\"],[291,307,\"SELLER GSTIN\"],[373,390,\"INVOICE NUMBER\"],[398,406,\"INVOICE DATE\"],[538,588,\"BUYER ADDRESS\"],[701,761,\"BUYER ADDRESS\"],[823,887,\"ITEM FREIGHT\"],[922,958,\"BUYER ADDRESS\"],[988,1011,\"ITEM FREIGHT\"],[1099,1159,\"BUYER ADDRESS\"],[1237,1252,\"BUYER GSTIN\"],[1257,1271,\"BUYER PAN\"],[1450,1464,\"ACCOUNT NAME\"],[1528,1541,\"ACCOUNT NUMBER\"],[2124,2133,\"NET AMOUNT\"]]}),\n",
        "(\"o™=\\n\\nCee [F708\\n\\n® TAX INVOICE ORIGINAL FOR RECIPIENT\\nap Sterling Tools Limited —\\n« SF « (REGD. OFFICE - UNIT NO. 515, DLF TOWER A, JASOLA DISTRICT CENTRE, NEW DELHI - 110025) ted\\n*Sreye* Tekchand, Vill-Sampka, P.O Janaula,Teh Farrukhnagar, Distt Gurugram-122503Gurugram( HARYANA-122503) &\\nPhone: 0129-2270621 TO 625, 2255551 TO 553 Fax: 0129-2277359\\nGSTIN: 06AAACS0140G1ZZ PAN: AAACS0140G CIN: L29222DL1979PLCo09668\\nRefNo: SP79565\\nRef Date 16-NOV-21\\nVersion: 1.03 Tax Scheme: GST IRN: 31af63f4 Ob6ce4d4d2fd86f7 fe6e3b6e67 edSfac2bef9c3391cd5f673ca4ifie\\nInvoice Type & Sub type: B2B & Regular | Invoice No: 17025034 — | Invoice Date: 31-01-2022\\nDetails of Receiver (Billled To) | Details of Consignee (Shipped To)\\nLegal Name: HONDA CARS INDIA LIMITED Legal Name: HONDA CARS INDIA LIMITED\\nTrade Name : Honda Motor India (A Unit of Honda Cars India Ltd) Trade Name : Honda Motor India (A Unit of Honda Cars India Ltd)\\nAddress Plot No. SPL-1D Tapukara Industrial Area Khushkhera Address Plot No. SPL-1D Tapukara industrial Area Khushkhera\\nPIN Code: 301707 PIN Code : 301707\\nCity, State : ALWAR RAJASTHAN City, State : ALWAR RAJASTHAN\\nState Code : 08 State Code : gi OB\\nGSTIN/Unique ID No: 08AAACH1765Q2Z3 GSTIN/Unique ion beaAacHt7esazz3\\nVendor Code : endor Code: R )\\nPAN: AAACH1765Q © © Regular\\nOrder No./Date : 910576/23-MAY-18\\nOrder Amendment No : > Cases/Bags/Bins: 6 Gross Weight: 78.39 Kgs.\\nOur Order Acceptance: 637 a ; p ] ID: SYNCHRONIZED SUPPLY SYSTEMSLTD. O6AALC\\n|} Commodity: ; BOLTS/SCREWS/NUTS RAJASTHAN\\nBatch No./Name: Not Available Supply\\n| Whether Tax is Payable on reverse charge basis ( ;\\nS.No] PartNo./Description of HSN/SAC Qi )e6Gst | sGsT | iGST Total\\n. Goods | | | | | Value\\n1 | Lael *\\n1.) . 960010603500 CP 73181500 9009 “PCS | 0.00 0 0.00) 18 2203.20 14443.20\\nM6X1.00X35,SPH CHS,8.8.2N | | l( @ | |\\nSILVER WHITE TRIV. | it | |\\n\\n/) SAONDA MOTOR INDIA\\n(aunt OF HONDA CARS INDIA LIMITED)\\nSECURITY TKR\\n\\n{INCOMING MATERIAL\\n\\nAMOUNT IN WORDS : Rs. Fourteen Thousand Four Total Taxable Value 12240.00\\nHundred Forty Three and Paisa Twenty Only Freight 0\\nInsurance Q|\\nSGST AMOUNT : Rs. Zero Only aX Amt of Tax subject to Rev. Chg (No)\\n5 he Basic Amount 7 12240.00\\n| ; ©) ig SGST Amount @ 0% 0.00\\nCGST AMOUNT : Rs. Zero On ~. : CGST Amount @ 0% 0.00!\\nIGST Amount @ 18% 2203.20,\\n{GST AMOUNT : Rs. Two Thotlsand Two Hundred Three | TCS Amount @0% 0.00\\nand Paisa Twenty Only — | Total Invoice Amount 14443.20\\nTCS AMOUNT : Rs. Zero Only | Total Reverse Charge (No)\\n| , Advance Received Amount 0.00\\n; . _|_E-Way Bill No./Date: 321407453621 /2022-01-31 12:06:00 Total Amount Payable 14443.20.\\n(Payee Details | Certified that the particulars given above are true and correct and the amount STERLING TOOLS LIMITED\\nName: indicated represents the price actually charged and that there is no flow of additional . . i\\n| consideration directly or indirectly from the buyer. Signatu re Va id\\n: |\\nAIC No.: Digitally signed\\n_ Mode: | STERLING aS LIMITED 01;\\n‘ . i anjit Tiwari\\nIFSC Code: Date : 31-JanY% 12:16:01 PM |\\n\\ni\\\\E.&0.E ; Authorized Signatory |\\n\\n\",{\"entities\":[[56,78,\"SELLER ADDRESS\"],[89,173,\"SELLER ADDRESS\"],[187,349,\"SELLER ADDRESS\"],[357,372,\"SELLER GSTIN\"],[378,388,\"SELLER PAN\"],[606,614,\"INVOICE NUMBER\"],[633,643,\"INVOICE DATE\"],[725,749,\"BUYER ADDRESS\"],[800,850,\"BUYER ADDRESS\"],[923,974,\"BUYER ADDRESS\"],[1045,1051,\"BUYER ADDRESS\"],[1084,1099,\"BUYER ADDRESS\"],[1185,1200,\"BUYER GSTIN\"],[1269,1279,\"BUYER PAN\"],[1712,1724,\"ITEM NUMBER\"],[1728,1736,\"HSN/SAC\"],[1737,1741,\"QUANTITY\"],[1742,1746,\"UNIT OF MEASURE\"],[1782,1807,\"ITEM DESCRIPTION\"],[1821,1839,\"ITEM DESCRIPTION\"],[2006,2014,\"NET AMOUNT\"],[2203,2207,\"SGST\"],[2256,2260,\"CGST\"],[2280,2287,\"IGST\"],[2356,2360,\"ITEM MISC FEES\"],[2408,2416,\"GROSS AMOUNT\"]]}),\n",
        "(\"ff [S2%s-\\n\\nTAX INVOICE\\n\\na =|\\n\\nOriginal for Recipient\\n\\nij d ip ® Suprajit Engineering Limited\\n& #164 & 165,Sector-3, IMT Manesar,,Gurgaon,Pin Code-122050,Haryana,\\nN)) upra ] Phone No :01244707500Fax No:\\nNe : E-mail:info@suprajit.com Web:www.suprajit.com\\nIR No :- ac6b221 8bfd5529cfdad0aG1 18ebeS4a820c485157feab6cd45c93f9ab695ed6\\nee ag\\nGSTIN : 0GAADCS1638L1Z8 State Name: Haryana [State Code : 06 PAN: AADCS1638L.\\nDetails of Receiver (Billed to Party) Details of Consignee (Ship to Party) Invoice No: 4044 07679 _,\\nHonda Motor India (A Hone heal nae A Si —\\nName unit of Honda Cars India | Name unit of Fonda ars inca | invoice Date: 31-JAN-2022\\n+ ani Limited) _\\nLimited) st\\nAddress Plot No.SPL-1D Address Plot No.SPL-1D Vendor Code: —\\nTapukara Industrial Tapukara Industrial Whether invoice raise on N\\nArea A Area reverse charge basis ? ° ‘\\nKhushkhera Alwar i Vehicle No:\\n301707 . 4 Khushkhera Alwar NS\\nPlace Of supply: Rajasthan Place Of supply: Rajasthan L.R.No:\\nIState Code: 08 State Code: 08 Purchase Order No: 910081\\n-_ No: O8AAACH1765Q223 SSTIN No: O8AAACH1765Q2Z3 __—| Terms of Payment: 45 Days\\nrder Number: / Ordered Date: Invoice Currency: INR\\nOrder Type: SPD PAN No: AAACH1765Q No of Pkgs\\nPAN No: AAACH1765Q Delivery Number 47876243\\nSs. TT\\nNo | Customer Part Description HSN/SAC | Qty UOM Rate | Fulltax | Total Amount\\n[b> |ss30KsPeco f° SPEEDO CABLE 84831099 8160 EA 45.09 18 367934.40\\n“FIONSA MOTOR INDIA”\\nRII NDA MOTOR NDIA\\nOF HONDA CARS INDIA LIMIVEC)|\\nSECURITY TK |\\nINCOMING MATERIAL\\n01 FEB 2022 |\\nNTRY NOL AQRS I |\\naS 1°.° ee\\nSECURITY SIGN ....sfbesensetznehe\\n_ |\\nTOTAL 8160 Taxable Amount Rs. 367934.40\\n[GST in Words(INR): Rupees Sixty Six Thousand Two Hundred Twenty Eight and CGST\\nNineteen Paise Only\\nSGST\\nInvoice amount words(INR): Rupees Four Lakh Thirty Four Thousand One Hundred | (GST 66228.19\\nSixty Two and Fifty Nine Paise Only TCs\\n| Total GST Rs. 66228.19\\n| / we certify that the particulars given above are true and correct and the amount specified represents Grand total 4162.59\\nthe prices actually charged and that there is no flow of additional consideration directly or indirectly from rand total Rs il mind\\nthe buyer. . . .\\nRegistered Office For Suprajit Engineering Limited\\n#100,Bommasandra Industrial Area,Anekai Taluk, Bengaluru Sig natu re V,\\nPin Code-560099,Karnataka, India _. . 7\\nPhone No:+91-80-43421 100,FAX No: +91-8027833279. Digitally ian eA eOe30\\nCIN:L29199KA1985PLC006934\\nE-mail : Info@suprajit.com web:www.suprajit.com Authorised Signatory\\n\\n\",{\"entities\":[[64,160,\"SELLER ADDRESS\"],[173,252,\"SELLER ADDRESS\"],[343,358,\"SELLER GSTIN\"],[401,412,\"SELLER PAN\"],[500,510,\"INVOICE NUMBER\"],[514,534,\"BUYER ADDRESS\"],[561,585,\"BUYER ADDRESS\"],[632,643,\"INVOICE DATE\"],[650,658,\"BUYER ADDRESS\"],[681,695,\"BUYER ADDRESS\"],[734,753,\"BUYER ADDRESS\"],[840,856,\"BUYER ADDRESS\"],[871,877,\"BUYER ADDRESS\"],[1028,1043,\"BUYER GSTIN\"],[1176,1186,\"BUYER PAN\"],[1332,1359,\"ITEM DESCRIPTION\"],[1360,1368,\"HSN/SAC\"],[1374,1376,\"UNIT OF MEASURE\"],[1377,1382,\"UNIT PRICE\"],[1585,1589,\"QUANTITY\"],[1609,1618,\"NET AMOUNT\"],[1873,1881,\"IGST\"],[1999,2006,\"GROSS AMOUNT\"]]}),\n",
        "(\"if\\nORIGINAL FOR RECIDIENT\\n. Subject fo AURANGABAD Jurisdiction\\n\\nFor Supply of goods/services from factory / warehouse on payment of CGST / SGST / IGST under rule 7 & Section 34 of GST Act 2017 \\\\/\\nVavroc Engineering Limited we-y | TAX-INVOICE\\n\\n(Formerly known as Varroc Engineering Pvt. Ltd.)\\n\\nL- 6/2, MIDC Industrial Area, Waluj, | 0240-2551480 | varroc.info@varroc.com . Vvearroc\\n. AURANGABAD 431 136 Maharashtra India | 0240-2551 586 Ww r ! EXCELLENCE\\nCIN : L28920MH1988PLC047335 1: ssa if\\nPe oe 4] Se ——)\\n54\\n\\nSTATE CODE :27| Maharashtra\\n\\na |\\nInvoice No. 21540067692\\nGSTIN : 27ABACV2420J12Z1\\n\\nInvoice Date :20.01.2022. 2 ,\\nTime of Supply:18:34:38\\nPlace of Supply : 08/Rajasthan\\n\\nWhether tax on Reverse Charge: YES/NO/NA\\n\\nhe 3 (are\\nhs Bete,\\nao\\nce\\n\\nVendor Code : 2v14\\n\\nDetails of Receiver(Name & Address) Customer PO: 910508 | :\\nHONDA MOTOR INDIA Customer PO Date: 11.01.2017 i\\n\\n{A UNIT OF HONDA CARS INDIA (A UNIT OF HONDA CARS INDIA Ltd.) | Unloading Point: stores |\\n\\nLtd.) PLOT NO.SPL-1D, TAPUKARA Vehicle No: MH20CT9764\\nPLOT NO.SPL-1D, A SPUKARA _~7 INDUSTRIAL AREA LR No: 20012022\\nINDUSTRIAL AREA KHUSHKHERA, ALWAR 301707 LR Date: 20.01.2022\\nKHUSHKHERA, ALWAR 301707 RAJASTHAN India e-Waybill No.:\\nRAJASTHAN India STATE CODE: 08 e-Waybill Date:\\nSTATE CODE: 08 GSTIN: 08AAACH17650223 Plant: 1500\\nGSTIN: O8AAACH17659223 a i= Packing Details: 20 BOX(SPD)\\nitem Code ITEM Customer |HSN / TOTAL | vox AMORT. | WEIGHT SALES TOTAL \\\\\\nDESCRIPTION | Item SAC QTY RATE AMOUNT\\nCode _ |\\n— ° i\\n5228025900 SHAFT 23411KWPF2 87141090 360.000 NO 0.00 - 160.63 57,826.80 |\\n5 DRIVE-23411- |o i\\n© KWP-F201 _ Jt\\n[Base Value | 57,826.80\\n| | = i\\nTex amount subject to Reverse Charge _. i i\\nTransport Mode (By Road/Air) : LPT 909\\n\\n- Wy\\n\\nna\\n\\n* \\\\\\n\\nTransporter Name : SHRIRAM TRANSPORT = |\\n\\n57826 .80|\\n\\n+\\n\\nAss. Value in Words : FIFTY SEVEN THOUSAND EIGHT HUNDRED TWENTY SIX Rupees EIGHTY Paise Value\\n\\nCeST in Words :Nil\\n\\nSGST in Words :Nil\\n\\nTotal in Words : SEVENTY FOUR THOUSAND EIGHTEEN Rupees THIRTY ONE Paise\\n\\n337\\n\\n05: 0e 26€90a2ca3eclc349b9a70787208d31a763 fags\\nI/We certify that our registration certificate under the GST Act 2017 is in force on the date on which the supply of goods / services specified in this tax invoice is made by ae the\\n\\ntransaction of supply covered by this Tax invoice had been effected by me/us & it shall be accounted for in the turnover of supplies while filling of return & the due tax if any Payable jin the\\nsupplies has been paid or shail be paid. Further certified that the particulars ereis\\n\\ngiven above are true and correct & the amount indicated represents the prices actually charged and thatt!\\nFor Varroc Engineering Limited _\\nSignature valid D> a\\nared by —— Checked By ate\\n\\n\",{\"entities\":[[196,222,\"SELLER ADDRESS\"],[243,329,\"SELLER ADDRESS\"],[383,419,\"SELLER ADDRESS\"],[557,568,\"INVOICE NUMBER\"],[577,593,\"SELLER GSTIN\"],[608,620,\"INVOICE DATE\"],[829,846,\"BUYER ADDRESS\"],[907,940,\"BUYER ADDRESS\"],[976,1000,\"BUYER ADDRESS\"],[1013,1023,\"ITEM FREIGHT\"],[1054,1069,\"BUYER ADDRESS\"],[1102,1126,\"BUYER ADDRESS\"],[1172,1187,\"BUYER ADDRESS\"],[1272,1287,\"BUYER GSTIN\"],[1484,1494,\"ITEM NUMBER\"],[1495,1500,\"ITEM DESCRIPTION\"],[1512,1520,\"HSN/SAC\"],[1521,1528,\"QUANTITY\"],[1529,1531,\"UNIT OF MEASURE\"],[1539,1545,\"UNIT PRICE\"],[1560,1572,\"ITEM DESCRIPTION\"],[1580,1588,\"ITEM DESCRIPTION\"],[1608,1617,\"NET AMOUNT\"]]}),\n",
        "(\"|\\n\\namt\\n\\nf\\n\\n- ji DELHI Jurisdiction ®\\nFor Supply from Factory / warehouse ABT Aes “ASESTRIGSTURGEROED & Section 34 of GST act 2017 \\\\/\\nTAX-INVOICE ; Se sub\\n\\nVarroc Poly:fers Pvt. Ltd. (vrrt-sn)\\n\\ni i - Jai i - ;.info@varrocgroup.com\\n5 Milestgné, N.H.-8, Delhi - Jaipur Highway, Near | 0124-2279004 | varroc.in\\nhate Orchid Resort, Village Binola, Dist. Gurugram (Haryana) - 122413 | 0124-2279526 | www.varrocgroup.com ; Vvarroc\\na EXCELLENCE\\n\\\"CIN :. U25209MH1995PTC090037\\n\\nSTATE CODE :06| Haryana\\nGSTIN :06AABCM2508F12Y\\n\\nInvoice No. 22740236680 waa\\nInvoice Date :29.01.2022 a\\n\\nTime of Supply:22:47:28\\nPlace of Supply : ‘08/Rajasthan\\n\\nVendor Code : 2v01 Whether tax on Reverse Charge: YES/NO/NA\\n\\nDetails of Receiver(Name & Address) | Details of Consignee(Name ¢: A.ddress) : Customer PO: 910096\\n\\nHONDA MOTOR INDIA HONDA MOTOR INDIA Customer PO Date: 24.07.2012\\n\\n(A UNIT OF HONDA CARS INDIA (A UNIT OF HONDA CARS INDIA Ltd.) | Unloading Point: stores\\n\\nLtd.) PLOT NO.SPL-1D, TAPUKARA Vehicle No: . ft, Ll 2R\\nPLOT NO.SPL-1D, TAPUKARA INDUSTRIAL AREA LR No: HRB\\n\\nINDUSTRIAL AREA KHUSHKHERA, ALWAR 3(11707 LR Date: 29.01.2022\\n\\nKHUSHKHERA, ALWAR 301707 RAJASTHAN India e-Wayvill No.: '.)\\nRAJASTHAN India STATE CODE :08 e-Waybill Date: a\\nSTATE CODE: 68 GSTIN: 08AAACH17659223 Plant: 2700 . ae\\n\\nGSTIN: *O8AAACH17650223 Le” :\\n\\nPacking Details: BOX-06\\n\\nITEM Customer |HSN / TOTAL liOM AMORT. | WEIGHT | SALES TOTAL\\nDESCRIPTION | Item SAC QTY RATE AMOUNT\\n\\nItem Code\\n\\nCode\\n$1111896MK | COVER L FLR | 64330K3290 87141090 [5000 \\\"Ino |o.oa - 83.80 419.00\\n{1 SIDE R OZA\\n316M-\\n64330K32900ZA\\nlexriossem lees To + + a)\\n$1110946MK | sHROUD R 50200KSPBO |87141090 /30.000 [wo |o.00 - 129.02 3,870.60\\nee | Y207™- ozD\\n\\n50200KSPBO0ZD | |\\n$1111768MK | SHROUD L 50265K2190 | 87141090 40.000 No 0.00 - 85.01 3,400.40\\n\\nNHi- ozc\\na — —_|\\n97. 1,976.40\\n\\n\\\\\\n\\n59265K21900ZC\\n\\n$1111458MK FENDOR FRONT 61100KSPBO\\n\\n( NH1- 0ZG\\n\\n|\\n61100KSPBO00ZG ,\\nS1111459MK COWL R FRONT 61302KSPBO | 87141090\\n\\n33.000 |NO  |o.90 - 53.60 1,768.80\\n(_ 7} Sipe 026\\nNH1-\\n\\n61302KSPB00ZG\\n\\nCaind|= = e g ei\\nHoPl il. Time [i:3e\\\"\\n\\nTax amount subject to Reverse Charge ve ooo\\n\\n87141090\\n\\n|\\n\\n11,435.20 |\\n\\n=\\nar\\nHa ED Ee Be\\n\\nFi\\n7 0D evceve a\\n\\nTransport Mode (By Road/Air) : TATA 709\\n\\n. . .\\nTransporter Name : MOHIT TRANSPORT PVT. ANALULE - segment =\\nan v4 Se ®\\n\\nAss. Value in Words : ELEVEN THOUSAND FOUR HUNDRED THIRTY FIVE Rupees TWENTY Paige ASS. Value 11435.20\\n2.\\n\\nSGST in Words :Nil eee. CGST % | =\\n9. =\\n\\nSGST in Words :Nil ee lsesr % |\\n\\n| asx in Words :THREE THOUSAND TWO HUNDRED ONE Rupees EIGHTY EIGHT Paige _..__|IGST 28% 3201.88\\n\\n7 CS -\\nTCS_in Words : Nile wera eS 0.000 %\\nVewauk KPA@OhE £00 WGUeeTT ’ . ite 4\\nTotal in Words: F reveal be ishi3 dexlvdnfonas heer biNles Inlnees EIGHT Paise ..__| Grand : TT 14637.08\\n\\n(AUNIT OF HONDA CARS INDIA LIMITED)\\nSECURITY TKR\\nINCOMING MATERIAL\\n\\n| aacanodoe C121 ae aAAas aks\\nis in force on the date on which the supply of goods / services specified in this tax invoice is made by rp & the\\n\\nle on the\\nt there is\\n\\n| / We certify that a ‘registration certificate under ,tl\\n\\nt tion of I Fax] [voic\\nransaction of suppl GATE WW ya 4\\n\\nSulolins has been\\nwocesascvonel soe\\n\\nFor Varroc Polymers Pvt. Ltd.\\n\\nSignature valid\\nearsgnatuse\\n\\nDigitally Signed By: A\\nDS VARROC PRLS\\nSat 29 Jan 2022 220K\\n\\n\",{\"entities\":[[155,181,\"SELLER ADDRESS\"],[230,279,\"SELLER ADDRESS\"],[312,376,\"SELLER ADDRESS\"],[498,514,\"SELLER GSTIN\"],[528,539,\"INVOICE NUMBER\"],[557,568,\"INVOICE DATE\"],[790,807,\"BUYER ADDRESS\"],[884,917,\"BUYER ADDRESS\"],[951,975,\"BUYER ADDRESS\"],[1053,1080,\"BUYER ADDRESS\"],[1128,1156,\"BUYER ADDRESS\"],[1247,1262,\"BUYER GSTIN\"],[2378,2386,\"NET AMOUNT\"],[2553,2560,\"IGST\"],[2738,2746,\"GROSS AMOUNT\"]]})]"
      ]
    },
    {
      "cell_type": "code",
      "source": [
        "from typing import List, Set, Dict, Iterable, ItemsView, Union, TYPE_CHECKING\n",
        "from wasabi import msg\n",
        "from spacy.tokens import Doc, Token, Span\n",
        "from spacy.errors import Errors\n",
        "from spacy.util import dot_to_dict\n",
        "from thinc.api import Model, Config\n",
        "from typing import Callable\n",
        "if TYPE_CHECKING:\n",
        "    # This lets us add type hints for mypy etc. without causing circular imports\n",
        "    from spacy.language import Language  # noqa: F401\n",
        "\n",
        "from spacy_transformers import Transformer\n",
        "DEFAULT_KEYS = [\"requires\", \"assigns\", \"scores\", \"retokenizes\"]\n",
        "\n",
        "# ReDefining 'intilise_pipes' for intialising pipes which will be used while training the model\n",
        "def intilise_pipes(\n",
        "    nlp: \"Language\", *, keys: List[str] = DEFAULT_KEYS\n",
        ") -> Dict[str, Dict[str, Union[List[str], Dict]]]:\n",
        "\n",
        "    result: Dict[str, Dict[str, Union[List[str], Dict]]] = {\n",
        "        \"summary\": {},\n",
        "        \"problems\": {},\n",
        "    }\n",
        "    all_attrs: Set[str] = set()\n",
        "    for i, name in enumerate(nlp.pipe_names):\n",
        "        meta = nlp.get_pipe_meta(name)\n",
        "        all_attrs.update(meta.assigns)\n",
        "        all_attrs.update(meta.requires)\n",
        "        result[\"summary\"][name] = {key: getattr(meta, key, None) for key in keys}\n",
        "        prev_pipes = nlp.pipeline[:i]\n",
        "        requires = {annot: False for annot in meta.requires}\n",
        "        if requires:\n",
        "            for prev_name, prev_pipe in prev_pipes:\n",
        "                prev_meta = nlp.get_pipe_meta(prev_name)\n",
        "                for annot in prev_meta.assigns:\n",
        "                    requires[annot] = True\n",
        "        result[\"problems\"][name] = [\n",
        "            annot for annot, fulfilled in requires.items() if not fulfilled\n",
        "        ]\n",
        "    result[\"attrs\"] = {attr: get_attr_info(nlp, attr) for attr in all_attrs}\n",
        "    return result\n",
        "#configuration for transformer just like we have configuration for model(base_config.cfg) for model.\n",
        "DEFAULT_CONFIG_STR = \"\"\"\n",
        "[transformer]\n",
        "max_batch_items = 4096\n",
        "\n",
        "[transformer.set_extra_annotations]\n",
        "@annotation_setters = \"spacy-transformers.null_annotation_setter.v1\"\n",
        "\n",
        "[transformer.model]\n",
        "@architectures = \"spacy-transformers.TransformerModel.v3\"\n",
        "name = \"roberta-base\"\n",
        "tokenizer_config = {\"use_fast\": true}\n",
        "transformer_config = {}\n",
        "mixed_precision = false\n",
        "grad_scaler_config = {}\n",
        "\n",
        "[transformer.model.get_spans]\n",
        "@span_getters = \"spacy-transformers.strided_spans.v1\"\n",
        "window = 128\n",
        "stride = 96\n",
        "\"\"\"\n",
        "#Bert Transformer is used\n",
        "FullTransformerBatch=\"Bert-Transformer\"\n",
        "DEFAULT_CONFIG = Config().from_str(DEFAULT_CONFIG_STR) #loads the above defined config\n",
        "DOC_EXT_ATTR = \"trf_data\"\n",
        "\n",
        "#creating new transformer which will be loaded by spacy api while training the model\n",
        "#redfineing transofrmer while loading our configuration to the transformer which will be called by spacy api while training the model with 'GPU'\n",
        "def make_transformer(\n",
        "    nlp: Language,\n",
        "    name: str,\n",
        "    model: Model[List[Doc], FullTransformerBatch],\n",
        "    set_extra_annotations: Callable[[List[Doc], FullTransformerBatch], None],\n",
        "    max_batch_items: int,\n",
        "):\n",
        "\n",
        "    return Transformer(\n",
        "        nlp.vocab,\n",
        "        model,\n",
        "        set_extra_annotations,\n",
        "        max_batch_items=max_batch_items,\n",
        "        name=name,\n",
        "    )\n"
      ],
      "metadata": {
        "id": "ftsr1_IOi5wb"
      },
      "execution_count": null,
      "outputs": []
    },
    {
      "cell_type": "code",
      "source": [
        "from typing import Union, Iterable, Dict, Any\n",
        "from pathlib import Path\n",
        "import sys\n",
        "# set library-specific custom warning handling before doing anything else\n",
        "from spacy.errors import setup_default_warnings\n",
        "setup_default_warnings()  # noqa: E402\n",
        "# These are imported as part of the API\n",
        "from thinc.api import prefer_gpu, require_gpu, require_cpu  # noqa: F401\n",
        "from thinc.api import Config\n",
        "from spacy import pipeline  # noqa: F401\n",
        "from spacy.cli.info import info  # noqa: F401\n",
        "from spacy.glossary import explain  # noqa: F401\n",
        "from spacy.about import __version__  # noqa: F401\n",
        "from spacy.util import registry, logger  # noqa: F401\n",
        "from spacy.errors import Errors\n",
        "from spacy.language import Language\n",
        "from spacy.vocab import Vocab\n",
        "from spacy import util\n",
        "if sys.maxunicode == 65535:\n",
        "    raise SystemError(Errors.E130)\n",
        "\n",
        "\n",
        "#Redefining a blank NER model and initialising it with empty Pipes\n",
        "#this will be called when we use spacy api to train the model.\n",
        "def blank(\n",
        "    name: str,\n",
        "    *,\n",
        "    vocab: Union[Vocab, bool] = True,\n",
        "    config: Union[Dict[str, Any], Config] = util.SimpleFrozenDict(),\n",
        "    meta: Dict[str, Any] = util.SimpleFrozenDict(),\n",
        ") -> Language:\n",
        "\n",
        "    blank_model=intilise_pipes()# custom blank model with configured pipes.\n",
        "    LangClass = util.get_lang_class(blank_model)\n",
        "    # We should accept both dot notation and nested dict here for consistency\n",
        "    config = util.dot_to_dict(config) #loads the configuration file we create.\n",
        "    return LangClass.from_config(config, vocab=vocab, meta=meta)\n"
      ],
      "metadata": {
        "id": "gvhmDHHmf-1W"
      },
      "execution_count": null,
      "outputs": []
    },
    {
      "cell_type": "code",
      "source": [
        "import pandas as pd\n",
        "import os\n",
        "from tqdm import tqdm\n",
        "import spacy\n",
        "from spacy.tokens import DocBin\n",
        "\n",
        "#our custom blank model is now loaded english language.\n",
        "blank_model = spacy.blank(\"en\")\n",
        "\n",
        "db = DocBin() # create a DocBin object to store our data into a bin format. Machine readable data for faster training of model.\n",
        "\n",
        "for text, annot in tqdm(TRAIN_DATA): # data in previous format\n",
        "    doc = blank_model.make_doc(text) # create doc object from text\n",
        "    ents = []#empty list\n",
        "    for start, end, label in annot[\"entities\"]: # add character indexes\n",
        "        span = doc.char_span(start, end, label=label, alignment_mode=\"contract\") # create span object(takes the parameters as start and end position of the labelled entity and stores in the variable)\n",
        "        if span is None:\n",
        "            print(\"Skipping entity\") #checks if span object is empty , skips if empty\n",
        "        else:\n",
        "            ents.append(span)#else adds the span object to the list ents\n",
        "    doc.ents = ents # label the text with the ents\n",
        "    db.add(doc)# Now all the list of entities we gathered are stored in adocbin file\n",
        "\n",
        "\n",
        "db.to_disk(\"./train.spacy\") # save the docbin object"
      ],
      "metadata": {
        "id": "ynAM-FKEW6wd"
      },
      "execution_count": null,
      "outputs": []
    },
    {
      "cell_type": "markdown",
      "source": [
        "###**Generates Configuartion file which is required to train model**"
      ],
      "metadata": {
        "id": "1GDsG-Yj23Z5"
      }
    },
    {
      "cell_type": "code",
      "source": [
        "%%writefile base_config.cfg\n",
        "#This configuration is specifically designed to train the model with best accuracy\n",
        "[paths]\n",
        "train = null\n",
        "dev = null\n",
        "vectors = null\n",
        "[system]\n",
        "gpu_allocator = \"pytorch\" #we are allocating Gpu while training the Model\n",
        "                  #this ensures the model gets trained efficiently and gives the best accuracy.\n",
        "[nlp]\n",
        "lang = \"en\"\n",
        "pipeline = [\"transformer\",\"ner\"] #spacy-transformers are used to initialise this model's pipeline.\n",
        "batch_size = 128 #batch size is set to 8\n",
        "\n",
        "[components]\n",
        "\n",
        "[components.transformer]\n",
        "factory = \"transformer\" #as we are using spacy-transformers factory mode on which the model gets build is set to transformers\n",
        "\n",
        "[components.transformer.model]\n",
        "@architectures = \"spacy-transformers.TransformerModel.v3\"\n",
        "name = \"roberta-base\" #roberta from BERT transformer is chosen for this model architecture.\n",
        "tokenizer_config = {\"use_fast\": true}\n",
        "\n",
        "[components.transformer.model.get_spans]\n",
        "@span_getters = \"spacy-transformers.strided_spans.v1\"\n",
        "window = 128\n",
        "stride = 96\n",
        "\n",
        "[components.ner]\n",
        "factory = \"ner\" #the objective of the model is to detect Named Entity, hence ner is used\n",
        "\n",
        "[components.ner.model]\n",
        "@architectures = \"spacy.TransitionBasedParser.v2\"\n",
        "state_type = \"ner\"\n",
        "extra_state_tokens = false\n",
        "hidden_width = 64\n",
        "maxout_pieces = 2\n",
        "use_upper = false\n",
        "nO = null\n",
        "\n",
        "[components.ner.model.tok2vec]\n",
        "@architectures = \"spacy-transformers.TransformerListener.v1\" #architecture is set to spacy-transformer listener instead of spacy listener.\n",
        "grad_factor = 1.0\n",
        "\n",
        "[components.ner.model.tok2vec.pooling]\n",
        "@layers = \"reduce_mean.v1\"\n",
        "\n",
        "[corpora]\n",
        "\n",
        "#prefilled template\n",
        "[corpora.train]\n",
        "@readers = \"spacy.Corpus.v1\"\n",
        "path = ${paths.train}\n",
        "max_length = 0\n",
        "\n",
        "#prefilled template\n",
        "[corpora.dev]\n",
        "@readers = \"spacy.Corpus.v1\"\n",
        "path = ${paths.dev}\n",
        "max_length = 0\n",
        "\n",
        "#prefilled template\n",
        "[training]\n",
        "accumulate_gradient = 3\n",
        "dev_corpus = \"corpora.dev\"\n",
        "train_corpus = \"corpora.train\"\n",
        "\n",
        "[training.optimizer]\n",
        "@optimizers = \"Adam.v1\" #is used as optimiser to implement adaptive learning rate in our model\n",
        "\n",
        "[training.optimizer.learn_rate]\n",
        "@schedules = \"warmup_linear.v1\"\n",
        "warmup_steps = 250\n",
        "total_steps = 20000\n",
        "initial_rate = 5e-5 #learning rate\n",
        "\n",
        "[training.batcher]\n",
        "@batchers = \"spacy.batch_by_padded.v1\"\n",
        "discard_oversize = true #oversized batches are discarded\n",
        "size = 2000\n",
        "buffer = 256 #this the the buffer size\n",
        "\n",
        "[initialize]\n",
        "vectors = ${paths.vectors} #initialising path vectors\n",
        "# the rest of the config will get autofilled by spacy-transformer when\n",
        "# we run this command python -m spacy init fill-config base_config.cfg config.cfg"
      ],
      "metadata": {
        "id": "5KPriBUc2rOl",
        "outputId": "2c48c49b-01e5-4d19-d284-582b1f9c88d1",
        "colab": {
          "base_uri": "https://localhost:8080/"
        }
      },
      "execution_count": null,
      "outputs": [
        {
          "output_type": "stream",
          "name": "stdout",
          "text": [
            "Writing base_config.cfg\n"
          ]
        }
      ]
    },
    {
      "cell_type": "code",
      "source": [
        "!python -m spacy init fill-config base_config.cfg config.cfg #loading the configuration file , consists of parameters such as batch size etc."
      ],
      "metadata": {
        "id": "T_ws0yRSZIC_"
      },
      "execution_count": null,
      "outputs": []
    },
    {
      "cell_type": "code",
      "source": [
        "!python -m spacy train config.cfg --output ./output --paths.train ./train.spacy --paths.dev ./train.spacy --gpu-id 0 #start training model by giving train.spacy which is a bin file storing out train data."
      ],
      "metadata": {
        "id": "O8aK5OvcZqjb",
        "colab": {
          "base_uri": "https://localhost:8080/"
        },
        "outputId": "21e1d815-6d3d-48af-88f7-c8c2b94e9732"
      },
      "execution_count": null,
      "outputs": [
        {
          "output_type": "stream",
          "name": "stdout",
          "text": [
            "2023-06-30 09:49:28.561586: W tensorflow/compiler/tf2tensorrt/utils/py_utils.cc:38] TF-TRT Warning: Could not find TensorRT\n",
            "\u001b[38;5;4mℹ Saving to output directory: output\u001b[0m\n",
            "\u001b[38;5;4mℹ Using GPU: 0\u001b[0m\n",
            "\u001b[1m\n",
            "=========================== Initializing pipeline ===========================\u001b[0m\n",
            "[2023-06-30 09:49:36,919] [INFO] Set up nlp object from config\n",
            "[2023-06-30 09:49:36,934] [INFO] Pipeline: ['transformer', 'ner']\n",
            "[2023-06-30 09:49:36,938] [INFO] Created vocabulary\n",
            "[2023-06-30 09:49:36,938] [INFO] Finished initializing nlp object\n",
            "Some weights of the model checkpoint at roberta-base were not used when initializing RobertaModel: ['lm_head.layer_norm.weight', 'lm_head.dense.bias', 'lm_head.dense.weight', 'lm_head.layer_norm.bias', 'lm_head.bias']\n",
            "- This IS expected if you are initializing RobertaModel from the checkpoint of a model trained on another task or with another architecture (e.g. initializing a BertForSequenceClassification model from a BertForPreTraining model).\n",
            "- This IS NOT expected if you are initializing RobertaModel from the checkpoint of a model that you expect to be exactly identical (initializing a BertForSequenceClassification model from a BertForSequenceClassification model).\n",
            "Some weights of RobertaModel were not initialized from the model checkpoint at roberta-base and are newly initialized: ['roberta.pooler.dense.bias', 'roberta.pooler.dense.weight']\n",
            "You should probably TRAIN this model on a down-stream task to be able to use it for predictions and inference.\n",
            "[2023-06-30 09:50:04,630] [INFO] Initialized pipeline components: ['transformer', 'ner']\n",
            "\u001b[38;5;2m✔ Initialized pipeline\u001b[0m\n",
            "\u001b[1m\n",
            "============================= Training pipeline =============================\u001b[0m\n",
            "\u001b[38;5;4mℹ Pipeline: ['transformer', 'ner']\u001b[0m\n",
            "\u001b[38;5;4mℹ Initial learn rate: 0.0\u001b[0m\n",
            "E    #       LOSS TRANS...  LOSS NER  ENTS_F  ENTS_P  ENTS_R  SCORE \n",
            "---  ------  -------------  --------  ------  ------  ------  ------\n",
            "  0       0        2920.89   1524.87    0.02    0.01    0.16    0.00\n",
            " 11     200      270336.50  61479.60    2.10   17.50    1.12    0.02\n",
            " 23     400      201596.99  24028.88    2.04   11.67    1.12    0.02\n",
            " 35     600       35203.34  11210.43   67.59   68.76   66.45    0.68\n",
            " 47     800       19655.18   4411.04   93.84   94.06   93.61    0.94\n",
            " 58    1000        3117.19   1460.53   96.88   96.96   96.81    0.97\n",
            " 70    1200       20898.42   1556.15   97.83   98.38   97.28    0.98\n",
            " 82    1400       14225.91   1190.13   98.31   99.19   97.44    0.98\n",
            " 94    1600        7492.17   1001.97   99.04   99.36   98.72    0.99\n",
            "105    1800        5529.59    907.37   98.64   98.56   98.72    0.99\n",
            "117    2000        3344.62    683.05   99.04   99.36   98.72    0.99\n",
            "129    2200        6077.98    679.51   99.12   99.20   99.04    0.99\n",
            "141    2400         448.89    398.96  100.00  100.00  100.00    1.00\n",
            "152    2600          48.64    226.08  100.00  100.00  100.00    1.00\n",
            "164    2800          32.52    225.29  100.00  100.00  100.00    1.00\n",
            "176    3000          56.04    241.16  100.00  100.00  100.00    1.00\n",
            "188    3200        1146.75    295.84   99.92   99.84  100.00    1.00\n",
            "200    3400          51.14    282.58  100.00  100.00  100.00    1.00\n",
            "211    3600          30.08    226.81  100.00  100.00  100.00    1.00\n",
            "223    3800         448.74    290.28  100.00  100.00  100.00    1.00\n",
            "235    4000          89.30    240.34  100.00  100.00  100.00    1.00\n",
            "\u001b[38;5;2m✔ Saved pipeline to output directory\u001b[0m\n",
            "output/model-last\n"
          ]
        }
      ]
    },
    {
      "cell_type": "markdown",
      "source": [
        "###**Testing Currently trained model(latest)**"
      ],
      "metadata": {
        "id": "SQy0lsL4FKos"
      }
    },
    {
      "cell_type": "code",
      "source": [
        "import spacy_transformers\n",
        "blank_model = spacy.load(\"/content/output/model-best\") #load the best model\n",
        "doc = blank_model(\"AEROSTAR HELMETS & ACCESSORIES UNIT-1 Details of Receiver (Billed To) Details of Consignee (Shiped To) : HONDA MOTOR INDIA(A Unit of Honda Cars India Ltd) HONDA MOTOR INDIA(A Unit of Honda Cars India Ltd)Plot No. SPL-1D, Tapukara Industrial Area, Kushkhera,Alwar Plot No. SPL-1D, Tapukara Industrial Area, Kushkhera,Alwar x ‘Works-Plot No. A460, RIICO Ind.Area Chopanki, Bhiwadi, Kushkhera,Alwar \\— Kushkhera,Alwar  Rajasthan,Pin Code 301019 eS ri City: Tapukara PIN Code : 301707 Cont:- 7023333204 City: Tapukara PIN Code : 301707 Cont:- 7023333204 «, HS) PIN Code: 307019 STATE : RAJASTHAN State Code : 08 State Name: RAJASTHAN | State Code: 08 State Name: RAJASTHAN % GSTIN : O8ABEFA5297L 1ZY PAN : ABEFA5297L GSTIN : O8AAACH1765Q2Z3 PAN _LAAACH1765Q GSTIN: O08AAACH1765Q223 PAN; AAACH1765Q INVOICE NO, :- _21-22/4PD/003418 |INVOICE DATE :- 31-JAN-2022 |” a | CustPoNo, :- 910503 ./* ORDER DATE. = 31-JAN-2022 Dispatch No i= 21-22/10004/3407 Issue Date & Time :- 31-JAN-22 ai BUYER’S ORDER NO. :- SO22/4/286 Vendor Code :- : Place of Delivery :- RAJASTHAN Sr.| ITEMCODE | HSN | pescrIPTION | ety luom! MRP RATE | Disc.| TAXABLE IGST CGST | SGST | TOTAL GST No. | | SAC | (%) | AMT, % AMT | %; AMT | % AMT | HELMET HONDA . 1 SPHFXHEL103BB 65061090 HELMET HALF FACE (XL-BASIC 504 NOs 436.20 436.20 0 2,19,844.80 90.00 0.00 9.00 19,786.03 9.00 19,786.03 39,572.06 Gu “LD A BLACK) : a ; | — | Group Wise Total : 504 219844.80 0 19786.03 19786.03 39572.06  HELMETS 7 yp 2 SPFFLHEL110BB 65061090 HELMET-FF LARGE(BASIC BLACK) _ 132 - ; ~560.12...0 73,935.84 0.00 (0.00 9.00 6,654.23 9.00 6,654.23 13,308.46  | “A2+ 60 Group Wise Total : 132, vo Eke 22 273985.84 * 0 6654.23 6654.23 13308.46 ; — : 7 - “Ly ~ ee — —— — ( GATE G dw “Ror lo} Se ENTRY NO.8Y Fe pr 3/7 O[-2002 row) anewase erat nee nen oto e . ZY) AN 1072 —[o vei ed Tamed? 1 2-19 ZS ‘D SIAN TE Yo | SAQ MACHER No, : RW a i=) \\ ceneoss TOTAL: ! ne 293780.64 0 26440.26 26440.26 52880.52 GATE ENTRY NO Pa ves erate ; RRGR NO TIME _..SAEE DADO RGR Date m 31-JAN:22...., BASIC AMOUNT 2,93,780.64 Eway Bill No. SEGURE “Way Bill Date :- 2022-01-31 11:18:00 ee FREIGHT  INSURANCE Transporter’s Name :- SAFETRANS LOGISTIC Vehicle. NO. te ~~ RJ40GA0740 PACKING & FORWADING) | No. Of Cases = ©6106 Dispatch Through:- BY ROAD GST @ 18% 52,880.52 | Total Weight (in Kgs) :- Transaction Type:- Regular : | | IRN NO :-6019ce607d47b23d9b37fcd61cbh7821af44 1 9ff5addae55b89855998789769a3 | Bill Amount Subjected to Reverse Charges (Y/N) NO | |  Tax Amount (In Words):- Rs.° Fifty-Two Thousand Eight Hundred Eighty And Fifty-Two Only | ROUND OFF 0.16 Bill Value (In Words) : - Rs.* Three Lakh Forty-Six Thousand Six Hundred Sixty-One Only NET AMOUNT 3,46,661.00 | | ' | Special Instruction : “For AEROSTAR HELMETS & ACCESSORIES UL All disputes are subjected to Delhi Jurisdictions . ‘ Certified that the particular given above are true & correct and the amount indicated represents the price actually charged and that there is no flow of any additional consideration directly or indirectly from the buyer. ised SignaUNDER SECTION 31 OF CGST ACT ,2017 AND RULE 46-TAX INVOICE — ORIGINAL FOR RE TAX INVOICE St] si oo CIPIENT oan\") # input sample text\n",
        "#display results\n",
        "spacy.displacy.render(doc, style=\"ent\", jupyter=True)"
      ],
      "metadata": {
        "colab": {
          "base_uri": "https://localhost:8080/",
          "height": 822
        },
        "id": "BpDk5vIkafTK",
        "outputId": "ce724433-891e-404e-e0e2-fd7eaab6bd8e"
      },
      "execution_count": null,
      "outputs": [
        {
          "output_type": "display_data",
          "data": {
            "text/plain": [
              "<IPython.core.display.HTML object>"
            ],
            "text/html": [
              "<span class=\"tex2jax_ignore\"><div class=\"entities\" style=\"line-height: 2.5; direction: ltr\">\n",
              "<mark class=\"entity\" style=\"background: #ddd; padding: 0.45em 0.6em; margin: 0 0.25em; line-height: 1; border-radius: 0.35em;\">\n",
              "    AEROSTAR HELMETS &amp; ACCESSORIES UNIT-1\n",
              "    <span style=\"font-size: 0.8em; font-weight: bold; line-height: 1; border-radius: 0.35em; vertical-align: middle; margin-left: 0.5rem\">SELLER ADDRESS</span>\n",
              "</mark>\n",
              " Details of Receiver (Billed To) Details of Consignee (Shiped To) : \n",
              "<mark class=\"entity\" style=\"background: #ddd; padding: 0.45em 0.6em; margin: 0 0.25em; line-height: 1; border-radius: 0.35em;\">\n",
              "    HONDA MOTOR INDIA(A Unit of Honda Cars India Ltd)\n",
              "    <span style=\"font-size: 0.8em; font-weight: bold; line-height: 1; border-radius: 0.35em; vertical-align: middle; margin-left: 0.5rem\">BUYER ADDRESS</span>\n",
              "</mark>\n",
              " HONDA MOTOR INDIA(A Unit of Honda Cars India Ltd)Plot No. SPL-1D, Tapukara Industrial Area, Kushkhera,Alwar Plot No. SPL-1D, Tapukara Industrial Area, Kushkhera,Alwar x \n",
              "<mark class=\"entity\" style=\"background: #ddd; padding: 0.45em 0.6em; margin: 0 0.25em; line-height: 1; border-radius: 0.35em;\">\n",
              "    ‘Works-Plot No. A460, RIICO Ind.Area Chopanki, Bhiwadi, Kushkhera,Alwar \\— Kushkhera,Alwar  Rajasthan,Pin Code 301019\n",
              "    <span style=\"font-size: 0.8em; font-weight: bold; line-height: 1; border-radius: 0.35em; vertical-align: middle; margin-left: 0.5rem\">SELLER ADDRESS</span>\n",
              "</mark>\n",
              " eS ri \n",
              "<mark class=\"entity\" style=\"background: #ddd; padding: 0.45em 0.6em; margin: 0 0.25em; line-height: 1; border-radius: 0.35em;\">\n",
              "    City: Tapukara PIN Code : 301707 Cont:- 7023333204\n",
              "    <span style=\"font-size: 0.8em; font-weight: bold; line-height: 1; border-radius: 0.35em; vertical-align: middle; margin-left: 0.5rem\">BUYER ADDRESS</span>\n",
              "</mark>\n",
              " City: Tapukara PIN Code : 301707 Cont:- 7023333204 «, HS) PIN Code: 307019 STATE : RAJASTHAN State Code : 08 State Name: RAJASTHAN | State Code: 08 State Name: RAJASTHAN % GSTIN : \n",
              "<mark class=\"entity\" style=\"background: #ddd; padding: 0.45em 0.6em; margin: 0 0.25em; line-height: 1; border-radius: 0.35em;\">\n",
              "    O8ABEFA5297L 1ZY\n",
              "    <span style=\"font-size: 0.8em; font-weight: bold; line-height: 1; border-radius: 0.35em; vertical-align: middle; margin-left: 0.5rem\">SELLER GSTIN</span>\n",
              "</mark>\n",
              " PAN : \n",
              "<mark class=\"entity\" style=\"background: #ddd; padding: 0.45em 0.6em; margin: 0 0.25em; line-height: 1; border-radius: 0.35em;\">\n",
              "    ABEFA5297L\n",
              "    <span style=\"font-size: 0.8em; font-weight: bold; line-height: 1; border-radius: 0.35em; vertical-align: middle; margin-left: 0.5rem\">SELLER PAN</span>\n",
              "</mark>\n",
              " GSTIN : \n",
              "<mark class=\"entity\" style=\"background: #ddd; padding: 0.45em 0.6em; margin: 0 0.25em; line-height: 1; border-radius: 0.35em;\">\n",
              "    O8AAACH1765Q2Z3\n",
              "    <span style=\"font-size: 0.8em; font-weight: bold; line-height: 1; border-radius: 0.35em; vertical-align: middle; margin-left: 0.5rem\">BUYER GSTIN</span>\n",
              "</mark>\n",
              " PAN \n",
              "<mark class=\"entity\" style=\"background: #ddd; padding: 0.45em 0.6em; margin: 0 0.25em; line-height: 1; border-radius: 0.35em;\">\n",
              "    _LAAACH1765Q\n",
              "    <span style=\"font-size: 0.8em; font-weight: bold; line-height: 1; border-radius: 0.35em; vertical-align: middle; margin-left: 0.5rem\">SELLER GSTIN</span>\n",
              "</mark>\n",
              " GSTIN: O08AAACH1765Q223 PAN; \n",
              "<mark class=\"entity\" style=\"background: #ddd; padding: 0.45em 0.6em; margin: 0 0.25em; line-height: 1; border-radius: 0.35em;\">\n",
              "    AAACH1765Q\n",
              "    <span style=\"font-size: 0.8em; font-weight: bold; line-height: 1; border-radius: 0.35em; vertical-align: middle; margin-left: 0.5rem\">BUYER PAN</span>\n",
              "</mark>\n",
              " INVOICE NO, :- \n",
              "<mark class=\"entity\" style=\"background: #ddd; padding: 0.45em 0.6em; margin: 0 0.25em; line-height: 1; border-radius: 0.35em;\">\n",
              "    _21-22/4PD/003418\n",
              "    <span style=\"font-size: 0.8em; font-weight: bold; line-height: 1; border-radius: 0.35em; vertical-align: middle; margin-left: 0.5rem\">INVOICE NUMBER</span>\n",
              "</mark>\n",
              " |INVOICE DATE :- \n",
              "<mark class=\"entity\" style=\"background: #ddd; padding: 0.45em 0.6em; margin: 0 0.25em; line-height: 1; border-radius: 0.35em;\">\n",
              "    31-JAN-2022\n",
              "    <span style=\"font-size: 0.8em; font-weight: bold; line-height: 1; border-radius: 0.35em; vertical-align: middle; margin-left: 0.5rem\">INVOICE DATE</span>\n",
              "</mark>\n",
              " |” a | CustPoNo, :- 910503 ./* ORDER DATE. = 31-JAN-2022 Dispatch No i= 21-22/10004/3407 Issue Date &amp; Time :- 31-JAN-22 ai BUYER’S ORDER NO. :- SO22/4/286 Vendor Code :- : Place of Delivery :- RAJASTHAN Sr.| ITEMCODE | HSN | pescrIPTION | ety luom! MRP RATE | Disc.| TAXABLE IGST CGST | SGST | TOTAL GST No. | | SAC | (%) | AMT, % AMT | %; AMT | % AMT | HELMET HONDA . 1 SPHFXHEL103BB 65061090 HELMET HALF FACE (XL-BASIC 504 NOs 436.20 436.20 0 2,19,844.80 90.00 0.00 9.00 19,786.03 9.00 19,786.03 39,572.06 Gu “LD A BLACK) : a ; | — | Group Wise Total : 504 219844.80 0 19786.03 19786.03 39572.06  HELMETS 7 yp 2 SPFFLHEL110BB 65061090 HELMET-FF LARGE(BASIC BLACK) _ 132 - ; ~560.12...0 73,935.84 0.00 (0.00 9.00 6,654.23 9.00 6,654.23 13,308.46  | “A2+ 60 Group Wise Total : 132, vo Eke 22 273985.84 * 0 6654.23 6654.23 13308.46 ; — : 7 - “Ly ~ ee — —— — ( GATE G dw “Ror lo} Se ENTRY NO.8Y Fe pr 3/7 O[-2002 row) anewase erat nee nen oto e . ZY) AN 1072 —[o vei ed Tamed? 1 2-19 ZS ‘D SIAN TE Yo | SAQ MACHER No, : RW a i=) \\ ceneoss TOTAL: ! ne 293780.64 0 \n",
              "<mark class=\"entity\" style=\"background: #ddd; padding: 0.45em 0.6em; margin: 0 0.25em; line-height: 1; border-radius: 0.35em;\">\n",
              "    26440.26\n",
              "    <span style=\"font-size: 0.8em; font-weight: bold; line-height: 1; border-radius: 0.35em; vertical-align: middle; margin-left: 0.5rem\">CGST</span>\n",
              "</mark>\n",
              " \n",
              "<mark class=\"entity\" style=\"background: #ddd; padding: 0.45em 0.6em; margin: 0 0.25em; line-height: 1; border-radius: 0.35em;\">\n",
              "    26440.26\n",
              "    <span style=\"font-size: 0.8em; font-weight: bold; line-height: 1; border-radius: 0.35em; vertical-align: middle; margin-left: 0.5rem\">SGST</span>\n",
              "</mark>\n",
              " 52880.52 GATE ENTRY NO Pa ves erate ; RRGR NO TIME _..SAEE DADO RGR Date m 31-JAN:22...., BASIC AMOUNT \n",
              "<mark class=\"entity\" style=\"background: #ddd; padding: 0.45em 0.6em; margin: 0 0.25em; line-height: 1; border-radius: 0.35em;\">\n",
              "    2,93,780.64\n",
              "    <span style=\"font-size: 0.8em; font-weight: bold; line-height: 1; border-radius: 0.35em; vertical-align: middle; margin-left: 0.5rem\">NET AMOUNT</span>\n",
              "</mark>\n",
              " Eway Bill No. SEGURE “Way Bill Date :- 2022-01-31 11:18:00 ee FREIGHT  INSURANCE \n",
              "<mark class=\"entity\" style=\"background: #ddd; padding: 0.45em 0.6em; margin: 0 0.25em; line-height: 1; border-radius: 0.35em;\">\n",
              "    Transporter’s Name\n",
              "    <span style=\"font-size: 0.8em; font-weight: bold; line-height: 1; border-radius: 0.35em; vertical-align: middle; margin-left: 0.5rem\">ITEM FREIGHT</span>\n",
              "</mark>\n",
              " :- \n",
              "<mark class=\"entity\" style=\"background: #ddd; padding: 0.45em 0.6em; margin: 0 0.25em; line-height: 1; border-radius: 0.35em;\">\n",
              "    SAFETRANS LOGISTIC\n",
              "    <span style=\"font-size: 0.8em; font-weight: bold; line-height: 1; border-radius: 0.35em; vertical-align: middle; margin-left: 0.5rem\">ITEM FREIGHT</span>\n",
              "</mark>\n",
              " \n",
              "<mark class=\"entity\" style=\"background: #ddd; padding: 0.45em 0.6em; margin: 0 0.25em; line-height: 1; border-radius: 0.35em;\">\n",
              "    Vehicle. NO.\n",
              "    <span style=\"font-size: 0.8em; font-weight: bold; line-height: 1; border-radius: 0.35em; vertical-align: middle; margin-left: 0.5rem\">ITEM FREIGHT</span>\n",
              "</mark>\n",
              " te ~~ \n",
              "<mark class=\"entity\" style=\"background: #ddd; padding: 0.45em 0.6em; margin: 0 0.25em; line-height: 1; border-radius: 0.35em;\">\n",
              "    RJ40GA0740\n",
              "    <span style=\"font-size: 0.8em; font-weight: bold; line-height: 1; border-radius: 0.35em; vertical-align: middle; margin-left: 0.5rem\">ITEM FREIGHT</span>\n",
              "</mark>\n",
              " PACKING &amp; FORWADING) | No. Of Cases = ©6106 Dispatch Through:- \n",
              "<mark class=\"entity\" style=\"background: #ddd; padding: 0.45em 0.6em; margin: 0 0.25em; line-height: 1; border-radius: 0.35em;\">\n",
              "    BY ROAD\n",
              "    <span style=\"font-size: 0.8em; font-weight: bold; line-height: 1; border-radius: 0.35em; vertical-align: middle; margin-left: 0.5rem\">ITEM FREIGHT</span>\n",
              "</mark>\n",
              " GST @ 18% \n",
              "<mark class=\"entity\" style=\"background: #ddd; padding: 0.45em 0.6em; margin: 0 0.25em; line-height: 1; border-radius: 0.35em;\">\n",
              "    52,880.52\n",
              "    <span style=\"font-size: 0.8em; font-weight: bold; line-height: 1; border-radius: 0.35em; vertical-align: middle; margin-left: 0.5rem\">IGST</span>\n",
              "</mark>\n",
              " | Total Weight (in Kgs) :- Transaction Type:- Regular : | | IRN NO :-6019ce607d47b23d9b37fcd61cbh7821af44 1 9ff5addae55b89855998789769a3 | Bill Amount Subjected to Reverse Charges (Y/N) NO | |  Tax Amount (In Words):- Rs.° Fifty-Two Thousand Eight Hundred Eighty And Fifty-Two Only | ROUND OFF 0.16 Bill Value (In Words) : - Rs.* Three Lakh Forty-Six Thousand Six Hundred Sixty-One Only NET AMOUNT \n",
              "<mark class=\"entity\" style=\"background: #ddd; padding: 0.45em 0.6em; margin: 0 0.25em; line-height: 1; border-radius: 0.35em;\">\n",
              "    3,46,661.00\n",
              "    <span style=\"font-size: 0.8em; font-weight: bold; line-height: 1; border-radius: 0.35em; vertical-align: middle; margin-left: 0.5rem\">GROSS AMOUNT</span>\n",
              "</mark>\n",
              " | | ' | Special Instruction : “For AEROSTAR HELMETS &amp; ACCESSORIES UL All disputes are subjected to Delhi Jurisdictions . ‘ Certified that the particular given above are true &amp; correct and the amount indicated represents the price actually charged and that there is no flow of any additional consideration directly or indirectly from the buyer. ised SignaUNDER SECTION 31 OF CGST ACT ,2017 AND RULE 46-TAX INVOICE — ORIGINAL FOR RE TAX INVOICE St] si oo CIPIENT oan</div></span>"
            ]
          },
          "metadata": {}
        }
      ]
    },
    {
      "cell_type": "markdown",
      "source": [
        "###**Testing Currently trained model(latest)**"
      ],
      "metadata": {
        "id": "mPi-4qgKEwgP"
      }
    },
    {
      "cell_type": "code",
      "source": [
        "import spacy_transformers\n",
        "\n",
        "blank_model = spacy.load(\"/content/output/model-best\") #load the best model\n",
        "doc = blank_model(\"HONDA Honda Motor India (A Unit of Honda Cars India Limited) PAN:AAACH1765Q CIN:U15114UP1995PLC099377 EMAIL:corporate@hondacarindia.com WEBSITE:www.hondacarindia.com Plot No. A-1, Sector 40/41, Surajpur-Kasna Road, Greater Noida Industrial Development Area, Distt. Gautam Buddha Nagar, Uttar Pradesh-201306 Seller Address:Survey Nos. 77, 78/1B, 78/3-5-6, 79/1-2 & 80, Raigad,Maharashtra,India-41020 Seller State Code 27 Seller GSTIN 27AAACH1765Q2Z3 Service: NO BUYER NAME & ADDRESS :- MH690001 SANTOSH AUTO AND PARTS PRIVATE LIMITED SANTOSH AUTO AND PARTS PVT LTD GST TAX INVOICE Page No. INVOICE TYPE: B2B INVOICE SUB TYPE: INVOICE Supply Type: Supply ORDER TYPE: Stock (MUM) GST INVOICE NO: MHSP/19/44817 IRN: 215fd4319667945cd0a08b566d2cbc8cd5befafe733c8 c3icc2497c922b0d4cf CONSIGNEE ADDRESS :- SANTOSH AUTO AND PARTS PRIVATE LIMITE SANTOSH AUTO AND PARTS PVT LTD 1of3 DATE & TIME OF ISS VERSION 1.01 14/09/2020 14:39:53 CARRIER NAME: MODE OF DISPATCH: BY ROAD / BY AIR /BY HAND /BY SEA SURVEY NO.15, PLOT NO 83/2, 84 SURVEY NO.15, PLOT NO 83/2, 84 GR. NO: NO. OF CASES: 12 JALGAON ROAD, SILLOD JALGAON ROAD, SILLOD GR. DATE: 14/09/2020 SILLOD Maharashtra INDIA 431112 SILLOD Maharashtra INDIA 431112 DELIVERY NO: 22516453 State Code/POS: 27 27 State Code/POS: 27 27 GSTIN: 27AAYCS8034R12Z3 PLACE OF SUPPLY: Maharashtra, MH WAYBILLNO: __ Unit Price Total Discount] Other | Taxable CGST SGST Total S.No. Order Number Part Number Description HSN Qty Rs Rs Amount |Charges} Amount Rate Amount | Rate] Amount Amount : : Rs. Rs. Rs. % Rs. % Rs. Rs. 1 -02-1920-00279 383740KTE601 REFLECTOR,FR.SIDEREF (94019000 10 20.92 209.20 0 0 209.20) 9 18.83) 9 18.83 246.86 2 +-02-1920-00279 53140KSPA70 GRIP COMP THROTTLE 491171090 10 36.76 367.60 0 0 367.60) 14 51.46] 14 51.46 470.52 3 -02-1920-00280 35200KSP920 SW ASSY WINKER 49111090 2 305.47 610.94 0 0 610.94, 9 54.98} 9 54.98 720.90 4 -02-1920-00281 23100KWPD0O1 BELT,DRIVE 87089900 7 297.30 2081.10 0 0 2081.10) 9 187.3| 9 187.3] 2455.70 5 -02-1920-00279 17681 KTE650 UBE,FUEL 40091100 20 23.46 469.20 0 0 469.20} 9 42.23| 9 42.23 553.66 6 -02-1920-00273 83840K14900 LID,L SIDE COVER 49111090 27.56 0 0 27.56 3.86| 14 3.86 35.28 7 -02-1920-00281 85121KWS900 KEY,BLANK 491171090 156.60 0 0 156.60 14.09| 9 14.09 184.78 8 -02-1920-00280 40520KSP860ZA |CASE,UNDHALFDRIVECHA 49111090 500.66 0 0 500.66 70.09} 14 70.09 640.84 9 -02-1920-00279 53100KTEA01 PIPE STEERING HANDLE 49111090 1289.65 0 0 1289.65) 180.55| 14 180.55) 1650.75 HO }02-1920-00281 IO5030KSP860 KIT,RACE STEERING 87089900 3877.80 0 0 3877.80 542.89] 14 542.89| 4963.58 11 +-02-1920-00279 18318K86D00 PROTECTOR,MUFFLER 87141090 110.44 0 0 110.44 15.46| 14 15.46 141.36 Page No. 2o0f3 GST INVOICE NO: =MHSP/19/44817 Unit Price Total Discount] Other | Taxable CGST SGST Total S.No. Order Number Part Number Description HSN Qty Rs Rs Amount |Charges} Amount Rate Amount | Rate] Amount Amount : : Rs. Rs. Rs. % Rs. % Rs. Rs. 12 +-02-1920-00279 45220KCC841 PINCOMP.,HANGER 49111090 20 15.03 300.60 0 0 300.60) 14 42.08) 14 42.08 384.76 13 -02-1920-00273 I83740K14900 LID,R SIDE COVER 49111090 2 13.78 27.56 0 0 27.56) 14 3.86] 14 3.86 35.28 14 -02- 1920-00280 563230KSP860ZB |BRIDGE,FORKTOP *NH17 (49111090 1 404.33 404.33 0 0 404.33) 14 56.61| 14 56.61 517.55 15 +-02-1920-00279 24701KSP900 PEDAL,GEARCHANGE 49111090 7 141.33 989.31 0 0 989.31) 14 138.5} 14 138.5} 1266.31 16 +-02-1920-00281 12209GB4682 SEAL,VLV,STEM 49111090 10 19.64 196.40 0 0 196.40) 9 17.68|} 9 17.68 231.76 17 }+02-1920-00280 51500KSP872 FORK ASSY,L FRONT [94019000 1 | 1489.30 1489.30 0 0 1489.30) 14 208.5| 14 208.5| 1906.30 18 }+02-1920-00279 (06451GE2405 SEAL,SET PISTON 49111090 20 23.46 469.20 0 0 469.20) 14 65.69| 14 65.69 600.58 19 1+02-1920-00280 45251KSP861 DISK,FR.BRAKE 49111090 2 | 1190.18 2380.36 0 0 2380.36, 14 333.25| 14 333.25 | 3046.86 20 +-02-1920-00281 16016KSP911 SCREW SETA 49111090 10 46.26 462.60 0 0 462.60) 14 64.76| 14 64.76 592.12 21 -02-1920-00279 51490KST305 SEALSET,FR.FORK 491171090 8 138.79 1110.32 0 0 1110.32) 14 155.44; 14 155.44} 1421.20 22 |+02-1920-00281 B5200KTE651 SW ASSY,WINKER [94019000 1 370.75 370.75 0 0 370.75} 9 33.37| 9 33.37 437.49 23  |+02-1920-00280 17530KSPDO00ZC {TANK SUB ASSY,FUEL*N — (87141090 1 | 5356.37 5356.37 0 0 5356.37, 14 749.89| 14 749.89 | 6856.15 24 +-02-1920-00281 51103KWP940 COVER, R PIVOT 491171090 5 23.46 117.30 0 0 117.30} 14 16.42| 14 16.42 150.14 25  |+02-1920-00280 35010KSP861 KEY SET [94019000 5 624.25 3121.25 0 0 3121.25} 9 280.91} 9 280.91 | 3683.07 26 -02- 1920-00280 24701KSP900 PEDAL,GEARCHANGE 491171090 6 141.33 847.98 0 0 847.98) 14 118.72} 14 118.72} 1085.42 27 +-02-1920-00279 77260KTE600ZE |COWL SET RRR“*TYPE 491171090 1 409.94 409.94 0 0 409.94) 14 57.39| 14 57.39 524.72 28 -02-1920-00280 61100KSP860ZM |FENDER,FRONT*NHAO4M* {85061000 1 557.97 557.97 0 0 557.97, 14 78.12| 14 78.12 714.21 29 |02-1920-00280 40510KSP860ZA |CASE,UPPHALFDRIVECHA (49111090 2 250.33 500.66 0 0 500.66, 14 70.09} 14 70.09 640.84 30 -02-1920-00279 5O05380KTE910 BARCOMP.,SIDESTAND 491171090 10 71.62 716.20 0 0 716.20) 14 100.27; 14 100.27 916.74 1 -02-1920-00281 83120KTED11 UNIT,HEAD LIGHT [94019000 3 454.40 1363.20 0 0 1363.20) 9 122.69} 9 122.69| 1608.58 B2  |+02-1920-00280 51400KSP872 FORK ASSY,R FRONT 94019000 1 | 1489.30 1489.30 0 0 1489.30) 14 208.5| 14 208.5] 1906.30 B3 |+02-1920-00280 61100KSP860ZG |FENDER,FR. NHBO5P 49111090 1 568.09 568.09 0 0 568.09} 14 79.53} 14 79.53 727.15 B4  |+02-1920-00279 45132KCC841 BOOT,PINBUSH 49111090 30 9.51 285.30 0 0 285.30} 14 39.94] 14 39.94 365.18 B35 +-02-1920-00279 33110KTE741 UNIT HEAD LIGHT 491171090 3 442.36 1327.08 0 0 1327.08} 9 119.44; 9 119.44} 1565.96 B6  |+02-1920-00278 32100KSP860 HARNESS, WIRE 49111090 1 731.34 731.34 0 0 731.34, 9 65.82} 9 65.82 862.98 B37 +-02-1920-00279 77270KTE600ZE |COWL SET L RR *TYPE 491171090 1 410.67 410.67 0 0 410.67, 14 57.49| 14 57.49 525.65 B8 +-02-1920-00281 90306KTE91 1 NUT,FLANGE SPL 12MM 49111090 10 29.15 291.50 0 0 291.501 9 26.24| 9 26.24 343.98 B89  |+02-1920-00281 45132166016 BUSH, PIN 49111090 10 13.32 133.20 0 0 133.20) 14 18.65) 14 18.65 170.50 40  +02-1920-00281 383120KTEDO1 UNIT,HEAD LIGHT [94019000 3 454.40 1363.20 0 0 1363.20) 9 122.69} 9 122.69| 1608.58 261 37492.03 37492.03 4634.28 4634.28 | 46760.59 Four Thousand Six Hundred Thirt CGST Four Only y VALUE OF GOODS 37492.03 CGST 4634.28 SGST pour ony Six Hundred Thirty TOTAL AMOUNT (In Words): SGST 4634.28 PAID AMOUNT: 0 Forty Six Thousand Seven Hundred Sixty TCs: 0 One Only Page No. GST INVOICE NO: =.MHSP/19/44817 BATCH NAME: AMOUNT DUE FOR PAYMENT: 46761 TOTAL (ROUND-OFF) Certified that the particulars given above are true and correct and the amount indicated represents the price actually charged and that there is no flow of additionalconsideration directly or indirectly from the buyer. MATERIAL HYPOTHECATED BY :- State Bank of India 1. SUBJECT TO DELHI JURISDICTION ONLY. 2. CONSIGNMENT INSURED AGANIST TRANSIT POLICY NO.: 2423/60755031/00/000 3 of 3 46761\") # input sample text\n",
        "#display results\n",
        "spacy.displacy.render(doc, style=\"ent\", jupyter=True)"
      ],
      "metadata": {
        "id": "Q2YQXfD5cNnJ",
        "colab": {
          "base_uri": "https://localhost:8080/",
          "height": 1000
        },
        "outputId": "a065312f-c85c-41aa-cd87-c1183d323a07"
      },
      "execution_count": null,
      "outputs": [
        {
          "output_type": "display_data",
          "data": {
            "text/plain": [
              "<IPython.core.display.HTML object>"
            ],
            "text/html": [
              "<span class=\"tex2jax_ignore\"><div class=\"entities\" style=\"line-height: 2.5; direction: ltr\">\n",
              "<mark class=\"entity\" style=\"background: #ddd; padding: 0.45em 0.6em; margin: 0 0.25em; line-height: 1; border-radius: 0.35em;\">\n",
              "    HONDA Honda Motor India (A Unit of Honda Cars India Limited)\n",
              "    <span style=\"font-size: 0.8em; font-weight: bold; line-height: 1; border-radius: 0.35em; vertical-align: middle; margin-left: 0.5rem\">SELLER ADDRESS</span>\n",
              "</mark>\n",
              " PAN:AAACH1765Q CIN:U15114UP1995PLC099377 EMAIL:corporate@hondacarindia.com WEBSITE:www.hondacarindia.com \n",
              "<mark class=\"entity\" style=\"background: #ddd; padding: 0.45em 0.6em; margin: 0 0.25em; line-height: 1; border-radius: 0.35em;\">\n",
              "    Plot No. A-1, Sector 40/41, Surajpur-Kasna Road, Greater Noida Industrial Development Area, Distt. Gautam Buddha Nagar, Uttar Pradesh-201306\n",
              "    <span style=\"font-size: 0.8em; font-weight: bold; line-height: 1; border-radius: 0.35em; vertical-align: middle; margin-left: 0.5rem\">SELLER ADDRESS</span>\n",
              "</mark>\n",
              " Seller Address:\n",
              "<mark class=\"entity\" style=\"background: #ddd; padding: 0.45em 0.6em; margin: 0 0.25em; line-height: 1; border-radius: 0.35em;\">\n",
              "    Survey Nos. 77, 78/1B, 78/3-5-6, 79/1-2 &amp; 80, Raigad,Maharashtra,India-41020\n",
              "    <span style=\"font-size: 0.8em; font-weight: bold; line-height: 1; border-radius: 0.35em; vertical-align: middle; margin-left: 0.5rem\">SELLER ADDRESS</span>\n",
              "</mark>\n",
              " Seller State Code 27 Seller GSTIN \n",
              "<mark class=\"entity\" style=\"background: #ddd; padding: 0.45em 0.6em; margin: 0 0.25em; line-height: 1; border-radius: 0.35em;\">\n",
              "    27AAACH1765Q2Z3\n",
              "    <span style=\"font-size: 0.8em; font-weight: bold; line-height: 1; border-radius: 0.35em; vertical-align: middle; margin-left: 0.5rem\">BUYER GSTIN</span>\n",
              "</mark>\n",
              " Service: NO BUYER NAME &amp; ADDRESS :- \n",
              "<mark class=\"entity\" style=\"background: #ddd; padding: 0.45em 0.6em; margin: 0 0.25em; line-height: 1; border-radius: 0.35em;\">\n",
              "    MH690001\n",
              "    <span style=\"font-size: 0.8em; font-weight: bold; line-height: 1; border-radius: 0.35em; vertical-align: middle; margin-left: 0.5rem\">SELLER PAN</span>\n",
              "</mark>\n",
              " SANTOSH AUTO AND PARTS PRIVATE LIMITED SANTOSH AUTO AND PARTS PVT LTD GST TAX INVOICE Page No. INVOICE TYPE: B2B INVOICE SUB TYPE: INVOICE Supply Type: Supply ORDER TYPE: Stock (MUM) GST INVOICE NO: \n",
              "<mark class=\"entity\" style=\"background: #ddd; padding: 0.45em 0.6em; margin: 0 0.25em; line-height: 1; border-radius: 0.35em;\">\n",
              "    MHSP/19/44817 IRN:\n",
              "    <span style=\"font-size: 0.8em; font-weight: bold; line-height: 1; border-radius: 0.35em; vertical-align: middle; margin-left: 0.5rem\">INVOICE NUMBER</span>\n",
              "</mark>\n",
              " \n",
              "<mark class=\"entity\" style=\"background: #ddd; padding: 0.45em 0.6em; margin: 0 0.25em; line-height: 1; border-radius: 0.35em;\">\n",
              "    215fd4319667945cd0a08b566d2cbc8cd5befafe733c8 c3icc2497c922b0d4cf CONSIGNEE\n",
              "    <span style=\"font-size: 0.8em; font-weight: bold; line-height: 1; border-radius: 0.35em; vertical-align: middle; margin-left: 0.5rem\">IRN</span>\n",
              "</mark>\n",
              " ADDRESS :- SANTOSH AUTO AND PARTS PRIVATE LIMITE SANTOSH AUTO AND PARTS PVT LTD 1of3 DATE &amp; TIME OF ISS VERSION 1.01 14/09/2020 14:39:53 CARRIER NAME: MODE OF DISPATCH: \n",
              "<mark class=\"entity\" style=\"background: #ddd; padding: 0.45em 0.6em; margin: 0 0.25em; line-height: 1; border-radius: 0.35em;\">\n",
              "    BY ROAD / BY AIR /BY HAND /BY SEA\n",
              "    <span style=\"font-size: 0.8em; font-weight: bold; line-height: 1; border-radius: 0.35em; vertical-align: middle; margin-left: 0.5rem\">ITEM FREIGHT</span>\n",
              "</mark>\n",
              " \n",
              "<mark class=\"entity\" style=\"background: #ddd; padding: 0.45em 0.6em; margin: 0 0.25em; line-height: 1; border-radius: 0.35em;\">\n",
              "    SURVEY NO.15, PLOT NO 83/2, 84\n",
              "    <span style=\"font-size: 0.8em; font-weight: bold; line-height: 1; border-radius: 0.35em; vertical-align: middle; margin-left: 0.5rem\">BUYER ADDRESS</span>\n",
              "</mark>\n",
              " SURVEY NO.15, PLOT NO 83/2, 84 GR. NO: NO. OF CASES: 12 JALGAON ROAD, SILLOD JALGAON ROAD, SILLOD GR. DATE: 14/09/2020 SILLOD Maharashtra INDIA 431112 SILLOD Maharashtra INDIA 431112 DELIVERY NO: 22516453 State Code/POS: 27 27 State Code/POS: 27 27 GSTIN: \n",
              "<mark class=\"entity\" style=\"background: #ddd; padding: 0.45em 0.6em; margin: 0 0.25em; line-height: 1; border-radius: 0.35em;\">\n",
              "    27AAYCS8034R12Z3\n",
              "    <span style=\"font-size: 0.8em; font-weight: bold; line-height: 1; border-radius: 0.35em; vertical-align: middle; margin-left: 0.5rem\">BUYER GSTIN</span>\n",
              "</mark>\n",
              " PLACE OF SUPPLY: Maharashtra, MH WAYBILLNO: __ Unit Price Total Discount] Other | Taxable CGST SGST Total S.No. Order Number Part Number Description HSN Qty Rs Rs Amount |Charges} Amount Rate Amount | Rate] Amount Amount : : Rs. Rs. Rs. % Rs. % Rs. Rs. 1 -02-1920-00279 383740KTE601 REFLECTOR,FR.SIDEREF (94019000 10 20.92 209.20 0 0 209.20) 9 18.83) 9 18.83 246.86 2 +-02-1920-00279 53140KSPA70 GRIP COMP THROTTLE 491171090 10 36.76 367.60 0 0 367.60) 14 51.46] 14 51.46 470.52 3 -02-1920-00280 35200KSP920 SW ASSY WINKER 49111090 2 305.47 610.94 0 0 610.94, 9 54.98} 9 54.98 720.90 4 -02-1920-00281 23100KWPD0O1 BELT,DRIVE 87089900 7 297.30 2081.10 0 0 2081.10) 9 187.3| 9 187.3] 2455.70 5 -02-1920-00279 17681 KTE650 UBE,FUEL 40091100 20 23.46 469.20 0 0 469.20} 9 42.23| 9 42.23 553.66 6 -02-1920-00273 83840K14900 LID,L SIDE COVER 49111090 27.56 0 0 27.56 3.86| 14 3.86 35.28 7 -02-1920-00281 85121KWS900 KEY,BLANK 491171090 156.60 0 0 156.60 14.09| 9 14.09 184.78 8 -02-1920-00280 40520KSP860ZA |CASE,UNDHALFDRIVECHA 49111090 500.66 0 0 500.66 70.09} 14 70.09 640.84 9 -02-1920-00279 53100KTEA01 PIPE STEERING HANDLE 49111090 1289.65 0 0 1289.65) 180.55| 14 180.55) 1650.75 HO }02-1920-00281 IO5030KSP860 KIT,RACE STEERING 87089900 3877.80 0 0 3877.80 542.89] 14 542.89| 4963.58 11 +-02-1920-00279 18318K86D00 PROTECTOR,MUFFLER 87141090 110.44 0 0 110.44 15.46| 14 15.46 141.36 Page No. 2o0f3 GST INVOICE NO: =MHSP/19/44817 Unit Price Total Discount] Other | Taxable CGST SGST Total S.No. Order Number Part Number Description HSN Qty Rs Rs Amount |Charges} Amount Rate Amount | Rate] Amount Amount : : Rs. Rs. Rs. % Rs. % Rs. Rs. 12 +-02-1920-00279 45220KCC841 PINCOMP.,HANGER 49111090 20 15.03 300.60 0 0 300.60) 14 42.08) 14 42.08 384.76 13 -02-1920-00273 I83740K14900 LID,R SIDE COVER 49111090 2 13.78 27.56 0 0 27.56) 14 3.86] 14 3.86 35.28 14 -02- 1920-00280 563230KSP860ZB |BRIDGE,FORKTOP *NH17 (49111090 1 404.33 404.33 0 0 404.33) 14 56.61| 14 56.61 517.55 15 +-02-1920-00279 24701KSP900 PEDAL,GEARCHANGE 49111090 7 141.33 989.31 0 0 989.31) 14 138.5} 14 138.5} 1266.31 16 +-02-1920-00281 12209GB4682 SEAL,VLV,STEM 49111090 10 19.64 196.40 0 0 196.40) 9 17.68|} 9 17.68 231.76 17 }+02-1920-00280 51500KSP872 FORK ASSY,L FRONT [94019000 1 | 1489.30 1489.30 0 0 1489.30) 14 208.5| 14 208.5| 1906.30 18 }+02-1920-00279 (06451GE2405 SEAL,SET PISTON 49111090 20 23.46 469.20 0 0 469.20) 14 65.69| 14 65.69 600.58 19 1+02-1920-00280 45251KSP861 DISK,FR.BRAKE 49111090 2 | 1190.18 2380.36 0 0 2380.36, 14 333.25| 14 333.25 | 3046.86 20 +-02-1920-00281 16016KSP911 SCREW SETA 49111090 10 46.26 462.60 0 0 462.60) 14 64.76| 14 64.76 592.12 21 -02-1920-00279 51490KST305 SEALSET,FR.FORK 491171090 8 138.79 1110.32 0 0 1110.32) 14 155.44; 14 155.44} 1421.20 22 |+02-1920-00281 B5200KTE651 SW ASSY,WINKER [94019000 1 370.75 370.75 0 0 370.75} 9 33.37| 9 33.37 437.49 23  |+02-1920-00280 17530KSPDO00ZC {TANK SUB ASSY,FUEL*N — (87141090 1 | 5356.37 5356.37 0 0 5356.37, 14 749.89| 14 749.89 | 6856.15 24 +-02-1920-00281 51103KWP940 COVER, R PIVOT 491171090 5 23.46 117.30 0 0 117.30} 14 16.42| 14 16.42 150.14 25  |+02-1920-00280 35010KSP861 KEY SET [94019000 5 624.25 3121.25 0 0 3121.25} 9 280.91} 9 280.91 | 3683.07 26 -02- 1920-00280 24701KSP900 PEDAL,GEARCHANGE 491171090 6 141.33 847.98 0 0 847.98) 14 118.72} 14 118.72} 1085.42 27 +-02-1920-00279 77260KTE600ZE |COWL SET RRR“*TYPE 491171090 1 409.94 409.94 0 0 409.94) 14 57.39| 14 57.39 524.72 28 -02-1920-00280 61100KSP860ZM |FENDER,FRONT*NHAO4M* {85061000 1 557.97 557.97 0 0 557.97, 14 78.12| 14 78.12 714.21 29 |02-1920-00280 40510KSP860ZA |CASE,UPPHALFDRIVECHA (49111090 2 250.33 500.66 0 0 500.66, 14 70.09} 14 70.09 640.84 30 -02-1920-00279 5O05380KTE910 BARCOMP.,SIDESTAND 491171090 10 71.62 716.20 0 0 716.20) 14 100.27; 14 100.27 916.74 1 -02-1920-00281 83120KTED11 UNIT,HEAD LIGHT [94019000 3 454.40 1363.20 0 0 1363.20) 9 122.69} 9 122.69| 1608.58 B2  |+02-1920-00280 51400KSP872 FORK ASSY,R FRONT 94019000 1 | 1489.30 1489.30 0 0 1489.30) 14 208.5| 14 208.5] 1906.30 B3 |+02-1920-00280 61100KSP860ZG |FENDER,FR. NHBO5P 49111090 1 568.09 568.09 0 0 568.09} 14 79.53} 14 79.53 727.15 B4  |+02-1920-00279 45132KCC841 BOOT,PINBUSH 49111090 30 9.51 285.30 0 0 285.30} 14 39.94] 14 39.94 365.18 B35 +-02-1920-00279 33110KTE741 UNIT HEAD LIGHT 491171090 3 442.36 1327.08 0 0 1327.08} 9 119.44; 9 119.44} 1565.96 B6  |+02-1920-00278 32100KSP860 HARNESS, WIRE 49111090 1 731.34 731.34 0 0 731.34, 9 65.82} 9 65.82 862.98 B37 +-02-1920-00279 77270KTE600ZE |COWL SET L RR *TYPE 491171090 1 410.67 410.67 0 0 410.67, 14 57.49| 14 57.49 525.65 B8 +-02-1920-00281 90306KTE91 1 NUT,FLANGE SPL 12MM 49111090 10 29.15 291.50 0 0 291.501 9 26.24| 9 26.24 343.98 B89  |+02-1920-00281 45132166016 BUSH, PIN 49111090 10 13.32 133.20 0 0 133.20) 14 18.65) 14 18.65 170.50 40  +02-1920-00281 383120KTEDO1 UNIT,HEAD LIGHT [94019000 3 454.40 1363.20 0 0 1363.20) 9 122.69} 9 122.69| 1608.58 261 37492.03 37492.03 4634.28 4634.28 | 46760.59 Four Thousand Six Hundred Thirt CGST Four Only y VALUE OF GOODS \n",
              "<mark class=\"entity\" style=\"background: #ddd; padding: 0.45em 0.6em; margin: 0 0.25em; line-height: 1; border-radius: 0.35em;\">\n",
              "    37492.03\n",
              "    <span style=\"font-size: 0.8em; font-weight: bold; line-height: 1; border-radius: 0.35em; vertical-align: middle; margin-left: 0.5rem\">NET AMOUNT</span>\n",
              "</mark>\n",
              " CGST \n",
              "<mark class=\"entity\" style=\"background: #ddd; padding: 0.45em 0.6em; margin: 0 0.25em; line-height: 1; border-radius: 0.35em;\">\n",
              "    4634.28\n",
              "    <span style=\"font-size: 0.8em; font-weight: bold; line-height: 1; border-radius: 0.35em; vertical-align: middle; margin-left: 0.5rem\">CGST</span>\n",
              "</mark>\n",
              " SGST pour ony Six Hundred Thirty TOTAL AMOUNT (In Words): SGST \n",
              "<mark class=\"entity\" style=\"background: #ddd; padding: 0.45em 0.6em; margin: 0 0.25em; line-height: 1; border-radius: 0.35em;\">\n",
              "    4634.28\n",
              "    <span style=\"font-size: 0.8em; font-weight: bold; line-height: 1; border-radius: 0.35em; vertical-align: middle; margin-left: 0.5rem\">SGST</span>\n",
              "</mark>\n",
              " PAID AMOUNT: 0 Forty Six Thousand Seven Hundred Sixty TCs: 0 One Only Page No. GST INVOICE NO: =.MHSP/19/44817 BATCH NAME: AMOUNT DUE FOR PAYMENT: \n",
              "<mark class=\"entity\" style=\"background: #ddd; padding: 0.45em 0.6em; margin: 0 0.25em; line-height: 1; border-radius: 0.35em;\">\n",
              "    46761\n",
              "    <span style=\"font-size: 0.8em; font-weight: bold; line-height: 1; border-radius: 0.35em; vertical-align: middle; margin-left: 0.5rem\">GROSS AMOUNT</span>\n",
              "</mark>\n",
              " TOTAL (ROUND-OFF) Certified that the particulars given above are true and correct and the amount indicated represents the price actually charged and that there is no flow of additionalconsideration directly or indirectly from the buyer. MATERIAL HYPOTHECATED BY :- State Bank of India 1. SUBJECT TO DELHI JURISDICTION ONLY. 2. CONSIGNMENT INSURED AGANIST TRANSIT POLICY NO.: 2423/60755031/00/000 3 of 3 46761</div></span>"
            ]
          },
          "metadata": {}
        }
      ]
    },
    {
      "cell_type": "code",
      "source": [
        "doc = blank_model(\"AEROSTAR HELMETS & ACCESSORIES\")\n",
        "print(\"Entities\", [(ent.text, ent.label_) for ent in doc.ents])"
      ],
      "metadata": {
        "id": "862ydOMrelqZ",
        "colab": {
          "base_uri": "https://localhost:8080/"
        },
        "outputId": "57b420b5-1674-421b-f944-c45297c4fb2b"
      },
      "execution_count": null,
      "outputs": [
        {
          "output_type": "stream",
          "name": "stdout",
          "text": [
            "Entities [('AEROSTAR HELMETS & ACCESSORIES', 'SELLER ADDRESS')]\n"
          ]
        }
      ]
    },
    {
      "cell_type": "code",
      "source": [
        "!zip -r output.zip output/ #archiving the output directory and its sub directories. which can be later used without retraining the model."
      ],
      "metadata": {
        "colab": {
          "base_uri": "https://localhost:8080/"
        },
        "id": "gj-PmRzyquih",
        "outputId": "37192571-5ffb-494f-b03f-d0b2f552286d"
      },
      "execution_count": null,
      "outputs": [
        {
          "output_type": "stream",
          "name": "stdout",
          "text": [
            "  adding: output/ (stored 0%)\n",
            "  adding: output/model-last/ (stored 0%)\n",
            "  adding: output/model-last/vocab/ (stored 0%)\n",
            "  adding: output/model-last/vocab/vectors (deflated 45%)\n",
            "  adding: output/model-last/vocab/lookups.bin (stored 0%)\n",
            "  adding: output/model-last/vocab/vectors.cfg (stored 0%)\n",
            "  adding: output/model-last/vocab/strings.json (deflated 70%)\n",
            "  adding: output/model-last/vocab/key2row (stored 0%)\n",
            "  adding: output/model-last/transformer/ (stored 0%)\n",
            "  adding: output/model-last/transformer/cfg (stored 0%)\n",
            "  adding: output/model-last/transformer/model (deflated 15%)\n",
            "  adding: output/model-last/ner/ (stored 0%)\n",
            "  adding: output/model-last/ner/cfg (deflated 33%)\n",
            "  adding: output/model-last/ner/model (deflated 8%)\n",
            "  adding: output/model-last/ner/moves (deflated 84%)\n",
            "  adding: output/model-last/meta.json (deflated 83%)\n",
            "  adding: output/model-last/config.cfg (deflated 61%)\n",
            "  adding: output/model-last/tokenizer (deflated 81%)\n",
            "  adding: output/model-best/ (stored 0%)\n",
            "  adding: output/model-best/vocab/ (stored 0%)\n",
            "  adding: output/model-best/vocab/vectors (deflated 45%)\n",
            "  adding: output/model-best/vocab/lookups.bin (stored 0%)\n",
            "  adding: output/model-best/vocab/vectors.cfg (stored 0%)\n",
            "  adding: output/model-best/vocab/strings.json (deflated 70%)\n",
            "  adding: output/model-best/vocab/key2row (stored 0%)\n",
            "  adding: output/model-best/transformer/ (stored 0%)\n",
            "  adding: output/model-best/transformer/cfg (stored 0%)\n",
            "  adding: output/model-best/transformer/model (deflated 15%)\n",
            "  adding: output/model-best/ner/ (stored 0%)\n",
            "  adding: output/model-best/ner/cfg (deflated 33%)\n",
            "  adding: output/model-best/ner/model (deflated 8%)\n",
            "  adding: output/model-best/ner/moves (deflated 84%)\n",
            "  adding: output/model-best/meta.json (deflated 83%)\n",
            "  adding: output/model-best/config.cfg (deflated 61%)\n",
            "  adding: output/model-best/tokenizer (deflated 81%)\n"
          ]
        }
      ]
    },
    {
      "cell_type": "code",
      "source": [
        "!unzip oooutput.zip"
      ],
      "metadata": {
        "id": "T09OmvUB77ea",
        "colab": {
          "base_uri": "https://localhost:8080/"
        },
        "outputId": "f967010c-a22a-4bcf-e2ad-c81ceb1bc911"
      },
      "execution_count": null,
      "outputs": [
        {
          "output_type": "stream",
          "name": "stdout",
          "text": [
            "Archive:  oooutput.zip\n",
            "  inflating: model-best-1/config.cfg  \n",
            "  inflating: model-best-1/meta.json  \n",
            "   creating: model-best-1/ner/\n",
            "  inflating: model-best-1/ner/cfg    \n",
            "  inflating: model-best-1/ner/model  \n",
            "  inflating: model-best-1/ner/moves  \n",
            "   creating: model-best-1/tok2vec/\n",
            " extracting: model-best-1/tok2vec/cfg  \n",
            "  inflating: model-best-1/tok2vec/model  \n",
            "  inflating: model-best-1/tokenizer  \n",
            "   creating: model-best-1/vocab/\n",
            " extracting: model-best-1/vocab/key2row  \n",
            " extracting: model-best-1/vocab/lookups.bin  \n",
            "  inflating: model-best-1/vocab/strings.json  \n",
            "  inflating: model-best-1/vocab/vectors  \n",
            " extracting: model-best-1/vocab/vectors.cfg  \n",
            "  inflating: model-last-1/config.cfg  \n",
            "  inflating: model-last-1/meta.json  \n",
            "   creating: model-last-1/ner/\n",
            "  inflating: model-last-1/ner/cfg    \n",
            "  inflating: model-last-1/ner/model  \n",
            "  inflating: model-last-1/ner/moves  \n",
            "   creating: model-last-1/tok2vec/\n",
            " extracting: model-last-1/tok2vec/cfg  \n",
            "  inflating: model-last-1/tok2vec/model  \n",
            "  inflating: model-last-1/tokenizer  \n",
            "   creating: model-last-1/vocab/\n",
            " extracting: model-last-1/vocab/key2row  \n",
            " extracting: model-last-1/vocab/lookups.bin  \n",
            "  inflating: model-last-1/vocab/strings.json  \n",
            "  inflating: model-last-1/vocab/vectors  \n",
            " extracting: model-last-1/vocab/vectors.cfg  \n"
          ]
        }
      ]
    },
    {
      "cell_type": "markdown",
      "source": [],
      "metadata": {
        "id": "Bha123qGHewO"
      }
    },
    {
      "cell_type": "markdown",
      "source": [
        "### **Testing Previously Trained model by ex-emp**"
      ],
      "metadata": {
        "id": "cP-SvN5SHgmX"
      }
    },
    {
      "cell_type": "code",
      "source": [
        "import spacy\n",
        "blank_model = spacy.load(\"/content/model-best-1\") #load the best model\n",
        "doc = blank_model(\"AEROSTAR HELMETS & ACCESSORIES UNIT-1 Details of Receiver (Billed To) Details of Consignee (Shiped To) : HONDA MOTOR INDIA(A Unit of Honda Cars India Ltd) HONDA MOTOR INDIA(A Unit of Honda Cars India Ltd)Plot No. SPL-1D, Tapukara Industrial Area, Kushkhera,Alwar Plot No. SPL-1D, Tapukara Industrial Area, Kushkhera,Alwar x ‘Works-Plot No. A460, RIICO Ind.Area Chopanki, Bhiwadi, Kushkhera,Alwar \\— Kushkhera,Alwar  Rajasthan,Pin Code 301019 eS ri City: Tapukara PIN Code : 301707 Cont:- 7023333204 City: Tapukara PIN Code : 301707 Cont:- 7023333204 «, HS) PIN Code: 307019 STATE : RAJASTHAN State Code : 08 State Name: RAJASTHAN | State Code: 08 State Name: RAJASTHAN % GSTIN : O8ABEFA5297L 1ZY PAN : ABEFA5297L GSTIN : O8AAACH1765Q2Z3 PAN _LAAACH1765Q GSTIN: O08AAACH1765Q223 PAN; AAACH1765Q INVOICE NO, :- _21-22/4PD/003418 |INVOICE DATE :- 31-JAN-2022 |” a | CustPoNo, :- 910503 ./* ORDER DATE. = 31-JAN-2022 Dispatch No i= 21-22/10004/3407 Issue Date & Time :- 31-JAN-22 ai BUYER’S ORDER NO. :- SO22/4/286 Vendor Code :- : Place of Delivery :- RAJASTHAN Sr.| ITEMCODE | HSN | pescrIPTION | ety luom! MRP RATE | Disc.| TAXABLE IGST CGST | SGST | TOTAL GST No. | | SAC | (%) | AMT, % AMT | %; AMT | % AMT | HELMET HONDA . 1 SPHFXHEL103BB 65061090 HELMET HALF FACE (XL-BASIC 504 NOs 436.20 436.20 0 2,19,844.80 90.00 0.00 9.00 19,786.03 9.00 19,786.03 39,572.06 Gu “LD A BLACK) : a ; | — | Group Wise Total : 504 219844.80 0 19786.03 19786.03 39572.06  HELMETS 7 yp 2 SPFFLHEL110BB 65061090 HELMET-FF LARGE(BASIC BLACK) _ 132 - ; ~560.12...0 73,935.84 0.00 (0.00 9.00 6,654.23 9.00 6,654.23 13,308.46  | “A2+ 60 Group Wise Total : 132, vo Eke 22 273985.84 * 0 6654.23 6654.23 13308.46 ; — : 7 - “Ly ~ ee — —— — ( GATE G dw “Ror lo} Se ENTRY NO.8Y Fe pr 3/7 O[-2002 row) anewase erat nee nen oto e . ZY) AN 1072 —[o vei ed Tamed? 1 2-19 ZS ‘D SIAN TE Yo | SAQ MACHER No, : RW a i=) \\ ceneoss TOTAL: ! ne 293780.64 0 26440.26 26440.26 52880.52 GATE ENTRY NO Pa ves erate ; RRGR NO TIME _..SAEE DADO RGR Date m 31-JAN:22...., BASIC AMOUNT 2,93,780.64 Eway Bill No. SEGURE “Way Bill Date :- 2022-01-31 11:18:00 ee FREIGHT  INSURANCE Transporter’s Name :- SAFETRANS LOGISTIC Vehicle. NO. te ~~ RJ40GA0740 PACKING & FORWADING) | No. Of Cases = ©6106 Dispatch Through:- BY ROAD GST @ 18% 52,880.52 | Total Weight (in Kgs) :- Transaction Type:- Regular : | | IRN NO :-6019ce607d47b23d9b37fcd61cbh7821af44 1 9ff5addae55b89855998789769a3 | Bill Amount Subjected to Reverse Charges (Y/N) NO | |  Tax Amount (In Words):- Rs.° Fifty-Two Thousand Eight Hundred Eighty And Fifty-Two Only | ROUND OFF 0.16 Bill Value (In Words) : - Rs.* Three Lakh Forty-Six Thousand Six Hundred Sixty-One Only NET AMOUNT 3,46,661.00 | | ' | Special Instruction : “For AEROSTAR HELMETS & ACCESSORIES UL All disputes are subjected to Delhi Jurisdictions . ‘ Certified that the particular given above are true & correct and the amount indicated represents the price actually charged and that there is no flow of any additional consideration directly or indirectly from the buyer. ised SignaUNDER SECTION 31 OF CGST ACT ,2017 AND RULE 46-TAX INVOICE — ORIGINAL FOR RE TAX INVOICE St] si oo CIPIENT oan\") # input sample text\n",
        "#display results\n",
        "spacy.displacy.render(doc, style=\"ent\", jupyter=True)"
      ],
      "metadata": {
        "colab": {
          "base_uri": "https://localhost:8080/",
          "height": 822
        },
        "id": "fntU1c1cFYHD",
        "outputId": "91cc48c1-a82d-46b5-c1bf-2b2538c70453"
      },
      "execution_count": null,
      "outputs": [
        {
          "output_type": "display_data",
          "data": {
            "text/plain": [
              "<IPython.core.display.HTML object>"
            ],
            "text/html": [
              "<span class=\"tex2jax_ignore\"><div class=\"entities\" style=\"line-height: 2.5; direction: ltr\">AEROSTAR HELMETS &amp; ACCESSORIES UNIT-1 Details of Receiver (Billed To) Details of Consignee (Shiped To) : \n",
              "<mark class=\"entity\" style=\"background: #ddd; padding: 0.45em 0.6em; margin: 0 0.25em; line-height: 1; border-radius: 0.35em;\">\n",
              "    HONDA MOTOR INDIA(A Unit of Honda Cars India Ltd) HONDA MOTOR INDIA(A Unit of Honda Cars India Ltd)Plot No. SPL-1D, Tapukara Industrial Area, Kushkhera,Alwar Plot No. SPL-1D, Tapukara Industrial Area, Kushkhera,Alwar x ‘Works-Plot No. A460, RIICO Ind.Area Chopanki, Bhiwadi, Kushkhera,Alwar \\— Kushkhera,Alwar  Rajasthan,Pin Code 301019 eS ri City: Tapukara PIN Code : 301707 Cont:- 7023333204 City: Tapukara PIN Code : 301707 Cont:- 7023333204 «, HS) PIN Code: 307019 STATE : RAJASTHAN State Code : 08 State Name: RAJASTHAN | State Code: 08 State Name: RAJASTHAN % GSTIN : O8ABEFA5297L 1ZY\n",
              "    <span style=\"font-size: 0.8em; font-weight: bold; line-height: 1; border-radius: 0.35em; vertical-align: middle; margin-left: 0.5rem\">RECEPIENT DETAILS (BILLED TO)</span>\n",
              "</mark>\n",
              " PAN : \n",
              "<mark class=\"entity\" style=\"background: #ddd; padding: 0.45em 0.6em; margin: 0 0.25em; line-height: 1; border-radius: 0.35em;\">\n",
              "    ABEFA5297L\n",
              "    <span style=\"font-size: 0.8em; font-weight: bold; line-height: 1; border-radius: 0.35em; vertical-align: middle; margin-left: 0.5rem\">PAN</span>\n",
              "</mark>\n",
              " GSTIN : O8AAACH1765Q2Z3 PAN _LAAACH1765Q GSTIN: O08AAACH1765Q223 PAN; AAACH1765Q INVOICE NO, :- _21-22/4PD/003418 |INVOICE DATE :- \n",
              "<mark class=\"entity\" style=\"background: #ddd; padding: 0.45em 0.6em; margin: 0 0.25em; line-height: 1; border-radius: 0.35em;\">\n",
              "    31-JAN-2022\n",
              "    <span style=\"font-size: 0.8em; font-weight: bold; line-height: 1; border-radius: 0.35em; vertical-align: middle; margin-left: 0.5rem\">INVOICE DATE</span>\n",
              "</mark>\n",
              " |” a | CustPoNo, :\n",
              "<mark class=\"entity\" style=\"background: #ddd; padding: 0.45em 0.6em; margin: 0 0.25em; line-height: 1; border-radius: 0.35em;\">\n",
              "    -\n",
              "    <span style=\"font-size: 0.8em; font-weight: bold; line-height: 1; border-radius: 0.35em; vertical-align: middle; margin-left: 0.5rem\">UNLOADING POINT</span>\n",
              "</mark>\n",
              " 910503 ./* ORDER DATE. = \n",
              "<mark class=\"entity\" style=\"background: #ddd; padding: 0.45em 0.6em; margin: 0 0.25em; line-height: 1; border-radius: 0.35em;\">\n",
              "    31-JAN-2022\n",
              "    <span style=\"font-size: 0.8em; font-weight: bold; line-height: 1; border-radius: 0.35em; vertical-align: middle; margin-left: 0.5rem\">INVOICE DATE</span>\n",
              "</mark>\n",
              " Dispatch No i= 21-22/10004/3407 Issue Date &amp; Time :- \n",
              "<mark class=\"entity\" style=\"background: #ddd; padding: 0.45em 0.6em; margin: 0 0.25em; line-height: 1; border-radius: 0.35em;\">\n",
              "    31-JAN-22\n",
              "    <span style=\"font-size: 0.8em; font-weight: bold; line-height: 1; border-radius: 0.35em; vertical-align: middle; margin-left: 0.5rem\">INVOICE DATE</span>\n",
              "</mark>\n",
              " ai BUYER’S ORDER NO. :- SO22/4/286 Vendor Code :- : Place of Delivery :- RAJASTHAN Sr.| ITEMCODE | HSN | pescrIPTION | ety luom! MRP RATE | Disc.| TAXABLE IGST CGST | SGST | TOTAL GST No. | | SAC | (%) | AMT, % AMT | %; AMT | % AMT | HELMET HONDA . \n",
              "<mark class=\"entity\" style=\"background: #ddd; padding: 0.45em 0.6em; margin: 0 0.25em; line-height: 1; border-radius: 0.35em;\">\n",
              "    1 SPHFXHEL103BB 65061090 HELMET HALF FACE (XL\n",
              "    <span style=\"font-size: 0.8em; font-weight: bold; line-height: 1; border-radius: 0.35em; vertical-align: middle; margin-left: 0.5rem\">MODE</span>\n",
              "</mark>\n",
              "-BASIC 504 NOs 436.20 436.20 0 2,19,844.80 90.00 0.00 9.00 \n",
              "<mark class=\"entity\" style=\"background: #ddd; padding: 0.45em 0.6em; margin: 0 0.25em; line-height: 1; border-radius: 0.35em;\">\n",
              "    19,786.03\n",
              "    <span style=\"font-size: 0.8em; font-weight: bold; line-height: 1; border-radius: 0.35em; vertical-align: middle; margin-left: 0.5rem\">DELIVERY NUMBER</span>\n",
              "</mark>\n",
              " 9.00 19,786.03 39,572.06 Gu “LD A BLACK) : a ; | — | Group Wise Total : \n",
              "<mark class=\"entity\" style=\"background: #ddd; padding: 0.45em 0.6em; margin: 0 0.25em; line-height: 1; border-radius: 0.35em;\">\n",
              "    504\n",
              "    <span style=\"font-size: 0.8em; font-weight: bold; line-height: 1; border-radius: 0.35em; vertical-align: middle; margin-left: 0.5rem\">UNLOADING POINT</span>\n",
              "</mark>\n",
              " 219844.80 0 \n",
              "<mark class=\"entity\" style=\"background: #ddd; padding: 0.45em 0.6em; margin: 0 0.25em; line-height: 1; border-radius: 0.35em;\">\n",
              "    19786.03\n",
              "    <span style=\"font-size: 0.8em; font-weight: bold; line-height: 1; border-radius: 0.35em; vertical-align: middle; margin-left: 0.5rem\">CIN</span>\n",
              "</mark>\n",
              " 19786.03 39572.06  HELMETS 7 yp 2 SPFFLHEL110BB 65061090 HELMET-FF LARGE(BASIC BLACK) _ 132 - ; ~560.12...0 73,935.84 0.00 (0.00 9.00 6,654.23 9.00 6,654.23 13,308.46  | “A2+ 60 Group Wise Total : 132, vo Eke 22 273985.84 * 0 6654.23 6654.23 13308.46 ; — : 7 - “Ly ~ ee — —— — ( GATE G dw “Ror lo} Se ENTRY NO.8Y Fe pr 3/7 O[-2002 row) anewase erat nee nen oto e . ZY) AN 1072 —[o vei ed Tamed? 1 2-19 ZS ‘D SIAN TE Yo | SAQ MACHER No, : RW a i=) \\ ceneoss TOTAL: ! ne 293780.64 0 26440.26 26440.26 52880.52 GATE ENTRY NO Pa ves erate ; RRGR NO TIME _..SAEE DADO RGR Date m \n",
              "<mark class=\"entity\" style=\"background: #ddd; padding: 0.45em 0.6em; margin: 0 0.25em; line-height: 1; border-radius: 0.35em;\">\n",
              "    31-JAN:22\n",
              "    <span style=\"font-size: 0.8em; font-weight: bold; line-height: 1; border-radius: 0.35em; vertical-align: middle; margin-left: 0.5rem\">INVOICE DATE</span>\n",
              "</mark>\n",
              "...., BASIC AMOUNT 2,93,780.64 Eway Bill No. SEGURE “Way Bill Date :\n",
              "<mark class=\"entity\" style=\"background: #ddd; padding: 0.45em 0.6em; margin: 0 0.25em; line-height: 1; border-radius: 0.35em;\">\n",
              "    - 2022-01-31 11:18:00 ee FREIGHT  INSURANCE Transporter’s Name :- SAFETRANS LOGISTIC Vehicle. NO. te\n",
              "    <span style=\"font-size: 0.8em; font-weight: bold; line-height: 1; border-radius: 0.35em; vertical-align: middle; margin-left: 0.5rem\">TIN NO</span>\n",
              "</mark>\n",
              " \n",
              "<mark class=\"entity\" style=\"background: #ddd; padding: 0.45em 0.6em; margin: 0 0.25em; line-height: 1; border-radius: 0.35em;\">\n",
              "    ~~\n",
              "    <span style=\"font-size: 0.8em; font-weight: bold; line-height: 1; border-radius: 0.35em; vertical-align: middle; margin-left: 0.5rem\">LR NO</span>\n",
              "</mark>\n",
              " RJ40GA0740 PACKING &amp; FORWADING) | No. Of Cases = ©6106 Dispatch Through:- \n",
              "<mark class=\"entity\" style=\"background: #ddd; padding: 0.45em 0.6em; margin: 0 0.25em; line-height: 1; border-radius: 0.35em;\">\n",
              "    BY ROAD GST @ 18% 52,880.52 | Total Weight (in Kgs) :- Transaction Type:- Regular : | | IRN NO :-6019ce607d47b23d9b37fcd61cbh7821af44 1 9ff5addae55b89855998789769a3 | Bill Amount Subjected to Reverse Charges (Y/N) NO | |  Tax Amount (In Words):- Rs.° Fifty-Two Thousand Eight Hundred Eighty And Fifty-Two Only | ROUND OFF 0.16 Bill Value (In Words) : - Rs.* Three Lakh Forty-Six Thousand Six Hundred Sixty-One Only NET AMOUNT 3,46,661.00 | | ' | Special Instruction : “For AEROSTAR HELMETS &amp; ACCESSORIES UL All disputes are subjected to Delhi Jurisdictions . ‘ Certified that the particular given above are true &amp; correct and the amount indicated represents the price actually charged and that there is no flow of any additional consideration directly or indirectly from the buyer. ised SignaUNDER SECTION 31 OF CGST ACT ,2017 AND RULE 46-TAX INVOICE — ORIGINAL FOR RE TAX INVOICE St] si oo CIPIENT oan\n",
              "    <span style=\"font-size: 0.8em; font-weight: bold; line-height: 1; border-radius: 0.35em; vertical-align: middle; margin-left: 0.5rem\">MODE OF DISPATCH</span>\n",
              "</mark>\n",
              "</div></span>"
            ]
          },
          "metadata": {}
        }
      ]
    },
    {
      "cell_type": "markdown",
      "source": [
        "### **Testing Previously Trained model by ex-emp**"
      ],
      "metadata": {
        "id": "bG6_wz8IHpqh"
      }
    },
    {
      "cell_type": "code",
      "source": [
        "import spacy\n",
        "blank_model = spacy.load(\"/content/output/model-last\") #load the best model\n",
        "doc = blank_model(\"HONDA Honda Motor India (A Unit of Honda Cars India Limited) PAN:AAACH1765Q CIN:U15114UP1995PLC099377 EMAIL:corporate@hondacarindia.com WEBSITE:www.hondacarindia.com Plot No. A-1, Sector 40/41, Surajpur-Kasna Road, Greater Noida Industrial Development Area, Distt. Gautam Buddha Nagar, Uttar Pradesh-201306 Seller Address:Survey Nos. 77, 78/1B, 78/3-5-6, 79/1-2 & 80, Raigad,Maharashtra,India-41020 Seller State Code 27 Seller GSTIN 27AAACH1765Q2Z3 Service: NO BUYER NAME & ADDRESS :- MH690001 SANTOSH AUTO AND PARTS PRIVATE LIMITED SANTOSH AUTO AND PARTS PVT LTD GST TAX INVOICE Page No. INVOICE TYPE: B2B INVOICE SUB TYPE: INVOICE Supply Type: Supply ORDER TYPE: Stock (MUM) GST INVOICE NO: MHSP/19/44817 IRN: 215fd4319667945cd0a08b566d2cbc8cd5befafe733c8 c3icc2497c922b0d4cf CONSIGNEE ADDRESS :- SANTOSH AUTO AND PARTS PRIVATE LIMITE SANTOSH AUTO AND PARTS PVT LTD 1of3 DATE & TIME OF ISS VERSION 1.01 14/09/2020 14:39:53 CARRIER NAME: MODE OF DISPATCH: BY ROAD / BY AIR /BY HAND /BY SEA SURVEY NO.15, PLOT NO 83/2, 84 SURVEY NO.15, PLOT NO 83/2, 84 GR. NO: NO. OF CASES: 12 JALGAON ROAD, SILLOD JALGAON ROAD, SILLOD GR. DATE: 14/09/2020 SILLOD Maharashtra INDIA 431112 SILLOD Maharashtra INDIA 431112 DELIVERY NO: 22516453 State Code/POS: 27 27 State Code/POS: 27 27 GSTIN: 27AAYCS8034R12Z3 PLACE OF SUPPLY: Maharashtra, MH WAYBILLNO: __ Unit Price Total Discount] Other | Taxable CGST SGST Total S.No. Order Number Part Number Description HSN Qty Rs Rs Amount |Charges} Amount Rate Amount | Rate] Amount Amount : : Rs. Rs. Rs. % Rs. % Rs. Rs. 1 -02-1920-00279 383740KTE601 REFLECTOR,FR.SIDEREF (94019000 10 20.92 209.20 0 0 209.20) 9 18.83) 9 18.83 246.86 2 +-02-1920-00279 53140KSPA70 GRIP COMP THROTTLE 491171090 10 36.76 367.60 0 0 367.60) 14 51.46] 14 51.46 470.52 3 -02-1920-00280 35200KSP920 SW ASSY WINKER 49111090 2 305.47 610.94 0 0 610.94, 9 54.98} 9 54.98 720.90 4 -02-1920-00281 23100KWPD0O1 BELT,DRIVE 87089900 7 297.30 2081.10 0 0 2081.10) 9 187.3| 9 187.3] 2455.70 5 -02-1920-00279 17681 KTE650 UBE,FUEL 40091100 20 23.46 469.20 0 0 469.20} 9 42.23| 9 42.23 553.66 6 -02-1920-00273 83840K14900 LID,L SIDE COVER 49111090 27.56 0 0 27.56 3.86| 14 3.86 35.28 7 -02-1920-00281 85121KWS900 KEY,BLANK 491171090 156.60 0 0 156.60 14.09| 9 14.09 184.78 8 -02-1920-00280 40520KSP860ZA |CASE,UNDHALFDRIVECHA 49111090 500.66 0 0 500.66 70.09} 14 70.09 640.84 9 -02-1920-00279 53100KTEA01 PIPE STEERING HANDLE 49111090 1289.65 0 0 1289.65) 180.55| 14 180.55) 1650.75 HO }02-1920-00281 IO5030KSP860 KIT,RACE STEERING 87089900 3877.80 0 0 3877.80 542.89] 14 542.89| 4963.58 11 +-02-1920-00279 18318K86D00 PROTECTOR,MUFFLER 87141090 110.44 0 0 110.44 15.46| 14 15.46 141.36 Page No. 2o0f3 GST INVOICE NO: =MHSP/19/44817 Unit Price Total Discount] Other | Taxable CGST SGST Total S.No. Order Number Part Number Description HSN Qty Rs Rs Amount |Charges} Amount Rate Amount | Rate] Amount Amount : : Rs. Rs. Rs. % Rs. % Rs. Rs. 12 +-02-1920-00279 45220KCC841 PINCOMP.,HANGER 49111090 20 15.03 300.60 0 0 300.60) 14 42.08) 14 42.08 384.76 13 -02-1920-00273 I83740K14900 LID,R SIDE COVER 49111090 2 13.78 27.56 0 0 27.56) 14 3.86] 14 3.86 35.28 14 -02- 1920-00280 563230KSP860ZB |BRIDGE,FORKTOP *NH17 (49111090 1 404.33 404.33 0 0 404.33) 14 56.61| 14 56.61 517.55 15 +-02-1920-00279 24701KSP900 PEDAL,GEARCHANGE 49111090 7 141.33 989.31 0 0 989.31) 14 138.5} 14 138.5} 1266.31 16 +-02-1920-00281 12209GB4682 SEAL,VLV,STEM 49111090 10 19.64 196.40 0 0 196.40) 9 17.68|} 9 17.68 231.76 17 }+02-1920-00280 51500KSP872 FORK ASSY,L FRONT [94019000 1 | 1489.30 1489.30 0 0 1489.30) 14 208.5| 14 208.5| 1906.30 18 }+02-1920-00279 (06451GE2405 SEAL,SET PISTON 49111090 20 23.46 469.20 0 0 469.20) 14 65.69| 14 65.69 600.58 19 1+02-1920-00280 45251KSP861 DISK,FR.BRAKE 49111090 2 | 1190.18 2380.36 0 0 2380.36, 14 333.25| 14 333.25 | 3046.86 20 +-02-1920-00281 16016KSP911 SCREW SETA 49111090 10 46.26 462.60 0 0 462.60) 14 64.76| 14 64.76 592.12 21 -02-1920-00279 51490KST305 SEALSET,FR.FORK 491171090 8 138.79 1110.32 0 0 1110.32) 14 155.44; 14 155.44} 1421.20 22 |+02-1920-00281 B5200KTE651 SW ASSY,WINKER [94019000 1 370.75 370.75 0 0 370.75} 9 33.37| 9 33.37 437.49 23  |+02-1920-00280 17530KSPDO00ZC {TANK SUB ASSY,FUEL*N — (87141090 1 | 5356.37 5356.37 0 0 5356.37, 14 749.89| 14 749.89 | 6856.15 24 +-02-1920-00281 51103KWP940 COVER, R PIVOT 491171090 5 23.46 117.30 0 0 117.30} 14 16.42| 14 16.42 150.14 25  |+02-1920-00280 35010KSP861 KEY SET [94019000 5 624.25 3121.25 0 0 3121.25} 9 280.91} 9 280.91 | 3683.07 26 -02- 1920-00280 24701KSP900 PEDAL,GEARCHANGE 491171090 6 141.33 847.98 0 0 847.98) 14 118.72} 14 118.72} 1085.42 27 +-02-1920-00279 77260KTE600ZE |COWL SET RRR“*TYPE 491171090 1 409.94 409.94 0 0 409.94) 14 57.39| 14 57.39 524.72 28 -02-1920-00280 61100KSP860ZM |FENDER,FRONT*NHAO4M* {85061000 1 557.97 557.97 0 0 557.97, 14 78.12| 14 78.12 714.21 29 |02-1920-00280 40510KSP860ZA |CASE,UPPHALFDRIVECHA (49111090 2 250.33 500.66 0 0 500.66, 14 70.09} 14 70.09 640.84 30 -02-1920-00279 5O05380KTE910 BARCOMP.,SIDESTAND 491171090 10 71.62 716.20 0 0 716.20) 14 100.27; 14 100.27 916.74 1 -02-1920-00281 83120KTED11 UNIT,HEAD LIGHT [94019000 3 454.40 1363.20 0 0 1363.20) 9 122.69} 9 122.69| 1608.58 B2  |+02-1920-00280 51400KSP872 FORK ASSY,R FRONT 94019000 1 | 1489.30 1489.30 0 0 1489.30) 14 208.5| 14 208.5] 1906.30 B3 |+02-1920-00280 61100KSP860ZG |FENDER,FR. NHBO5P 49111090 1 568.09 568.09 0 0 568.09} 14 79.53} 14 79.53 727.15 B4  |+02-1920-00279 45132KCC841 BOOT,PINBUSH 49111090 30 9.51 285.30 0 0 285.30} 14 39.94] 14 39.94 365.18 B35 +-02-1920-00279 33110KTE741 UNIT HEAD LIGHT 491171090 3 442.36 1327.08 0 0 1327.08} 9 119.44; 9 119.44} 1565.96 B6  |+02-1920-00278 32100KSP860 HARNESS, WIRE 49111090 1 731.34 731.34 0 0 731.34, 9 65.82} 9 65.82 862.98 B37 +-02-1920-00279 77270KTE600ZE |COWL SET L RR *TYPE 491171090 1 410.67 410.67 0 0 410.67, 14 57.49| 14 57.49 525.65 B8 +-02-1920-00281 90306KTE91 1 NUT,FLANGE SPL 12MM 49111090 10 29.15 291.50 0 0 291.501 9 26.24| 9 26.24 343.98 B89  |+02-1920-00281 45132166016 BUSH, PIN 49111090 10 13.32 133.20 0 0 133.20) 14 18.65) 14 18.65 170.50 40  +02-1920-00281 383120KTEDO1 UNIT,HEAD LIGHT [94019000 3 454.40 1363.20 0 0 1363.20) 9 122.69} 9 122.69| 1608.58 261 37492.03 37492.03 4634.28 4634.28 | 46760.59 Four Thousand Six Hundred Thirt CGST Four Only y VALUE OF GOODS 37492.03 CGST 4634.28 SGST pour ony Six Hundred Thirty TOTAL AMOUNT (In Words): SGST 4634.28 PAID AMOUNT: 0 Forty Six Thousand Seven Hundred Sixty TCs: 0 One Only Page No. GST INVOICE NO: =.MHSP/19/44817 BATCH NAME: AMOUNT DUE FOR PAYMENT: 46761 TOTAL (ROUND-OFF) Certified that the particulars given above are true and correct and the amount indicated represents the price actually charged and that there is no flow of additionalconsideration directly or indirectly from the buyer. MATERIAL HYPOTHECATED BY :- State Bank of India 1. SUBJECT TO DELHI JURISDICTION ONLY. 2. CONSIGNMENT INSURED AGANIST TRANSIT POLICY NO.: 2423/60755031/00/000 3 of 3 46761\") # input sample text\n",
        "#display results\n",
        "spacy.displacy.render(doc, style=\"ent\", jupyter=True)"
      ],
      "metadata": {
        "colab": {
          "base_uri": "https://localhost:8080/",
          "height": 1000
        },
        "id": "tx-zmb_WGD6F",
        "outputId": "41d744a7-73df-4ddd-b2f4-2748f59665ef"
      },
      "execution_count": null,
      "outputs": [
        {
          "output_type": "display_data",
          "data": {
            "text/plain": [
              "<IPython.core.display.HTML object>"
            ],
            "text/html": [
              "<span class=\"tex2jax_ignore\"><div class=\"entities\" style=\"line-height: 2.5; direction: ltr\">HONDA Honda Motor India (A Unit of Honda Cars India Limited) PAN:\n",
              "<mark class=\"entity\" style=\"background: #ddd; padding: 0.45em 0.6em; margin: 0 0.25em; line-height: 1; border-radius: 0.35em;\">\n",
              "    AAACH1765Q\n",
              "    <span style=\"font-size: 0.8em; font-weight: bold; line-height: 1; border-radius: 0.35em; vertical-align: middle; margin-left: 0.5rem\">BUYER PAN</span>\n",
              "</mark>\n",
              " CIN:U15114UP1995PLC099377 EMAIL:corporate@hondacarindia.com WEBSITE:www.hondacarindia.com \n",
              "<mark class=\"entity\" style=\"background: #ddd; padding: 0.45em 0.6em; margin: 0 0.25em; line-height: 1; border-radius: 0.35em;\">\n",
              "    Plot No. A-1, Sector 40/41, Surajpur-\n",
              "    <span style=\"font-size: 0.8em; font-weight: bold; line-height: 1; border-radius: 0.35em; vertical-align: middle; margin-left: 0.5rem\">SELLER ADDRESS</span>\n",
              "</mark>\n",
              "Kasna Road, Greater Noida Industrial Development Area, Distt. Gautam Buddha Nagar, Uttar Pradesh-201306 Seller Address:\n",
              "<mark class=\"entity\" style=\"background: #ddd; padding: 0.45em 0.6em; margin: 0 0.25em; line-height: 1; border-radius: 0.35em;\">\n",
              "    Survey Nos. 77, 78/1B, 78/3-5-6, 79/1-2 &amp; 80, Raigad,Maharashtra,India-41020\n",
              "    <span style=\"font-size: 0.8em; font-weight: bold; line-height: 1; border-radius: 0.35em; vertical-align: middle; margin-left: 0.5rem\">SELLER ADDRESS</span>\n",
              "</mark>\n",
              " Seller State Code 27 Seller GSTIN 27AAACH1765Q2Z3 Service: NO BUYER NAME &amp; ADDRESS :- MH690001 SANTOSH AUTO AND PARTS PRIVATE LIMITED SANTOSH AUTO AND PARTS PVT LTD GST TAX INVOICE Page No. INVOICE TYPE: B2B INVOICE SUB TYPE: INVOICE Supply Type: Supply ORDER TYPE: Stock (MUM) GST INVOICE NO: MHSP/19/44817 IRN: 215fd4319667945cd0a08b566d2cbc8cd5befafe733c8 c3icc2497c922b0d4cf CONSIGNEE ADDRESS :- SANTOSH AUTO AND PARTS PRIVATE LIMITE SANTOSH AUTO AND PARTS PVT LTD 1of3 DATE &amp; TIME OF ISS VERSION 1.01 14/09/2020 14:39:53 CARRIER NAME: MODE OF DISPATCH: \n",
              "<mark class=\"entity\" style=\"background: #ddd; padding: 0.45em 0.6em; margin: 0 0.25em; line-height: 1; border-radius: 0.35em;\">\n",
              "    BY ROAD / BY AIR /BY HAND /BY SEA\n",
              "    <span style=\"font-size: 0.8em; font-weight: bold; line-height: 1; border-radius: 0.35em; vertical-align: middle; margin-left: 0.5rem\">ITEM FREIGHT</span>\n",
              "</mark>\n",
              " SURVEY NO.15, PLOT NO 83/2, 84 SURVEY NO.15, PLOT NO 83/2, 84 GR. NO: NO. OF CASES: 12 \n",
              "<mark class=\"entity\" style=\"background: #ddd; padding: 0.45em 0.6em; margin: 0 0.25em; line-height: 1; border-radius: 0.35em;\">\n",
              "    JALGAON ROAD, SILLOD\n",
              "    <span style=\"font-size: 0.8em; font-weight: bold; line-height: 1; border-radius: 0.35em; vertical-align: middle; margin-left: 0.5rem\">SELLER ADDRESS</span>\n",
              "</mark>\n",
              " JALGAON ROAD, SILLOD GR. DATE: 14/09/2020 SILLOD Maharashtra INDIA 431112 SILLOD Maharashtra INDIA 431112 DELIVERY NO: 22516453 State Code/POS: 27 27 State Code/POS: 27 27 GSTIN: \n",
              "<mark class=\"entity\" style=\"background: #ddd; padding: 0.45em 0.6em; margin: 0 0.25em; line-height: 1; border-radius: 0.35em;\">\n",
              "    27AAYCS8034R12Z3\n",
              "    <span style=\"font-size: 0.8em; font-weight: bold; line-height: 1; border-radius: 0.35em; vertical-align: middle; margin-left: 0.5rem\">BUYER GSTIN</span>\n",
              "</mark>\n",
              " PLACE OF SUPPLY: Maharashtra, MH WAYBILLNO: __ Unit Price Total Discount] Other | Taxable CGST SGST Total S.No. Order Number Part Number Description HSN Qty Rs Rs Amount |Charges} Amount Rate Amount | Rate] Amount Amount : : Rs. Rs. Rs. % Rs. % Rs. Rs. 1 -02-1920-00279 383740KTE601 REFLECTOR,FR.SIDEREF (94019000 10 20.92 209.20 0 0 209.20) 9 18.83) 9 18.83 246.86 2 +-02-1920-00279 53140KSPA70 GRIP COMP THROTTLE 491171090 10 36.76 367.60 0 0 367.60) 14 51.46] 14 51.46 470.52 3 -02-1920-00280 35200KSP920 SW ASSY WINKER 49111090 2 305.47 610.94 0 0 610.94, 9 54.98} 9 54.98 720.90 4 -02-1920-00281 23100KWPD0O1 BELT,DRIVE 87089900 7 297.30 2081.10 0 0 2081.10) 9 187.3| 9 187.3] 2455.70 5 -02-1920-00279 17681 KTE650 UBE,FUEL 40091100 20 23.46 469.20 0 0 469.20} 9 42.23| 9 42.23 553.66 6 -02-1920-00273 83840K14900 LID,L SIDE COVER 49111090 27.56 0 0 27.56 3.86| 14 3.86 35.28 7 -02-1920-00281 85121KWS900 KEY,BLANK 491171090 156.60 0 0 156.60 14.09| 9 14.09 184.78 8 -02-1920-00280 40520KSP860ZA |CASE,UNDHALFDRIVECHA 49111090 500.66 0 0 500.66 70.09} 14 70.09 640.84 9 -02-1920-00279 53100KTEA01 PIPE STEERING HANDLE 49111090 1289.65 0 0 1289.65) 180.55| 14 180.55) 1650.75 HO }02-1920-00281 IO5030KSP860 KIT,RACE STEERING 87089900 3877.80 0 0 3877.80 542.89] 14 542.89| 4963.58 11 +-02-1920-00279 18318K86D00 PROTECTOR,MUFFLER 87141090 110.44 0 0 110.44 15.46| 14 15.46 141.36 Page No. 2o0f3 GST INVOICE NO: =MHSP/19/44817 Unit Price Total Discount] Other | Taxable CGST SGST Total S.No. Order Number Part Number Description HSN Qty Rs Rs Amount |Charges} Amount Rate Amount | Rate] Amount Amount : : Rs. Rs. Rs. % Rs. % Rs. Rs. 12 +-02-1920-00279 45220KCC841 PINCOMP.,HANGER 49111090 20 15.03 300.60 0 0 300.60) 14 42.08) 14 42.08 384.76 13 -02-1920-00273 I83740K14900 LID,R SIDE COVER 49111090 2 13.78 27.56 0 0 27.56) 14 3.86] 14 3.86 35.28 14 -02- 1920-00280 563230KSP860ZB |BRIDGE,FORKTOP *NH17 (49111090 1 404.33 404.33 0 0 404.33) 14 56.61| 14 56.61 517.55 15 +-02-1920-00279 24701KSP900 PEDAL,GEARCHANGE 49111090 7 141.33 989.31 0 0 989.31) 14 138.5} 14 138.5} 1266.31 16 +-02-1920-00281 12209GB4682 SEAL,VLV,STEM 49111090 10 19.64 196.40 0 0 196.40) 9 17.68|} 9 17.68 231.76 17 }+02-1920-00280 51500KSP872 FORK ASSY,L FRONT [94019000 1 | 1489.30 1489.30 0 0 1489.30) 14 208.5| 14 208.5| 1906.30 18 }+02-1920-00279 (06451GE2405 SEAL,SET PISTON 49111090 20 23.46 469.20 0 0 469.20) 14 65.69| 14 65.69 600.58 19 1+02-1920-00280 45251KSP861 DISK,FR.BRAKE 49111090 2 | 1190.18 2380.36 0 0 2380.36, 14 333.25| 14 333.25 | 3046.86 20 +-02-1920-00281 16016KSP911 SCREW SETA 49111090 10 46.26 462.60 0 0 462.60) 14 64.76| 14 64.76 592.12 21 -02-1920-00279 51490KST305 SEALSET,FR.FORK 491171090 8 138.79 1110.32 0 0 1110.32) 14 155.44; 14 155.44} 1421.20 22 |+02-1920-00281 B5200KTE651 SW ASSY,WINKER [94019000 1 370.75 370.75 0 0 370.75} 9 33.37| 9 33.37 437.49 23  |+02-1920-00280 17530KSPDO00ZC {TANK SUB ASSY,FUEL*N — (87141090 1 | 5356.37 5356.37 0 0 5356.37, 14 749.89| 14 749.89 | 6856.15 24 +-02-1920-00281 51103KWP940 COVER, R PIVOT 491171090 5 23.46 117.30 0 0 117.30} 14 16.42| 14 16.42 150.14 25  |+02-1920-00280 35010KSP861 KEY SET [94019000 5 624.25 3121.25 0 0 3121.25} 9 280.91} 9 280.91 | 3683.07 26 -02- 1920-00280 24701KSP900 PEDAL,GEARCHANGE 491171090 6 141.33 847.98 0 0 847.98) 14 118.72} 14 118.72} 1085.42 27 +-02-1920-00279 77260KTE600ZE |COWL SET RRR“*TYPE 491171090 1 409.94 409.94 0 0 409.94) 14 57.39| 14 57.39 524.72 28 -02-1920-00280 61100KSP860ZM |FENDER,FRONT*NHAO4M* {85061000 1 557.97 557.97 0 0 557.97, 14 78.12| 14 78.12 714.21 29 |02-1920-00280 40510KSP860ZA |CASE,UPPHALFDRIVECHA (49111090 2 250.33 500.66 0 0 500.66, 14 70.09} 14 70.09 640.84 30 -02-1920-00279 5O05380KTE910 BARCOMP.,SIDESTAND 491171090 10 71.62 716.20 0 0 716.20) 14 100.27; 14 100.27 916.74 1 -02-1920-00281 83120KTED11 UNIT,HEAD LIGHT [94019000 3 454.40 1363.20 0 0 1363.20) 9 122.69} 9 122.69| 1608.58 B2  |+02-1920-00280 51400KSP872 FORK ASSY,R FRONT 94019000 1 | 1489.30 1489.30 0 0 1489.30) 14 208.5| 14 208.5] 1906.30 B3 |+02-1920-00280 61100KSP860ZG |FENDER,FR. NHBO5P 49111090 1 568.09 568.09 0 0 568.09} 14 79.53} 14 79.53 727.15 B4  |+02-1920-00279 45132KCC841 BOOT,PINBUSH 49111090 30 9.51 285.30 0 0 285.30} 14 39.94] 14 39.94 365.18 B35 +-02-1920-00279 33110KTE741 UNIT HEAD LIGHT 491171090 3 442.36 1327.08 0 0 1327.08} 9 119.44; 9 119.44} 1565.96 B6  |+02-1920-00278 32100KSP860 HARNESS, WIRE 49111090 1 731.34 731.34 0 0 731.34, 9 65.82} 9 65.82 862.98 B37 +-02-1920-00279 77270KTE600ZE |COWL SET L RR *TYPE 491171090 1 410.67 410.67 0 0 410.67, 14 57.49| 14 57.49 525.65 B8 +-02-1920-00281 90306KTE91 1 NUT,FLANGE SPL 12MM 49111090 10 29.15 291.50 0 0 291.501 9 26.24| 9 26.24 343.98 B89  |+02-1920-00281 45132166016 BUSH, PIN 49111090 10 13.32 133.20 0 0 133.20) 14 18.65) 14 18.65 170.50 40  +02-1920-00281 383120KTEDO1 UNIT,HEAD LIGHT [94019000 3 454.40 1363.20 0 0 1363.20) 9 122.69} 9 122.69| 1608.58 \n",
              "<mark class=\"entity\" style=\"background: #e4e7d2; padding: 0.45em 0.6em; margin: 0 0.25em; line-height: 1; border-radius: 0.35em;\">\n",
              "    261\n",
              "    <span style=\"font-size: 0.8em; font-weight: bold; line-height: 1; border-radius: 0.35em; vertical-align: middle; margin-left: 0.5rem\">QUANTITY</span>\n",
              "</mark>\n",
              " \n",
              "<mark class=\"entity\" style=\"background: #ddd; padding: 0.45em 0.6em; margin: 0 0.25em; line-height: 1; border-radius: 0.35em;\">\n",
              "    37492.03\n",
              "    <span style=\"font-size: 0.8em; font-weight: bold; line-height: 1; border-radius: 0.35em; vertical-align: middle; margin-left: 0.5rem\">ITEM TOTAL</span>\n",
              "</mark>\n",
              " 37492.03 4634.28 4634.28 | 46760.59 Four Thousand Six Hundred Thirt CGST Four Only y VALUE OF GOODS \n",
              "<mark class=\"entity\" style=\"background: #ddd; padding: 0.45em 0.6em; margin: 0 0.25em; line-height: 1; border-radius: 0.35em;\">\n",
              "    37492.03\n",
              "    <span style=\"font-size: 0.8em; font-weight: bold; line-height: 1; border-radius: 0.35em; vertical-align: middle; margin-left: 0.5rem\">NET AMOUNT</span>\n",
              "</mark>\n",
              " CGST 4634.28 SGST pour ony Six Hundred Thirty TOTAL AMOUNT (In Words): SGST \n",
              "<mark class=\"entity\" style=\"background: #ddd; padding: 0.45em 0.6em; margin: 0 0.25em; line-height: 1; border-radius: 0.35em;\">\n",
              "    4634.28\n",
              "    <span style=\"font-size: 0.8em; font-weight: bold; line-height: 1; border-radius: 0.35em; vertical-align: middle; margin-left: 0.5rem\">SGST</span>\n",
              "</mark>\n",
              " PAID AMOUNT: 0 Forty Six Thousand Seven Hundred Sixty TCs: 0 One Only Page No. GST INVOICE NO: =.MHSP/19/44817 BATCH NAME: AMOUNT DUE FOR PAYMENT: \n",
              "<mark class=\"entity\" style=\"background: #ddd; padding: 0.45em 0.6em; margin: 0 0.25em; line-height: 1; border-radius: 0.35em;\">\n",
              "    46761\n",
              "    <span style=\"font-size: 0.8em; font-weight: bold; line-height: 1; border-radius: 0.35em; vertical-align: middle; margin-left: 0.5rem\">GROSS AMOUNT</span>\n",
              "</mark>\n",
              " TOTAL (ROUND-OFF) Certified that the particulars given above are true and correct and the amount indicated represents the price actually charged and that there is no flow of additionalconsideration directly or indirectly from the buyer. MATERIAL HYPOTHECATED BY :- State Bank of India 1. SUBJECT TO DELHI JURISDICTION ONLY. 2. CONSIGNMENT INSURED AGANIST TRANSIT POLICY NO.: 2423/60755031/00/000 3 of 3 46761</div></span>"
            ]
          },
          "metadata": {}
        }
      ]
    },
    {
      "cell_type": "markdown",
      "source": [
        "###**Evaluating Previously Trained model by ex-emp**"
      ],
      "metadata": {
        "id": "VuESVOzMIh3n"
      }
    },
    {
      "cell_type": "code",
      "source": [
        "!python -m spacy evaluate \"/content/model-best-1\" \"/content/train.spacy\" --gpu-id 0"
      ],
      "metadata": {
        "colab": {
          "base_uri": "https://localhost:8080/"
        },
        "id": "xqV616MvIiiH",
        "outputId": "faffd6de-3fc2-497a-a5be-6fa90cf7886f"
      },
      "execution_count": null,
      "outputs": [
        {
          "output_type": "stream",
          "name": "stdout",
          "text": [
            "2023-06-30 07:50:13.504803: W tensorflow/compiler/tf2tensorrt/utils/py_utils.cc:38] TF-TRT Warning: Could not find TensorRT\n",
            "\u001b[38;5;4mℹ Using GPU: 0\u001b[0m\n",
            "\u001b[1m\n",
            "================================== Results ==================================\u001b[0m\n",
            "\n",
            "TOK     100.00\n",
            "NER P   2.93  \n",
            "NER R   3.99  \n",
            "NER F   3.38  \n",
            "SPEED   2803  \n",
            "\n",
            "\u001b[1m\n",
            "=============================== NER (per type) ===============================\u001b[0m\n",
            "\n",
            "                                    P        R       F\n",
            "COMPANY                         15.00   100.00   26.09\n",
            "PAN                              2.63   100.00    5.13\n",
            "CIN                              5.56   100.00   10.53\n",
            "WEBSITE                         25.00   100.00   40.00\n",
            "GST TAX INVOICE                 20.00   100.00   33.33\n",
            "ADDRESS                         33.33   100.00   50.00\n",
            "SELLER ADDRESS                  50.00     2.60    4.94\n",
            "SELLER STATE CODE               12.50   100.00   22.22\n",
            "BUYER NAME & ADDRESS            20.00   100.00   33.33\n",
            "GSTIN                           14.29   100.00   25.00\n",
            "GST INVOICE NO                  14.29   100.00   25.00\n",
            "IRN                              6.25   100.00   11.76\n",
            "CONSIGNEE ADDRESS                7.69   100.00   14.29\n",
            "MODE OF DISPATCH                12.50   100.00   22.22\n",
            "DELIVERY NO                      5.88   100.00   11.11\n",
            "RECEPIENT DETAILS (BILLED TO)    0.00     0.00    0.00\n",
            "COMPANY ADDRESS                  0.00     0.00    0.00\n",
            "VOLUME                           0.00     0.00    0.00\n",
            "CUSTOMER PO DATE                 0.00     0.00    0.00\n",
            "UNLOADING POINT                  0.00     0.00    0.00\n",
            "TIN NO                           0.00     0.00    0.00\n",
            "TAX SCHEME                       0.00     0.00    0.00\n",
            "GROSS WEIGHT                     0.00     0.00    0.00\n",
            "PLACE OF SUPPLY                  0.00     0.00    0.00\n",
            "DELIVERY NUMBER                  0.00     0.00    0.00\n",
            "NO OF CASES                      0.00     0.00    0.00\n",
            "TERMS OF PAYMENT                 0.00     0.00    0.00\n",
            "MODE                             0.00     0.00    0.00\n",
            "IRN:                             0.00     0.00    0.00\n",
            "GSTIN NO                         0.00     0.00    0.00\n",
            "OUR ORDER ACCEPTANCE             0.00     0.00    0.00\n",
            "INVOICE DATE                    23.08    18.18   20.34\n",
            "CONSIGNEE DETAILS                0.00     0.00    0.00\n",
            "IR NO                            0.00     0.00    0.00\n",
            "GR WT                            0.00     0.00    0.00\n",
            "VENDOR CODE                      0.00     0.00    0.00\n",
            "CHG WT                           0.00     0.00    0.00\n",
            "CUSTOMER PO                      0.00     0.00    0.00\n",
            "VERSION                          0.00     0.00    0.00\n",
            "REF DATE                         0.00     0.00    0.00\n",
            "P.O. NO                          0.00     0.00    0.00\n",
            "BUYER ADDRESS                    0.00     0.00    0.00\n",
            "ITEM FREIGHT                     0.00     0.00    0.00\n",
            "QUANTITY                         0.00     0.00    0.00\n",
            "BUYER GSTIN                      0.00     0.00    0.00\n",
            "SELLER GSTIN                     0.00     0.00    0.00\n",
            "CGST                             0.00     0.00    0.00\n",
            "SGST                             0.00     0.00    0.00\n",
            "GROSS AMOUNT                     0.00     0.00    0.00\n",
            "NET AMOUNT                       0.00     0.00    0.00\n",
            "ITEM TOTAL                       0.00     0.00    0.00\n",
            "INVOICE NUMBER                   0.00     0.00    0.00\n",
            "LR NO                            0.00     0.00    0.00\n",
            "SELLER PAN                       0.00     0.00    0.00\n",
            "BUYER PAN                        0.00     0.00    0.00\n",
            "INVOICE TYPE & SUB TYPE          0.00     0.00    0.00\n",
            "UNIT OF MEASURE                  0.00     0.00    0.00\n",
            "UNIT PRICE                       0.00     0.00    0.00\n",
            "ITEM DESCRIPTION                 0.00     0.00    0.00\n",
            "IGST                             0.00     0.00    0.00\n",
            "ITEM NUMBER                      0.00     0.00    0.00\n",
            "HSN/SAC                          0.00     0.00    0.00\n",
            "PLANT                            0.00     0.00    0.00\n",
            "INVOICE NO                       0.00     0.00    0.00\n",
            "STATE CODE                       0.00     0.00    0.00\n",
            "TRANSPORTER                      0.00     0.00    0.00\n",
            "VENDOR CODE                      0.00     0.00    0.00\n",
            "LR DATE                          0.00     0.00    0.00\n",
            "PO NO                            0.00     0.00    0.00\n",
            "ITEM MISC FEES                   0.00     0.00    0.00\n",
            "ORDER NO /DATE                   0.00     0.00    0.00\n",
            "AMND NO                          0.00     0.00    0.00\n",
            "COMMISIONERATE                   0.00     0.00    0.00\n",
            "DATE                             0.00     0.00    0.00\n",
            "REVERSE CHARGE APPLICABLE        0.00     0.00    0.00\n",
            "VEHICLE NO                       0.00     0.00    0.00\n",
            "ITEM NAME                        0.00     0.00    0.00\n",
            "RECEIVER DETAILS                 0.00     0.00    0.00\n",
            "G.R/L.R NO                       0.00     0.00    0.00\n",
            "STATE NAME                       0.00     0.00    0.00\n",
            "GST NO                           0.00     0.00    0.00\n",
            "SBHT S.O. NO                     0.00     0.00    0.00\n",
            "DESTINATION                      0.00     0.00    0.00\n",
            "PURCHASE ORDER NO                0.00     0.00    0.00\n",
            "PO DATE                          0.00     0.00    0.00\n",
            "SUPPLY TYPE                      0.00     0.00    0.00\n",
            "F.O.R                            0.00     0.00    0.00\n",
            "CIN NO                           0.00     0.00    0.00\n",
            "ACCOUNT NUMBER                   0.00     0.00    0.00\n",
            "ACCOUNT NAME                     0.00     0.00    0.00\n",
            "TRANSPORTER NAME/ID              0.00     0.00    0.00\n",
            "TIME OF SUPPLY                   0.00     0.00    0.00\n",
            "PACKING DETAILS                  0.00     0.00    0.00\n",
            "\n"
          ]
        }
      ]
    },
    {
      "cell_type": "markdown",
      "source": [
        "###**Evaluating new model p-precision, r-recall, f-'f-score'**"
      ],
      "metadata": {
        "id": "Ne9agL-NTkKD"
      }
    },
    {
      "cell_type": "code",
      "source": [
        "import spacy_transformers\n",
        "!python -m spacy evaluate \"/content/output/model-best\" \"/content/train.spacy\" --gpu-id 0"
      ],
      "metadata": {
        "colab": {
          "base_uri": "https://localhost:8080/"
        },
        "id": "0V4AogQCJPLe",
        "outputId": "084579a3-565f-4fc5-98fe-d5c81680552a"
      },
      "execution_count": null,
      "outputs": [
        {
          "output_type": "stream",
          "name": "stdout",
          "text": [
            "2023-06-30 16:32:57.247479: W tensorflow/compiler/tf2tensorrt/utils/py_utils.cc:38] TF-TRT Warning: Could not find TensorRT\n",
            "\u001b[38;5;4mℹ Using GPU: 0\u001b[0m\n",
            "\u001b[1m\n",
            "================================== Results ==================================\u001b[0m\n",
            "\n",
            "TOK     100.00\n",
            "NER P   98.72 \n",
            "NER R   98.10 \n",
            "NER F   98.41 \n",
            "SPEED   1076  \n",
            "\n",
            "\u001b[1m\n",
            "=============================== NER (per type) ===============================\u001b[0m\n",
            "\n",
            "                        P        R        F\n",
            "SELLER ADDRESS     100.00    97.53    98.75\n",
            "SELLER GSTIN        96.88    96.88    96.88\n",
            "SELLER PAN         100.00   100.00   100.00\n",
            "INVOICE NUMBER      97.06   100.00    98.51\n",
            "BUYER ADDRESS      100.00    98.26    99.12\n",
            "INVOICE DATE       100.00   100.00   100.00\n",
            "BUYER GSTIN         97.06   100.00    98.51\n",
            "BUYER PAN          100.00   100.00   100.00\n",
            "ITEM DESCRIPTION   100.00    95.24    97.56\n",
            "HSN/SAC             91.67   100.00    95.65\n",
            "UNIT OF MEASURE    100.00   100.00   100.00\n",
            "UNIT PRICE         100.00   100.00   100.00\n",
            "QUANTITY           100.00    93.75    96.77\n",
            "NET AMOUNT          96.97   100.00    98.46\n",
            "IGST                96.15    96.15    96.15\n",
            "GROSS AMOUNT       100.00   100.00   100.00\n",
            "ITEM FREIGHT       100.00    94.87    97.37\n",
            "CGST                95.83    95.83    95.83\n",
            "SGST               100.00    95.65    97.78\n",
            "ITEM MISC FEES      92.86   100.00    96.30\n",
            "ITEM NUMBER        100.00   100.00   100.00\n",
            "ACCOUNT NAME       100.00   100.00   100.00\n",
            "ACCOUNT NUMBER     100.00   100.00   100.00\n",
            "ITEM NAME          100.00   100.00   100.00\n",
            "ITEM TOTAL         100.00   100.00   100.00\n",
            "\n"
          ]
        }
      ]
    },
    {
      "cell_type": "code",
      "source": [
        "from google.colab import drive\n",
        "\n",
        "drive.mount(\"/content/drive\")"
      ],
      "metadata": {
        "id": "58gCPaqfHZHq",
        "colab": {
          "base_uri": "https://localhost:8080/"
        },
        "outputId": "bcd2c230-95cc-4c7a-ea62-11eb75983e46"
      },
      "execution_count": null,
      "outputs": [
        {
          "output_type": "stream",
          "name": "stdout",
          "text": [
            "Mounted at /content/drive\n"
          ]
        }
      ]
    },
    {
      "cell_type": "code",
      "source": [
        "!unzip /content/drive/MyDrive/output.zip -d /content/"
      ],
      "metadata": {
        "colab": {
          "base_uri": "https://localhost:8080/"
        },
        "id": "osM1aFcvIuIa",
        "outputId": "f01d24d7-47be-432d-dd47-660ade10b2b0"
      },
      "execution_count": null,
      "outputs": [
        {
          "output_type": "stream",
          "name": "stdout",
          "text": [
            "Archive:  /content/drive/MyDrive/output.zip\n",
            "   creating: /content/output/\n",
            "   creating: /content/output/model-last/\n",
            "   creating: /content/output/model-last/vocab/\n",
            "  inflating: /content/output/model-last/vocab/vectors  \n",
            " extracting: /content/output/model-last/vocab/lookups.bin  \n",
            " extracting: /content/output/model-last/vocab/vectors.cfg  \n",
            "  inflating: /content/output/model-last/vocab/strings.json  \n",
            " extracting: /content/output/model-last/vocab/key2row  \n",
            "   creating: /content/output/model-last/transformer/\n",
            " extracting: /content/output/model-last/transformer/cfg  \n",
            "  inflating: /content/output/model-last/transformer/model  \n",
            "   creating: /content/output/model-last/ner/\n",
            "  inflating: /content/output/model-last/ner/cfg  \n",
            "  inflating: /content/output/model-last/ner/model  \n",
            "  inflating: /content/output/model-last/ner/moves  \n",
            "  inflating: /content/output/model-last/meta.json  \n",
            "  inflating: /content/output/model-last/config.cfg  \n",
            "  inflating: /content/output/model-last/tokenizer  \n",
            "   creating: /content/output/model-best/\n",
            "   creating: /content/output/model-best/vocab/\n",
            "  inflating: /content/output/model-best/vocab/vectors  \n",
            " extracting: /content/output/model-best/vocab/lookups.bin  \n",
            " extracting: /content/output/model-best/vocab/vectors.cfg  \n",
            "  inflating: /content/output/model-best/vocab/strings.json  \n",
            " extracting: /content/output/model-best/vocab/key2row  \n",
            "   creating: /content/output/model-best/transformer/\n",
            " extracting: /content/output/model-best/transformer/cfg  \n",
            "  inflating: /content/output/model-best/transformer/model  \n",
            "   creating: /content/output/model-best/ner/\n",
            "  inflating: /content/output/model-best/ner/cfg  \n",
            "  inflating: /content/output/model-best/ner/model  \n",
            "  inflating: /content/output/model-best/ner/moves  \n",
            "  inflating: /content/output/model-best/meta.json  \n",
            "  inflating: /content/output/model-best/config.cfg  \n",
            "  inflating: /content/output/model-best/tokenizer  \n"
          ]
        }
      ]
    },
    {
      "cell_type": "code",
      "source": [
        "import spacy\n",
        "import json\n",
        "blank_model = spacy.load(\"/content/output/model-best\") #load the best model\n",
        "doc = blank_model(\"HONDA Honda Motor India (A Unit of Honda Cars India Limited) PAN:AAACH1765Q CIN:U15114UP1995PLC099377 EMAIL:corporate@hondacarindia.com WEBSITE:www.hondacarindia.com Plot No. A-1, Sector 40/41, Surajpur-Kasna Road, Greater Noida Industrial Development Area, Distt. Gautam Buddha Nagar, Uttar Pradesh-201306 Seller Address:Survey Nos. 77, 78/1B, 78/3-5-6, 79/1-2 & 80, Raigad,Maharashtra,India-41020 Seller State Code 27 Seller GSTIN 27AAACH1765Q2Z3 Service: NO BUYER NAME & ADDRESS :- MH690001 SANTOSH AUTO AND PARTS PRIVATE LIMITED SANTOSH AUTO AND PARTS PVT LTD GST TAX INVOICE Page No. INVOICE TYPE: B2B INVOICE SUB TYPE: INVOICE Supply Type: Supply ORDER TYPE: Stock (MUM) GST INVOICE NO: MHSP/19/44817 IRN: 215fd4319667945cd0a08b566d2cbc8cd5befafe733c8 c3icc2497c922b0d4cf CONSIGNEE ADDRESS :- SANTOSH AUTO AND PARTS PRIVATE LIMITE SANTOSH AUTO AND PARTS PVT LTD 1of3 DATE & TIME OF ISS VERSION 1.01 14/09/2020 14:39:53 CARRIER NAME: MODE OF DISPATCH: BY ROAD / BY AIR /BY HAND /BY SEA SURVEY NO.15, PLOT NO 83/2, 84 SURVEY NO.15, PLOT NO 83/2, 84 GR. NO: NO. OF CASES: 12 JALGAON ROAD, SILLOD JALGAON ROAD, SILLOD GR. DATE: 14/09/2020 SILLOD Maharashtra INDIA 431112 SILLOD Maharashtra INDIA 431112 DELIVERY NO: 22516453 State Code/POS: 27 27 State Code/POS: 27 27 GSTIN: 27AAYCS8034R12Z3 PLACE OF SUPPLY: Maharashtra, MH WAYBILLNO: __ Unit Price Total Discount] Other | Taxable CGST SGST Total S.No. Order Number Part Number Description HSN Qty Rs Rs Amount |Charges} Amount Rate Amount | Rate] Amount Amount : : Rs. Rs. Rs. % Rs. % Rs. Rs. 1 -02-1920-00279 383740KTE601 REFLECTOR,FR.SIDEREF (94019000 10 20.92 209.20 0 0 209.20) 9 18.83) 9 18.83 246.86 2 +-02-1920-00279 53140KSPA70 GRIP COMP THROTTLE 491171090 10 36.76 367.60 0 0 367.60) 14 51.46] 14 51.46 470.52 3 -02-1920-00280 35200KSP920 SW ASSY WINKER 49111090 2 305.47 610.94 0 0 610.94, 9 54.98} 9 54.98 720.90 4 -02-1920-00281 23100KWPD0O1 BELT,DRIVE 87089900 7 297.30 2081.10 0 0 2081.10) 9 187.3| 9 187.3] 2455.70 5 -02-1920-00279 17681 KTE650 UBE,FUEL 40091100 20 23.46 469.20 0 0 469.20} 9 42.23| 9 42.23 553.66 6 -02-1920-00273 83840K14900 LID,L SIDE COVER 49111090 27.56 0 0 27.56 3.86| 14 3.86 35.28 7 -02-1920-00281 85121KWS900 KEY,BLANK 491171090 156.60 0 0 156.60 14.09| 9 14.09 184.78 8 -02-1920-00280 40520KSP860ZA |CASE,UNDHALFDRIVECHA 49111090 500.66 0 0 500.66 70.09} 14 70.09 640.84 9 -02-1920-00279 53100KTEA01 PIPE STEERING HANDLE 49111090 1289.65 0 0 1289.65) 180.55| 14 180.55) 1650.75 HO }02-1920-00281 IO5030KSP860 KIT,RACE STEERING 87089900 3877.80 0 0 3877.80 542.89] 14 542.89| 4963.58 11 +-02-1920-00279 18318K86D00 PROTECTOR,MUFFLER 87141090 110.44 0 0 110.44 15.46| 14 15.46 141.36 Page No. 2o0f3 GST INVOICE NO: =MHSP/19/44817 Unit Price Total Discount] Other | Taxable CGST SGST Total S.No. Order Number Part Number Description HSN Qty Rs Rs Amount |Charges} Amount Rate Amount | Rate] Amount Amount : : Rs. Rs. Rs. % Rs. % Rs. Rs. 12 +-02-1920-00279 45220KCC841 PINCOMP.,HANGER 49111090 20 15.03 300.60 0 0 300.60) 14 42.08) 14 42.08 384.76 13 -02-1920-00273 I83740K14900 LID,R SIDE COVER 49111090 2 13.78 27.56 0 0 27.56) 14 3.86] 14 3.86 35.28 14 -02- 1920-00280 563230KSP860ZB |BRIDGE,FORKTOP *NH17 (49111090 1 404.33 404.33 0 0 404.33) 14 56.61| 14 56.61 517.55 15 +-02-1920-00279 24701KSP900 PEDAL,GEARCHANGE 49111090 7 141.33 989.31 0 0 989.31) 14 138.5} 14 138.5} 1266.31 16 +-02-1920-00281 12209GB4682 SEAL,VLV,STEM 49111090 10 19.64 196.40 0 0 196.40) 9 17.68|} 9 17.68 231.76 17 }+02-1920-00280 51500KSP872 FORK ASSY,L FRONT [94019000 1 | 1489.30 1489.30 0 0 1489.30) 14 208.5| 14 208.5| 1906.30 18 }+02-1920-00279 (06451GE2405 SEAL,SET PISTON 49111090 20 23.46 469.20 0 0 469.20) 14 65.69| 14 65.69 600.58 19 1+02-1920-00280 45251KSP861 DISK,FR.BRAKE 49111090 2 | 1190.18 2380.36 0 0 2380.36, 14 333.25| 14 333.25 | 3046.86 20 +-02-1920-00281 16016KSP911 SCREW SETA 49111090 10 46.26 462.60 0 0 462.60) 14 64.76| 14 64.76 592.12 21 -02-1920-00279 51490KST305 SEALSET,FR.FORK 491171090 8 138.79 1110.32 0 0 1110.32) 14 155.44; 14 155.44} 1421.20 22 |+02-1920-00281 B5200KTE651 SW ASSY,WINKER [94019000 1 370.75 370.75 0 0 370.75} 9 33.37| 9 33.37 437.49 23  |+02-1920-00280 17530KSPDO00ZC {TANK SUB ASSY,FUEL*N — (87141090 1 | 5356.37 5356.37 0 0 5356.37, 14 749.89| 14 749.89 | 6856.15 24 +-02-1920-00281 51103KWP940 COVER, R PIVOT 491171090 5 23.46 117.30 0 0 117.30} 14 16.42| 14 16.42 150.14 25  |+02-1920-00280 35010KSP861 KEY SET [94019000 5 624.25 3121.25 0 0 3121.25} 9 280.91} 9 280.91 | 3683.07 26 -02- 1920-00280 24701KSP900 PEDAL,GEARCHANGE 491171090 6 141.33 847.98 0 0 847.98) 14 118.72} 14 118.72} 1085.42 27 +-02-1920-00279 77260KTE600ZE |COWL SET RRR“*TYPE 491171090 1 409.94 409.94 0 0 409.94) 14 57.39| 14 57.39 524.72 28 -02-1920-00280 61100KSP860ZM |FENDER,FRONT*NHAO4M* {85061000 1 557.97 557.97 0 0 557.97, 14 78.12| 14 78.12 714.21 29 |02-1920-00280 40510KSP860ZA |CASE,UPPHALFDRIVECHA (49111090 2 250.33 500.66 0 0 500.66, 14 70.09} 14 70.09 640.84 30 -02-1920-00279 5O05380KTE910 BARCOMP.,SIDESTAND 491171090 10 71.62 716.20 0 0 716.20) 14 100.27; 14 100.27 916.74 1 -02-1920-00281 83120KTED11 UNIT,HEAD LIGHT [94019000 3 454.40 1363.20 0 0 1363.20) 9 122.69} 9 122.69| 1608.58 B2  |+02-1920-00280 51400KSP872 FORK ASSY,R FRONT 94019000 1 | 1489.30 1489.30 0 0 1489.30) 14 208.5| 14 208.5] 1906.30 B3 |+02-1920-00280 61100KSP860ZG |FENDER,FR. NHBO5P 49111090 1 568.09 568.09 0 0 568.09} 14 79.53} 14 79.53 727.15 B4  |+02-1920-00279 45132KCC841 BOOT,PINBUSH 49111090 30 9.51 285.30 0 0 285.30} 14 39.94] 14 39.94 365.18 B35 +-02-1920-00279 33110KTE741 UNIT HEAD LIGHT 491171090 3 442.36 1327.08 0 0 1327.08} 9 119.44; 9 119.44} 1565.96 B6  |+02-1920-00278 32100KSP860 HARNESS, WIRE 49111090 1 731.34 731.34 0 0 731.34, 9 65.82} 9 65.82 862.98 B37 +-02-1920-00279 77270KTE600ZE |COWL SET L RR *TYPE 491171090 1 410.67 410.67 0 0 410.67, 14 57.49| 14 57.49 525.65 B8 +-02-1920-00281 90306KTE91 1 NUT,FLANGE SPL 12MM 49111090 10 29.15 291.50 0 0 291.501 9 26.24| 9 26.24 343.98 B89  |+02-1920-00281 45132166016 BUSH, PIN 49111090 10 13.32 133.20 0 0 133.20) 14 18.65) 14 18.65 170.50 40  +02-1920-00281 383120KTEDO1 UNIT,HEAD LIGHT [94019000 3 454.40 1363.20 0 0 1363.20) 9 122.69} 9 122.69| 1608.58 261 37492.03 37492.03 4634.28 4634.28 | 46760.59 Four Thousand Six Hundred Thirt CGST Four Only y VALUE OF GOODS 37492.03 CGST 4634.28 SGST pour ony Six Hundred Thirty TOTAL AMOUNT (In Words): SGST 4634.28 PAID AMOUNT: 0 Forty Six Thousand Seven Hundred Sixty TCs: 0 One Only Page No. GST INVOICE NO: =.MHSP/19/44817 BATCH NAME: AMOUNT DUE FOR PAYMENT: 46761 TOTAL (ROUND-OFF) Certified that the particulars given above are true and correct and the amount indicated represents the price actually charged and that there is no flow of additionalconsideration directly or indirectly from the buyer. MATERIAL HYPOTHECATED BY :- State Bank of India 1. SUBJECT TO DELHI JURISDICTION ONLY. 2. CONSIGNMENT INSURED AGANIST TRANSIT POLICY NO.: 2423/60755031/00/000 3 of 3 46761\") # input sample text\n",
        "\n",
        "\n"
      ],
      "metadata": {
        "id": "3TvJCFaaJAma"
      },
      "execution_count": null,
      "outputs": []
    },
    {
      "cell_type": "code",
      "source": [
        "lst=[(ent.text, ent.label_) for ent in doc.ents] #reading spacy tokens into a list\n",
        "my_dict = {k: v for k, v in lst} #Wconverting list to dict\n",
        "my_dict = dict([(value, key) for key, value in my_dict.items()]) #removes redundant key,val and stores only necessary pair\n",
        "print(my_dict)\n",
        "with open(\"names.json\", \"w\") as fp:\n",
        "  json.dump(my_dict, fp)\n",
        "\n",
        "# print(js.type(js))"
      ],
      "metadata": {
        "colab": {
          "base_uri": "https://localhost:8080/"
        },
        "id": "b9rtTM6HMwog",
        "outputId": "d197d229-a394-48fa-80ec-d81e8f12abcb"
      },
      "execution_count": null,
      "outputs": [
        {
          "output_type": "stream",
          "name": "stdout",
          "text": [
            "{'SELLER ADDRESS': 'Survey Nos. 77, 78/1B, 78/3-5-6, 79/1-2 & 80, Raigad,Maharashtra,India-41020', 'BUYER GSTIN': '27AAYCS8034R12Z3', 'SELLER PAN': 'MH690001', 'INVOICE NUMBER': 'MHSP/19/44817 IRN:', 'IRN': '215fd4319667945cd0a08b566d2cbc8cd5befafe733c8 c3icc2497c922b0d4cf CONSIGNEE', 'ITEM FREIGHT': 'BY ROAD / BY AIR /BY HAND /BY SEA', 'BUYER ADDRESS': 'SURVEY NO.15, PLOT NO 83/2, 84', 'NET AMOUNT': '37492.03', 'SGST': '4634.28', 'GROSS AMOUNT': '46761'}\n"
          ]
        }
      ]
    },
    {
      "cell_type": "code",
      "source": [],
      "metadata": {
        "id": "_LSJXrvUZox1"
      },
      "execution_count": null,
      "outputs": []
    }
  ]
}